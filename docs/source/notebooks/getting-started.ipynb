{
 "cells": [
  {
   "cell_type": "markdown",
   "id": "6970217f",
   "metadata": {},
   "source": [
    "# Getting started"
   ]
  },
  {
   "cell_type": "code",
   "execution_count": null,
   "id": "fa8a6989",
   "metadata": {},
   "outputs": [],
   "source": [
    "import numpy as np\n",
    "import matplotlib.pyplot as plt\n",
    "\n",
    "import maria \n",
    "from maria import models"
   ]
  },
  {
   "cell_type": "code",
   "execution_count": 4,
   "id": "0eb9dd87",
   "metadata": {},
   "outputs": [
    {
     "name": "stderr",
     "output_type": "stream",
     "text": [
      "Computing weights: 100%|██████████| 3/3 [00:00<00:00, 23.87it/s]\n",
      "Generating layers: 100%|██████████| 48258/48258 [01:13<00:00, 657.56it/s] \n",
      "Sampling layers: 100%|██████████| 3/3 [00:07<00:00,  2.60s/it]\n"
     ]
    }
   ],
   "source": [
    "ACT_PA4 = maria.get_array(\"ACT_PA4\")\n",
    "daisy_pointing = maria.get_pointing(\"DAISY_5deg_45az_45el_60s\") # stare due north at an elevation of 45° for 10 minutes\n",
    "ACT_site = maria.get_site(\"ACT\")\n",
    "\n",
    "lam = maria.models.LinearAngularModel(array=ACT_PA4, pointing=daisy_pointing, site=ACT_site)\n",
    "\n",
    "NU = [90e9, 150e9]\n",
    "lam.simulate_temperature(nu=NU) # simulate detector temperatures at every nu"
   ]
  },
  {
   "cell_type": "code",
   "execution_count": null,
   "id": "bc2a7250",
   "metadata": {},
   "outputs": [],
   "source": [
    "NU = [90e9, 150e9]"
   ]
  },
  {
   "cell_type": "code",
   "execution_count": null,
   "id": "758e5590",
   "metadata": {},
   "outputs": [],
   "source": [
    "data = lam.temperature.reshape(-1, len(lam.pointing.unix))\n",
    "\n",
    "for i_nu, nu in enumerate(NU):\n",
    "\n",
    "    nu_array_mean = lam.temperature[i_nu].mean(axis=0)\n",
    "\n",
    "    plt.plot(lam.pointing.unix, 1e3 * (nu_array_mean - nu_array_mean.mean()), label=f'{1e-9*nu} GHz')\n",
    "\n",
    "plt.xlabel('time (seconds)')\n",
    "plt.ylabel(r'temperature ($mK_{RJ}$)')\n"
   ]
  }
 ],
 "metadata": {
  "kernelspec": {
   "display_name": "Python 3.9.13 ('maria')",
   "language": "python",
   "name": "python3"
  },
  "language_info": {
   "codemirror_mode": {
    "name": "ipython",
    "version": 3
   },
   "file_extension": ".py",
   "mimetype": "text/x-python",
   "name": "python",
   "nbconvert_exporter": "python",
   "pygments_lexer": "ipython3",
   "version": "3.9.13"
  },
  "vscode": {
   "interpreter": {
    "hash": "f88e5bf5f0be7bd9faa88242bcf07e5ffa7d513506f360fd3aab8d7c0fbd2667"
   }
  }
 },
 "nbformat": 4,
 "nbformat_minor": 5
}

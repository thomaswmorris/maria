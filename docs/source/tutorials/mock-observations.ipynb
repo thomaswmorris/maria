{
 "cells": [
  {
   "cell_type": "markdown",
   "metadata": {},
   "source": [
    "# Synthesized Observations"
   ]
  },
  {
   "cell_type": "markdown",
   "metadata": {},
   "source": [
    "We use Maria to generate synthetic mock observations for bolometric arrays installed on single-dish telescopes. We have developed a wrapper called 'Simulation,' which emulates telescopes like ACT, Toltec, GBT, and AtLAST. This wrapper generates time-ordered domain (TOD) data. By simulating distinct atmospheric layers corresponding to the designated site within the simulation, we allow the mock array to sweep across the input celestial sky while scanning through evolving atmosphere. As a result, the TODs produced combine elements of the real sky, atmospheric effects. This approach generates synthetic observations taking into account atmospheric filtering. "
   ]
  },
  {
   "cell_type": "markdown",
   "metadata": {},
   "source": [
    "This tutorial will guide you through the process of setting up the simulation tool and creating your own mock observations."
   ]
  },
  {
   "cell_type": "code",
   "execution_count": null,
   "metadata": {},
   "outputs": [],
   "source": [
    "import matplotlib.pyplot as plt\n",
    "import scipy as sp\n",
    "import numpy as np"
   ]
  },
  {
   "cell_type": "code",
   "execution_count": null,
   "metadata": {},
   "outputs": [],
   "source": [
    "from maria import Simulation\n",
    "from maria import mappers"
   ]
  },
  {
   "cell_type": "markdown",
   "metadata": {},
   "source": [
    "## Setting up a MUSTANG-2 Simulation\n",
    "The ```Simulation``` class offers flexibility for customizing atmospheric simulations. You can configure it to replicate observatories like 'AtLAST' at the APEX site or simulate specific observations, such as MUSTANG-2, under different weather conditions by adjusting the 'weather_quantiles' parameter within the Simulation keywords.\n",
    "\n",
    "Additionally, the ```Simulation``` class allows you to explore how different scanning strategies impact large-scale filtering. Standard strategies, like back-and-forth or Daisy scan patterns, are implemented for this purpose. For comprehensive documentation on all available keywords, please refer to our detailed documentation. \n",
    "\n",
    "Now, let's initiate an example of a mock observation involving a galaxy cluster merger event at redshift 1, observed via the SZ effect, using the Mustang-2 instrument:"
   ]
  },
  {
   "cell_type": "markdown",
   "metadata": {},
   "source": [
    "### Initialize\n",
    "First we need to initialize the telescope and weather conditions"
   ]
  },
  {
   "cell_type": "code",
   "execution_count": null,
   "metadata": {},
   "outputs": [],
   "source": [
    "pointing_center = (150.0, 10.0)\n",
    "pixel_size = 0.0001\n",
    "integration_time = 10.0 * 60.0\n",
    "\n",
    "inputfile = \"../../../maps/protocluster.fits\""
   ]
  },
  {
   "cell_type": "code",
   "execution_count": null,
   "metadata": {},
   "outputs": [],
   "source": [
    "sim = Simulation(\n",
    "    # Mandatory minimal weither settings\n",
    "    # ---------------------\n",
    "    array=\"MUSTANG-2\",  # Array type\n",
    "    pointing=\"daisy\",  # Scanning strategy\n",
    "    site=\"GBT\",  # Site\n",
    "    atm_model=None,  # \"single_layer\",  # The atmospheric model, set to None if you want a noiseless observation.\n",
    "    # True sky input\n",
    "    # ---------------------\n",
    "    map_file=inputfile,  # Input files must be a fits file.\n",
    "    # map_file can also be set to None if are only interested in the noise\n",
    "    map_center=pointing_center,  # RA & Dec in degree\n",
    "    # MUSTANG-2 Observational setup\n",
    "    # ----------------------------\n",
    "    integration_time=integration_time,  # Seconds\n",
    "    sample_rate=100,  # Hz\n",
    "    scan_center=pointing_center,  # Degrees\n",
    "    pointing_frame=\"ra_dec\",  # Frame\n",
    "    scan_radius=3 / 60.0,  # The radius of the Daisy scan in degrees\n",
    "    # Additional inputs:\n",
    "    # ----------------------\n",
    "    weather_quantiles={\n",
    "        \"column_water_vapor\": 0.1\n",
    "    },  # Weather conditions specific for that site\n",
    "    map_units=\"Jy/pixel\",  # Units of the input map in Kelvin Rayleigh Jeans (K, defeault) or Jy/pixel\n",
    "    map_res=pixel_size,  # degree, overwrites header information\n",
    ")"
   ]
  },
  {
   "cell_type": "markdown",
   "metadata": {},
   "source": [
    "### Obtaining time-ordered data (TODs)\n",
    "To acquire time-ordered data (TODs), you only need to run the script. The TOD object contains time stamps, coordinates (in RA and Dec), and the intensity of each scan for every detector. The intensity units are consistently expressed in surface brightness temperature units: Kelvin Rayleigh-Jeans (Even if the input map is given in Jy/pixel. We convert the units under the hood)."
   ]
  },
  {
   "cell_type": "code",
   "execution_count": null,
   "metadata": {},
   "outputs": [],
   "source": [
    "tod = sim.run()"
   ]
  },
  {
   "cell_type": "markdown",
   "metadata": {},
   "source": [
    "### Usefull visualizations:\n",
    "Before proceeding, we first need to adjust the input sky as specified in the Simulation class above."
   ]
  },
  {
   "cell_type": "code",
   "execution_count": null,
   "metadata": {},
   "outputs": [],
   "source": [
    "from astropy.io import fits\n",
    "from astropy.wcs import WCS\n",
    "from astropy import units as u\n",
    "from astropy.coordinates import SkyCoord\n",
    "\n",
    "# - Input figure\n",
    "hdu = fits.open(inputfile)\n",
    "\n",
    "hdu[0].data = hdu[0].data\n",
    "header = hdu[0].header\n",
    "header[\"CDELT1\"] = pixel_size  # degree\n",
    "header[\"CDELT2\"] = pixel_size  # degree\n",
    "header[\"CTYPE1\"] = \"RA---SIN\"\n",
    "header[\"CUNIT1\"] = \"deg     \"\n",
    "header[\"CTYPE2\"] = \"DEC--SIN\"\n",
    "header[\"CUNIT2\"] = \"deg     \"\n",
    "header[\"CRVAL1\"] = pointing_center[0]\n",
    "header[\"CRVAL2\"] = pointing_center[1]\n",
    "wcs_input = WCS(header, naxis=2)"
   ]
  },
  {
   "cell_type": "markdown",
   "metadata": {},
   "source": [
    "Now, let's visualize the scanning strategy and the TOD. The top two panels display the scanning trajectory in the elevation and azimuthal plane, while on the right, we present it on the celestial plane. This allows you to check if the scanning pattern aligns with the astronomical source.\n",
    "\n",
    "The two bottom panels show the mean powerspectra and time series of the observations."
   ]
  },
  {
   "cell_type": "code",
   "execution_count": null,
   "metadata": {},
   "outputs": [],
   "source": [
    "# visualize scanning patern\n",
    "# -----------------------\n",
    "cmap = \"RdBu_r\"\n",
    "\n",
    "fig = plt.figure(dpi=256, tight_layout=True)\n",
    "fig.set_size_inches(12, 5, forward=True)\n",
    "fig.suptitle(\"Scanning strategy\")\n",
    "\n",
    "# - Plot\n",
    "ax = plt.subplot(\n",
    "    1,\n",
    "    2,\n",
    "    1,\n",
    ")\n",
    "\n",
    "ax.plot(np.degrees(tod.az), np.degrees(tod.el), lw=5e-1)\n",
    "ax.set_xlabel(\"az (deg)\"), ax.set_ylabel(\"el (deg)\")\n",
    "\n",
    "ax = plt.subplot(1, 2, 2, projection=wcs_input)\n",
    "im = ax.imshow(hdu[0].data, cmap=cmap)\n",
    "\n",
    "ra, dec = ax.coords\n",
    "ra.set_major_formatter(\"hh:mm:ss\")\n",
    "dec.set_major_formatter(\"dd:mm:ss\")\n",
    "ra.set_axislabel(r\"RA [J2000]\", size=11)\n",
    "dec.set_axislabel(r\"Dec [J2000]\", size=11)\n",
    "ra.set_separator((\"h\", \"m\"))\n",
    "\n",
    "sky = SkyCoord(np.degrees(tod.ra) * u.deg, np.degrees(tod.dec) * u.deg)\n",
    "pixel_sky = wcs_input.world_to_pixel(sky)\n",
    "ax.plot(pixel_sky[0], pixel_sky[1], lw=5e-1, alpha=0.5)\n",
    "ax.set_xlabel(\"ra (deg)\"), ax.set_ylabel(\"dec (deg)\")\n",
    "plt.show()\n",
    "\n",
    "# visualize powerspectrum\n",
    "# -----------------------\n",
    "f, ps = sp.signal.periodogram(tod.data, fs=tod.time[1] - tod.time[0], window=\"tukey\")\n",
    "\n",
    "fig, axes = plt.subplots(1, 2, figsize=(10, 5), dpi=256, tight_layout=True)\n",
    "fig.suptitle(\"TOD data\")\n",
    "axes[0].plot(f[1:], ps.mean(axis=0)[1:], label=\"Observation\")\n",
    "axes[0].plot(f[1:], f[1:] ** (-8 / 3), label=\"y = f^-(8/3)\")\n",
    "axes[0].set_xlabel(r\"$\\mathscr{l}$\"), axes[0].set_ylabel(\"Power Spectra\")\n",
    "axes[0].loglog(), axes[0].legend()\n",
    "\n",
    "for uib, uband in enumerate(np.unique(tod.dets.band)):\n",
    "    band_mask = tod.dets.band == uband\n",
    "    band_mean = tod.data[band_mask].mean(axis=0)\n",
    "    axes[1].plot(tod.time - tod.time[0], band_mean, label=f\"{uband} mean\")\n",
    "\n",
    "axes[1].set_xlabel(\"time (seconds)\"), axes[1].set_ylabel(r\"temperature ($K_{RJ}$)\")\n",
    "axes[1].legend()\n",
    "\n",
    "plt.show()"
   ]
  },
  {
   "cell_type": "markdown",
   "metadata": {},
   "source": [
    "## Mapping the TODs\n",
    "To transform the TODs into images, you'll require a mapper. While you have the option to create your custom mapper using the saved TODs, we have also included a pre-implemented choice for your convenience. This built-in mapper follows a straightforward approach: it first fourier fitlers the time-streams to remove any noise smaller than the resolution of the dish and larger than the FOV. You can turn this filtering of by setting ```map_filter=False```. Then, we also remove the common mode in the timestream. We do this by removing the first eigenmode (set by ```n_modes_to_remove=1```). Then, the mapper structures the TOD on the specified grid. Notably, the mapper is designed to effectively eliminate correlated atmospheric noise among different scans, thereby enhancing the quality of the resulting images.\n",
    "\n",
    "An example of how to run the mapper on the TOD is as follows:"
   ]
  },
  {
   "cell_type": "code",
   "execution_count": null,
   "metadata": {},
   "outputs": [],
   "source": [
    "mapper = mappers.BinMapper(\n",
    "    map_height=np.radians(10 / 60),\n",
    "    map_width=np.radians(10 / 60),\n",
    "    map_res=np.radians(10 / 3600),\n",
    "    map_filter=True,\n",
    "    n_modes_to_remove=1,\n",
    ")\n",
    "mapper.add_tods(tod)\n",
    "mapper.run()"
   ]
  },
  {
   "cell_type": "markdown",
   "metadata": {},
   "source": [
    "The mapper utilizes the array information specified in the ```Simulation``` class. Below, I show the detector positions in the plane of the sky. The adjacent figure illustrates how many times a detector passed over a pixel on the map, which is related to map sensitivity and the specialized scanning strategy mentioned earlier."
   ]
  },
  {
   "cell_type": "code",
   "execution_count": null,
   "metadata": {},
   "outputs": [],
   "source": [
    "fig, axes = plt.subplots(\n",
    "    1,\n",
    "    2,\n",
    "    figsize=(10, 4.5),\n",
    "    dpi=256,\n",
    "    tight_layout=True,\n",
    "    gridspec_kw={\"width_ratios\": [1, 1.5]},\n",
    ")\n",
    "fig.suptitle(\"Detector setup for one band\")\n",
    "\n",
    "for uband in sim.array.ubands:\n",
    "    band_mask = sim.array.dets.band == uband\n",
    "\n",
    "    axes[0].plot(\n",
    "        60 * np.degrees(tod.ra - tod.ra.mean()),\n",
    "        60 * np.degrees(tod.dec - tod.dec.mean()),\n",
    "        lw=5e-1,\n",
    "        alpha=0.5,\n",
    "        label=\"Scanning Pattern\",\n",
    "    )\n",
    "    axes[0].scatter(\n",
    "        60 * np.degrees(sim.array.offset_x[band_mask]),\n",
    "        60 * np.degrees(sim.array.offset_y[band_mask]),\n",
    "        label=f\"{uband} mean\",\n",
    "        lw=5e-1,\n",
    "        c=\"orange\",\n",
    "    )\n",
    "    break\n",
    "axes[0].set_xlabel(r\"$\\theta_x$ offset (arcminutes)\"), axes[0].set_ylabel(\n",
    "    r\"$\\theta_y$ offset (arcminutes)\"\n",
    ")\n",
    "axes[0].legend()\n",
    "\n",
    "xs, ys = np.meshgrid(\n",
    "    60 * np.rad2deg((mapper.x_bins[1:] + mapper.x_bins[:-1]) / 2),\n",
    "    60 * np.rad2deg((mapper.y_bins[1:] + mapper.y_bins[:-1]) / 2),\n",
    ")\n",
    "\n",
    "im = axes[1].pcolormesh(\n",
    "    xs,\n",
    "    ys,\n",
    "    mapper.map_cnts[tod.dets.band[0]],\n",
    "    label=\"Photon counts in band \" + tod.dets.band[0],\n",
    ")\n",
    "\n",
    "axes[1].set_xlabel(r\"$\\theta_x$ (arcmin)\"), axes[1].set_ylabel(r\"$\\theta_y$ (arcmin)\")\n",
    "cbar = plt.colorbar(im, ax=axes[1])\n",
    "cbar.set_label(\"Counts\")\n",
    "plt.show()"
   ]
  },
  {
   "cell_type": "markdown",
   "metadata": {},
   "source": [
    "## Visualizing the maps\n",
    "As interesting as the detector setup, power spectra, and time series are, the goal of this module is to create synthetic images. In order to do that, we first save the maps to fits files, simply by running ```mapper.save_maps()```. This will output the fits and update the header according to the newly set observations. The units of the fits file are the same as specified in the ```Simulation``` class, so in Jy/pixel or in Kelvin Rayleigh Jeans. The saved fits file is a cube with axis (number of bands, pixels, pixels)."
   ]
  },
  {
   "cell_type": "code",
   "execution_count": null,
   "metadata": {},
   "outputs": [],
   "source": [
    "mapper.save_maps(\"/tmp/test.fits\")"
   ]
  },
  {
   "cell_type": "code",
   "execution_count": null,
   "metadata": {},
   "outputs": [],
   "source": [
    "plt.imshow(mapper.maps[\"93GHz\"])"
   ]
  },
  {
   "cell_type": "markdown",
   "metadata": {},
   "source": [
    "Below, we will visualize the maps we made, this is the final product. "
   ]
  },
  {
   "cell_type": "code",
   "execution_count": null,
   "metadata": {},
   "outputs": [],
   "source": [
    "sky_l = SkyCoord(\n",
    "    (pointing_center[0] - 4.5 / 60) * u.deg, (pointing_center[1] - 4.5 / 60.0) * u.deg\n",
    ")\n",
    "sky_u = SkyCoord(\n",
    "    (pointing_center[0] + 4.5 / 60) * u.deg, (pointing_center[1] + 4.5 / 60.0) * u.deg\n",
    ")\n",
    "\n",
    "fig = plt.figure(dpi=256, tight_layout=False)\n",
    "fig.set_size_inches(6, 5, forward=True)\n",
    "\n",
    "# - Plot Input sky\n",
    "ax = plt.subplot(1, 1, 1, projection=wcs_input)\n",
    "ax.set_title(\"True Sky\")\n",
    "im = ax.imshow(hdu[0].data * 1e3, vmin=-0.0002, vmax=0.0002, cmap=cmap)\n",
    "cbar = plt.colorbar(im, ax=ax, shrink=1.0)\n",
    "cbar.set_label(\"mJy/pixel\")\n",
    "\n",
    "ra, dec = ax.coords\n",
    "ra.set_major_formatter(\"hh:mm:ss\")\n",
    "dec.set_major_formatter(\"dd:mm:ss\")\n",
    "ra.set_axislabel(r\"RA [J2000]\", size=11)\n",
    "dec.set_axislabel(r\"Dec [J2000]\", size=11)\n",
    "ra.set_separator((\"h\", \"m\"))\n",
    "\n",
    "pixel_sky_l = wcs_input.world_to_pixel(sky_l)\n",
    "pixel_sky_u = wcs_input.world_to_pixel(sky_u)\n",
    "ax.axis(\n",
    "    xmin=pixel_sky_l[0], ymin=pixel_sky_l[1], xmax=pixel_sky_u[0], ymax=pixel_sky_u[1]\n",
    ")\n",
    "\n",
    "plt.show()\n",
    "\n",
    "# - Plot Mock observation\n",
    "outputfile = \"/tmp/test.fits\"\n",
    "\n",
    "hdu_out = fits.open(outputfile)\n",
    "wcs_output = WCS(hdu_out[0].header, naxis=2)\n",
    "\n",
    "# - Plot\n",
    "fig = plt.figure(dpi=256, tight_layout=False)\n",
    "fig.set_size_inches(6, 5, forward=True)\n",
    "\n",
    "ax = plt.subplot(1, 1, 1, projection=wcs_output)\n",
    "ax.set_title(\"Filtered Sky\")\n",
    "im = ax.imshow(hdu_out[0].data[0] * 1e3, vmin=-0.01, vmax=0.01, cmap=cmap)\n",
    "cbar = plt.colorbar(im, ax=ax, shrink=1.0)\n",
    "cbar.set_label(\"mJy/pixel\")\n",
    "\n",
    "ra, dec = ax.coords\n",
    "ra.set_major_formatter(\"hh:mm:ss\")\n",
    "dec.set_major_formatter(\"dd:mm:ss\")\n",
    "ra.set_axislabel(r\"RA [J2000]\", size=11)\n",
    "dec.set_axislabel(r\"Dec [J2000]\", size=11)\n",
    "ra.set_separator((\"h\", \"m\"))\n",
    "\n",
    "pixel_sky_l = wcs_output.world_to_pixel(sky_l)\n",
    "pixel_sky_u = wcs_output.world_to_pixel(sky_u)\n",
    "ax.axis(\n",
    "    xmin=pixel_sky_l[0], ymin=pixel_sky_l[1], xmax=pixel_sky_u[0], ymax=pixel_sky_u[1]\n",
    ")\n",
    "\n",
    "plt.show()"
   ]
  },
  {
   "cell_type": "markdown",
   "metadata": {},
   "source": [
    "# AtLAST Predictions\n",
    "Here, you can find another example of using this simulation tool for predictions. But now, in this scenario, we'll adjust all parameters to align with the AtLAST telescope design. AtLAST will have with a broad 2-degree field of view (FOV) and offers a 10\" resolution at 150 GHz. This configuration provides a more comprehensive, high spatial dynamic range, ideal for observing phenomena such as the Sunyaev-Zeldovich effect in galaxy clusters."
   ]
  },
  {
   "cell_type": "code",
   "execution_count": null,
   "metadata": {},
   "outputs": [],
   "source": [
    "pointing_center = (-10.0, 10.0)\n",
    "pixel_size = 0.001\n",
    "integration_time = 10.0 * 60.0\n",
    "\n",
    "map_file = \"../../../maps/SZ_pairs_c0001_s127_x-y-vz_p00_Jy.fits\"  # Input files must be a fits file."
   ]
  },
  {
   "cell_type": "code",
   "execution_count": null,
   "metadata": {},
   "outputs": [],
   "source": [
    "from astropy.io import fits\n",
    "from astropy.wcs import WCS\n",
    "from astropy import units as u\n",
    "from astropy.coordinates import SkyCoord\n",
    "\n",
    "# - Input figure\n",
    "inputfile = map_file\n",
    "\n",
    "hdu = fits.open(inputfile)\n",
    "hdu[0].data = hdu[0].data\n",
    "header = hdu[0].header\n",
    "header[\"CDELT1\"] = -1 * pixel_size  # degree\n",
    "header[\"CDELT2\"] = pixel_size  # degree\n",
    "header[\"CTYPE1\"] = \"RA---SIN\"\n",
    "header[\"CUNIT1\"] = \"deg     \"\n",
    "header[\"CTYPE2\"] = \"DEC--SIN\"\n",
    "header[\"CUNIT2\"] = \"deg     \"\n",
    "\n",
    "header[\"CRVAL1\"] = pointing_center[0]\n",
    "header[\"CRVAL2\"] = pointing_center[1]\n",
    "wcs_input = WCS(header, naxis=2)"
   ]
  },
  {
   "cell_type": "markdown",
   "metadata": {},
   "source": [
    "### Fine-Tuning Simulation Parameters\n",
    "\n",
    "To make predictions for AtLAST, several adjustments are required. Firstly, we need to change the pointing center. AtLAST is located near the APEX telescope in the southern hemisphere, so we set the pointing center to a Declination of -10. Additionally, we need to chance the atmospheric conditions. The defeault is set to mid-February at 6 am UT, which is an ideal time for observing with MUSTANG-2 on the GBT but not for AtLAST at Chajnantor. To achieve this, we modify the `start_time` key to August. This change also necessitates adjusting the Right Ascension (RA) of the pointing to ensure that the source remains above the horizon during the observation.\n",
    "\n",
    "Furthermore, we overwrite the field of view to be 2 degrees and set the scan radius of the daisy scan to 1.3 degrees. We also adjust the detector bandwidth to 52 GHz with a total of 2000 detectors, and set a scan period of 120 seconds. \n",
    "\n",
    "Now, it's important to note that we haven't yet developed a mapper that can handle AtLAST's large FOV. Most of the contamination will likely be a common mode in the atmosphere, which needs proper Fourier filtering. This aspect is still a work in progress. Therefore, for the time being, we conduct noiseless observations by setting `atm_model = None`."
   ]
  },
  {
   "cell_type": "code",
   "execution_count": null,
   "metadata": {},
   "outputs": [],
   "source": [
    "sim = Simulation(\n",
    "    # Mandatory minimal weither settings\n",
    "    # ---------------------\n",
    "    array=\"AtLAST\",  # Array type\n",
    "    pointing=\"daisy\",  # Scanning strategy\n",
    "    site=\"APEX\",  # Site\n",
    "    # atm_model = 'single_layer',  # The atmospheric model, set to None if you want a noiseless observation.\n",
    "    atm_model=None,  # The atmospheric model, set to None if you want a noiseless observation.\n",
    "    # True sky input\n",
    "    # ---------------------\n",
    "    map_file=map_file,  # Input files must be a fits file.\n",
    "    # map_file can also be set to None if are only interested in the noise\n",
    "    map_center=pointing_center,  # RA & Dec in degree\n",
    "    # Defeault Observational setup\n",
    "    # ----------------------------\n",
    "    integration_time=integration_time,  # seconds\n",
    "    scan_center=pointing_center,  # degrees\n",
    "    pointing_frame=\"ra_dec\",  # frame\n",
    "    scan_radius=1.3,  # Scanning radius in degrees\n",
    "    field_of_view=2.0,\n",
    "    start_time=\"2022-08-10T06:00:00\",\n",
    "    scan_period=100.0,\n",
    "    sample_rate=150.0,\n",
    "    # Additional inputs:\n",
    "    # ----------------------\n",
    "    weather_quantiles={\n",
    "        \"column_water_vapor\": 0.1\n",
    "    },  # Weather conditions specific for that site\n",
    "    map_units=\"Jy/pixel\",  # Kelvin Rayleigh Jeans (K, defeault) or Jy/pixel\n",
    "    map_res=pixel_size,  # degree, overwrites header information\n",
    ")"
   ]
  },
  {
   "cell_type": "code",
   "execution_count": null,
   "metadata": {},
   "outputs": [],
   "source": [
    "tod = sim.run()"
   ]
  },
  {
   "cell_type": "markdown",
   "metadata": {},
   "source": [
    "### Visualizing the TOD Data\n",
    "\n",
    "In this section, we present the same array and TOD visualizations as in the MUSTANG-2 case, but this time for AtLAST:"
   ]
  },
  {
   "cell_type": "code",
   "execution_count": null,
   "metadata": {},
   "outputs": [],
   "source": [
    "# visualize scanning patern\n",
    "# -----------------------\n",
    "fig = plt.figure(dpi=256, tight_layout=True)\n",
    "fig.set_size_inches(12, 5, forward=True)\n",
    "fig.suptitle(\"Scanning strategy\")\n",
    "\n",
    "# - Plot\n",
    "ax = plt.subplot(\n",
    "    1,\n",
    "    2,\n",
    "    1,\n",
    ")\n",
    "\n",
    "ax.plot(np.degrees(tod.az), np.degrees(tod.el), lw=5e-1)\n",
    "ax.set_xlabel(\"az (deg)\"), ax.set_ylabel(\"el (deg)\")\n",
    "\n",
    "ax = plt.subplot(1, 2, 2, projection=wcs_input)\n",
    "im = ax.imshow(hdu[0].data, cmap=cmap)\n",
    "\n",
    "ra, dec = ax.coords\n",
    "ra.set_major_formatter(\"hh:mm:ss\")\n",
    "dec.set_major_formatter(\"dd:mm:ss\")\n",
    "ra.set_axislabel(r\"RA [J2000]\", size=11)\n",
    "dec.set_axislabel(r\"Dec [J2000]\", size=11)\n",
    "ra.set_separator((\"h\", \"m\"))\n",
    "\n",
    "sky = SkyCoord(np.degrees(tod.ra) * u.deg, np.degrees(tod.dec) * u.deg)\n",
    "pixel_sky = wcs_input.world_to_pixel(sky)\n",
    "ax.plot(pixel_sky[0], pixel_sky[1], lw=5e-1, alpha=0.5, c=\"yellow\")\n",
    "ax.set_xlabel(\"ra (deg)\"), ax.set_ylabel(\"dec (deg)\")\n",
    "plt.show()\n",
    "\n",
    "# visualize powerspectrum\n",
    "# -----------------------\n",
    "f, ps = sp.signal.periodogram(tod.data, fs=tod.time[1] - tod.time[0], window=\"tukey\")\n",
    "\n",
    "fig, axes = plt.subplots(1, 2, figsize=(10, 5), dpi=256, tight_layout=True)\n",
    "fig.suptitle(\"TOD data\")\n",
    "axes[0].plot(f[1:], ps.mean(axis=0)[1:], label=\"Observation\")\n",
    "axes[0].plot(f[1:], f[1:] ** (-8 / 3), label=\"y = f^-(8/3)\")\n",
    "axes[0].set_xlabel(r\"$\\mathscr{l}$\"), axes[0].set_ylabel(\"Power Spectra\")\n",
    "axes[0].loglog(), axes[0].legend()\n",
    "\n",
    "for uib, uband in enumerate(np.unique(tod.dets.band)):\n",
    "    band_mask = tod.dets.band == uband\n",
    "    band_mean = tod.data[band_mask].mean(axis=0)\n",
    "    axes[1].plot(tod.time - tod.time[0], band_mean, label=f\"{uband} mean\")\n",
    "\n",
    "axes[1].set_xlabel(\"time (seconds)\"), axes[1].set_ylabel(r\"temperature ($K_{RJ}$)\")\n",
    "axes[1].legend()\n",
    "\n",
    "plt.show()"
   ]
  },
  {
   "cell_type": "markdown",
   "metadata": {},
   "source": [
    "## Map-Making\n",
    "\n",
    "As previously mentioned, we must disable Fourier filtering. Additionally, we have adjusted the height and width of the map to match the realistic AtLAST field of view, which spans several degrees."
   ]
  },
  {
   "cell_type": "code",
   "execution_count": null,
   "metadata": {},
   "outputs": [],
   "source": [
    "mapper = mappers.BinMapper(\n",
    "    map_height=np.radians(4.5),\n",
    "    map_width=np.radians(4.5),\n",
    "    map_res=np.radians(pixel_size),\n",
    "    map_filter=False,\n",
    "    n_modes_to_remove=1,\n",
    ")\n",
    "mapper.add_tods(tod)\n",
    "mapper.run()"
   ]
  },
  {
   "cell_type": "code",
   "execution_count": null,
   "metadata": {},
   "outputs": [],
   "source": [
    "fig, axes = plt.subplots(\n",
    "    1,\n",
    "    2,\n",
    "    figsize=(10, 4.5),\n",
    "    dpi=256,\n",
    "    tight_layout=True,\n",
    "    gridspec_kw={\"width_ratios\": [1, 1.5]},\n",
    ")\n",
    "fig.suptitle(\"Detector setup for one band\")\n",
    "\n",
    "for uband in sim.array.ubands:\n",
    "    band_mask = sim.array.dets.band == uband\n",
    "\n",
    "    axes[0].plot(\n",
    "        60 * np.degrees(tod.ra - tod.ra.mean()),\n",
    "        60 * np.degrees(tod.dec - tod.dec.mean()),\n",
    "        lw=5e-1,\n",
    "        alpha=0.5,\n",
    "    )\n",
    "    axes[0].scatter(\n",
    "        60 * np.degrees(sim.array.offset_x[band_mask]),\n",
    "        60 * np.degrees(sim.array.offset_y[band_mask]),\n",
    "        label=f\"{uband} mean\",\n",
    "        lw=5e-1,\n",
    "        c=\"orange\",\n",
    "    )\n",
    "    break\n",
    "axes[0].set_xlabel(r\"$\\theta_x$ offset (arcminutes)\"), axes[0].set_ylabel(\n",
    "    r\"$\\theta_y$ offset (arcminutes)\"\n",
    ")\n",
    "axes[0].legend()\n",
    "\n",
    "xs, ys = np.meshgrid(\n",
    "    60 * np.rad2deg((mapper.x_bins[1:] + mapper.x_bins[:-1]) / 2),\n",
    "    60 * np.rad2deg((mapper.y_bins[1:] + mapper.y_bins[:-1]) / 2),\n",
    ")\n",
    "\n",
    "im = axes[1].pcolormesh(\n",
    "    xs,\n",
    "    ys,\n",
    "    mapper.map_cnts[tod.dets.band[0]],\n",
    "    label=\"Photon counts in band \" + tod.dets.band[0],\n",
    ")\n",
    "\n",
    "axes[1].set_xlabel(r\"$\\theta_x$ (arcmin)\"), axes[1].set_ylabel(r\"$\\theta_y$ (arcmin)\")\n",
    "cbar = plt.colorbar(im, ax=axes[1])\n",
    "cbar.set_label(\"Counts\")\n",
    "plt.show()"
   ]
  },
  {
   "cell_type": "markdown",
   "metadata": {},
   "source": [
    "## Save & Visualize"
   ]
  },
  {
   "cell_type": "code",
   "execution_count": null,
   "metadata": {},
   "outputs": [],
   "source": [
    "mapper.save_maps(\"/tmp/test2.fits\")"
   ]
  },
  {
   "cell_type": "code",
   "execution_count": null,
   "metadata": {},
   "outputs": [],
   "source": [
    "sky_l = SkyCoord((pointing_center[0] - 4) * u.deg, (pointing_center[1] - 4) * u.deg)\n",
    "sky_u = SkyCoord((pointing_center[0] + 4) * u.deg, (pointing_center[1] + 4) * u.deg)\n",
    "\n",
    "fig = plt.figure(dpi=256, tight_layout=False)\n",
    "fig.set_size_inches(12, 5, forward=True)\n",
    "\n",
    "# - Plot\n",
    "ax = plt.subplot(1, 1, 1, projection=wcs_input)\n",
    "ax.set_title(\"True Sky\")\n",
    "im = ax.imshow(hdu[0].data * 1e3, cmap=cmap)\n",
    "cbar = plt.colorbar(im, ax=ax, shrink=1.0)\n",
    "\n",
    "ra, dec = ax.coords\n",
    "ra.set_major_formatter(\"hh:mm:ss\")\n",
    "dec.set_major_formatter(\"dd:mm:ss\")\n",
    "ra.set_axislabel(r\"RA [J2000]\", size=11)\n",
    "dec.set_axislabel(r\"Dec [J2000]\", size=11)\n",
    "ra.set_separator((\"h\", \"m\"))\n",
    "\n",
    "pixel_sky_l = wcs_input.world_to_pixel(sky_l)\n",
    "pixel_sky_u = wcs_input.world_to_pixel(sky_u)\n",
    "ax.axis(\n",
    "    xmax=pixel_sky_l[0], ymin=pixel_sky_l[1], xmin=pixel_sky_u[0], ymax=pixel_sky_u[1]\n",
    ")\n",
    "plt.show()\n",
    "\n",
    "# - Mock observation\n",
    "outputfile = \"/tmp/test2.fits\"\n",
    "\n",
    "hdu_out = fits.open(outputfile)\n",
    "wcs_output = WCS(hdu_out[0].header, naxis=2)\n",
    "\n",
    "\n",
    "fig = plt.figure(dpi=256, tight_layout=False)\n",
    "fig.set_size_inches(12, 5, forward=True)\n",
    "\n",
    "# - Plot\n",
    "ax = plt.subplot(1, 1, 1, projection=wcs_output)\n",
    "ax.set_title(\"Filtered Sky\")\n",
    "im = ax.imshow(hdu_out[0].data[0] * 1e3, cmap=cmap, vmax=0)\n",
    "cbar = plt.colorbar(im, ax=ax, shrink=1.0)\n",
    "cbar.set_label(\"mJy/pixel\")\n",
    "\n",
    "ra, dec = ax.coords\n",
    "ra.set_major_formatter(\"hh:mm:ss\")\n",
    "dec.set_major_formatter(\"dd:mm:ss\")\n",
    "ra.set_axislabel(r\"RA [J2000]\", size=11)\n",
    "dec.set_axislabel(r\" \", size=11)\n",
    "ra.set_separator((\"h\", \"m\"))\n",
    "\n",
    "pixel_sky_l = wcs_output.world_to_pixel(sky_l)\n",
    "pixel_sky_u = wcs_output.world_to_pixel(sky_u)\n",
    "ax.axis(\n",
    "    xmax=pixel_sky_l[0], ymin=pixel_sky_l[1], xmin=pixel_sky_u[0], ymax=pixel_sky_u[1]\n",
    ")\n",
    "\n",
    "plt.show()"
   ]
  },
  {
   "cell_type": "markdown",
   "metadata": {},
   "source": [
    "## Fidelity Test\n",
    "\n",
    "To gain insight into how the scanning strategy influences the quality of the observation, we've created a simple fidelity map. This map illustrates how modifying the scanning strategy impacts the recovery of your science. In particular, the sampling rate and scanning period have a significant influence on the image's fidelity. We are continually working on optimizing the scanning strategy for AtLAST, but you are welcome to experiment with these values yourself to observe their effect on the fidelity map."
   ]
  },
  {
   "cell_type": "code",
   "execution_count": null,
   "metadata": {},
   "outputs": [],
   "source": [
    "from reproject import reproject_interp\n",
    "\n",
    "sim_projected, footprint = reproject_interp(\n",
    "    (hdu[0].data, wcs_input), wcs_output, shape_out=hdu_out[0].data[0].shape\n",
    ")"
   ]
  },
  {
   "cell_type": "code",
   "execution_count": null,
   "metadata": {},
   "outputs": [],
   "source": [
    "fig = plt.figure(dpi=256, tight_layout=False)\n",
    "fig.set_size_inches(12, 5, forward=True)\n",
    "\n",
    "# - Plot\n",
    "ax = plt.subplot(1, 1, 1, projection=wcs_output)\n",
    "ax.set_title(\"Weighted Ratio\")\n",
    "im = ax.imshow((sim_projected / hdu_out[0].data[0]) - 1, cmap=cmap, vmin=-2, vmax=5)\n",
    "cbar = plt.colorbar(im, ax=ax, shrink=1.0)\n",
    "# cbar.set_label('mock/sim - 1')\n",
    "\n",
    "ra, dec = ax.coords\n",
    "ra.set_major_formatter(\"hh:mm:ss\")\n",
    "dec.set_major_formatter(\"dd:mm:ss\")\n",
    "ra.set_axislabel(r\"RA [J2000]\", size=11)\n",
    "dec.set_axislabel(r\"Dec [J2000]\", size=11)\n",
    "ra.set_separator((\"h\", \"m\"))\n",
    "\n",
    "pixel_sky_l = wcs_output.world_to_pixel(sky_l)\n",
    "pixel_sky_u = wcs_output.world_to_pixel(sky_u)\n",
    "ax.axis(\n",
    "    xmax=pixel_sky_l[0], ymin=pixel_sky_l[1], xmin=pixel_sky_u[0], ymax=pixel_sky_u[1]\n",
    ")\n",
    "\n",
    "plt.show()"
   ]
  },
  {
   "cell_type": "code",
   "execution_count": null,
   "metadata": {},
   "outputs": [],
   "source": []
  }
 ],
 "metadata": {
  "kernelspec": {
   "display_name": "Python 3 (ipykernel)",
   "language": "python",
   "name": "python3"
  },
  "language_info": {
   "codemirror_mode": {
    "name": "ipython",
    "version": 3
   },
   "file_extension": ".py",
   "mimetype": "text/x-python",
   "name": "python",
   "nbconvert_exporter": "python",
   "pygments_lexer": "ipython3",
   "version": "3.10.0"
  },
  "vscode": {
   "interpreter": {
    "hash": "f88e5bf5f0be7bd9faa88242bcf07e5ffa7d513506f360fd3aab8d7c0fbd2667"
   }
  }
 },
 "nbformat": 4,
 "nbformat_minor": 4
}

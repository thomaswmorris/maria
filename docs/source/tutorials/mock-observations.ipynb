{
 "cells": [
  {
   "cell_type": "markdown",
   "metadata": {},
   "source": [
    "# Synthesized Observations"
   ]
  },
  {
   "cell_type": "markdown",
   "metadata": {},
   "source": [
    "We can employ the Maria software to generate synthetic mock observations of bolometric arrays mounted on large single-dish telescopes. We developed a wrapper known as \"Simulation,\" which emulates telescopes such as ACT, Toltec, GBT, and AtLAST. The wrapper produces time-ordered domain (TOD) data. By simulating distinct atmospheric layers that correspond to the designated site within the simulation, we enable the mock-array to sweep across the actual celestial sky while encountering varying atmospheric conditions in between. Consequently, the TODs produced will be a composite of the genuine sky, atmospheric effects, and detector noise (based on the white noise measurements of ACT). Through this approach, the process of generating mock-observations also yields filtered observations, effectively dampening the sensitivity to larger scales due to the atmospheric interferences."
   ]
  },
  {
   "cell_type": "markdown",
   "metadata": {},
   "source": [
    "This tutorial will explain you how to setup the simulation tool an make your own mock-observations."
   ]
  },
  {
   "cell_type": "code",
   "execution_count": null,
   "metadata": {},
   "outputs": [],
   "source": [
    "import matplotlib.pyplot as plt\n",
    "import scipy as sp\n",
    "import numpy as np"
   ]
  },
  {
   "cell_type": "code",
   "execution_count": null,
   "metadata": {},
   "outputs": [],
   "source": [
    "from maria import Simulation\n",
    "from maria import mappers"
   ]
  },
  {
   "cell_type": "markdown",
   "metadata": {},
   "source": [
    "## Set up the Simulation\n",
    "The \"Simulation\" class offers the flexibility to incorporate various inputs tailored to atmospheric simulations. For instance, it allows the creation of an observatory like 'AtLAST,' situated at the APEX site. Similarly, if the intention is to simulate Mustang-2 observations but, for instance, under less favorable weather conditions, adjusting the 'quantiles' parameter within the Simulation keywords can achieve this.\n",
    "\n",
    "Furthermore, the Simulation class accommodates the exploration of how different scanning strategies affect the filtering of large scales. Standard strategies, such as the back-and-forth or Daisy scan patterns, have been implemented for this purpose. This feature enables the study of how the chosen scanning approach influences the overall large-scale filtering.\n",
    "\n",
    "For comprehensive documentation regarding all available keywords, we recommend consulting the detailed documentation provided at [insert documentation reference]. Now, let's proceed to initiate an example of a mock observation involving a significant galaxy cluster merger event at redshift 1 observed via the SZ effect, utilizing the Mustang-2 instrument:"
   ]
  },
  {
   "cell_type": "markdown",
   "metadata": {},
   "source": [
    "### Initialize\n",
    "First we need to initialize the telescope and weather conditions"
   ]
  },
  {
   "cell_type": "code",
   "execution_count": null,
   "metadata": {},
   "outputs": [],
   "source": [
    "sim = Simulation(\n",
    "\n",
    "    # Mandatory minimal weither settings\n",
    "    # ---------------------\n",
    "    array     = 'MUSTANG-2',       # Array type\n",
    "    pointing  = 'DAISY-2deg',      # Scanning strategy \n",
    "    site      = 'GBT',             # Site\n",
    "    atm_model = 'linear_angular',  # The atmospheric model, set to None if you want a noiseless observation.\n",
    "    # atm_model = None,              # The atmospheric model, set to None if you want a noiseless observation.\n",
    "    \n",
    "    # True sky input\n",
    "    # ---------------------\n",
    "    map_file     = \"../../../maps/protocluster.fits\",                     # Input files must be a fits file.\n",
    "                                                                          # map_file can also be set to None if are only interested in the noise\n",
    "    map_center   = (4.5, 10),                                             # RA & Dec in degree\n",
    "\n",
    "    # Defeault Observational setup\n",
    "    # ----------------------------\n",
    "    integration_time = 600,        # seconds\n",
    "    scan_center      = (4.5, 10),    # degrees\n",
    "    pointing_frame   = \"ra_dec\",     # frame\n",
    "    scan_radius      = 0.05,         # How large the scanning pattern is in degree\n",
    "\n",
    "    # Additional inputs:\n",
    "    # ----------------------\n",
    "    quantiles    = {'column_water_vapor' : 0.5},    # Weather conditions specific for that site\n",
    "    map_units    = 'Jy/pixel',                      # Kelvin Rayleigh Jeans (K, defeault) or Jy/pixel \n",
    "    map_inbright = -2e-9,                           # Linearly scale the map to have this peak value.\n",
    "    map_res      = 0.1 / 1000,                      # degree, overwrites header information\n",
    ")   \n"
   ]
  },
  {
   "cell_type": "markdown",
   "metadata": {},
   "source": [
    "### Get the TODs\n",
    "To get the time ordered domain (TOD) data you simply need to run the script. The tod is an object which has the time, and coordinates stored together with the intensity of each scan per detector. The units of the intensities are always outputted in surface brightness temperature units: Kelvin Rayleigh Jeans."
   ]
  },
  {
   "cell_type": "code",
   "execution_count": null,
   "metadata": {},
   "outputs": [],
   "source": [
    "tod = sim.run()"
   ]
  },
  {
   "cell_type": "markdown",
   "metadata": {},
   "source": [
    "### Usefull visualizations:\n",
    "We first need to adjust the input sky as specified in the Simulation class above"
   ]
  },
  {
   "cell_type": "code",
   "execution_count": null,
   "metadata": {},
   "outputs": [],
   "source": [
    "from astropy.io import fits\n",
    "from astropy.wcs import WCS\n",
    "from astropy import units as u\n",
    "from astropy.coordinates import SkyCoord\n",
    "\n",
    "# - Input figure\n",
    "inputfile =  \"../../../maps/protocluster.fits\"\n",
    "hdu = fits.open(inputfile)\n",
    "\n",
    "hdu[0].data = hdu[0].data * -2e-9/np.nanmax(hdu[0].data) \n",
    "header = hdu[0].header\n",
    "header['CDELT1'] = 0.1 / 1000 # degree\n",
    "header['CDELT2'] = 0.1 / 1000 # degree\n",
    "header['CTYPE1'] = 'RA---SIN'\n",
    "header['CUNIT1'] = 'deg     ' \n",
    "header['CTYPE2'] = 'DEC--SIN' \n",
    "header['CUNIT2'] = 'deg     '\n",
    "\n",
    "header['CRVAL1'] = (4.5, 10)[0] \n",
    "header['CRVAL2'] = (4.5, 10)[1] \n",
    "wcs_input = WCS(header, naxis = 2)  "
   ]
  },
  {
   "cell_type": "markdown",
   "metadata": {},
   "source": [
    "Now let's visualize the scanning strategy and the TOD data"
   ]
  },
  {
   "cell_type": "code",
   "execution_count": null,
   "metadata": {},
   "outputs": [],
   "source": [
    "# visualize scanning patern\n",
    "# -----------------------\n",
    "fig = plt.figure(dpi = 256, tight_layout=True)\n",
    "fig.set_size_inches(12, 5, forward=True)\n",
    "fig.suptitle('Scanning strategy')\n",
    "\n",
    "# - Plot\n",
    "ax = plt.subplot(1,2,1,)\n",
    "\n",
    "ax.plot(np.degrees(tod.az), np.degrees(tod.el), lw=5e-1)\n",
    "ax.set_xlabel(\"az (deg)\"), ax.set_ylabel(\"el (deg)\")\n",
    "\n",
    "ax = plt.subplot(1,2,2, projection=wcs_input)\n",
    "im = ax.imshow(hdu[0].data)\n",
    "\n",
    "ra, dec = ax.coords\n",
    "ra.set_major_formatter('hh:mm:ss')\n",
    "dec.set_major_formatter('dd:mm:ss')\n",
    "ra.set_axislabel(r\"RA [J2000]\", size=11)\n",
    "dec.set_axislabel(r\"Dec [J2000]\", size=11)\n",
    "ra.set_separator((\"h\", \"m\"))\n",
    "\n",
    "sky = SkyCoord(np.degrees(tod.ra)*u.deg, np.degrees(tod.dec)*u.deg)\n",
    "pixel_sky = wcs_input.world_to_pixel(sky)\n",
    "ax.plot(pixel_sky[0], pixel_sky[1], lw=5e-1)\n",
    "ax.set_xlabel(\"ra (deg)\"), ax.set_ylabel(\"dec (deg)\")\n",
    "plt.show()\n",
    "\n",
    "# visualize powerspectrum\n",
    "# -----------------------\n",
    "f, ps = sp.signal.periodogram(tod.data, fs=tod.time[1]-tod.time[0], window=\"tukey\")\n",
    "\n",
    "fig, axes = plt.subplots(1, 2, figsize=(10, 5), dpi=256, tight_layout=True)\n",
    "fig.suptitle('TOD data')\n",
    "axes[0].plot(f[1:], ps.mean(axis=0)[1:], label=\"Observation\")\n",
    "axes[0].plot(f[1:], f[1:] ** (-8 / 3), label=\"y = f^-(8/3)\")\n",
    "axes[0].set_xlabel(r\"$\\mathscr{l}$\"), axes[0].set_ylabel(\"Power Spectra\")\n",
    "axes[0].loglog(), axes[0].legend()\n",
    "\n",
    "for uib, uband in enumerate(np.unique(tod.dets.band)):\n",
    "    band_mask = tod.dets.band == uband\n",
    "    band_mean = tod.data[band_mask].mean(axis=0)\n",
    "    axes[1].plot(tod.time - tod.time[0], band_mean, label=f'{uband} mean')\n",
    "\n",
    "axes[1].set_xlabel('time (seconds)'), axes[1].set_ylabel(r'temperature ($K_{RJ}$)')\n",
    "axes[1].legend()\n",
    "\n",
    "plt.show()"
   ]
  },
  {
   "cell_type": "markdown",
   "metadata": {},
   "source": [
    "## Mapping the TODs\n",
    "To create images from the TODs, you'll need a mapper. While you can develop your own mapper using the saved TODs, we've also included a pre-implemented option for your convenience. This built-in mapper follows a straightforward approach: it combines data into bins, removes the first eigenmode, and arranges the data on a grid. Notably, the mapper is designed to effectively eliminate correlated atmospheric noise present among different scans, thereby enhancing the quality of the resulting images."
   ]
  },
  {
   "cell_type": "markdown",
   "metadata": {},
   "source": [
    "An example of running a mapper on the tod works as follows:"
   ]
  },
  {
   "cell_type": "code",
   "execution_count": null,
   "metadata": {},
   "outputs": [],
   "source": [
    "mapper = mappers.BinMapper(map_height=np.radians(10/60),\n",
    "                           map_width=np.radians(10/60),\n",
    "                           map_res=np.radians(0.4/1000))\n",
    "mapper.add_tods(tod)\n",
    "mapper.run()"
   ]
  },
  {
   "cell_type": "markdown",
   "metadata": {},
   "source": [
    "The mapper uses the Array information specificied above. Below you can find the detector positions in the plane of the sky. Then, the figure next to it, shows how many time a detector passed a certain pixel on the map which is related to the sensitivity of map and the scanning strategy specialized above. "
   ]
  },
  {
   "cell_type": "code",
   "execution_count": null,
   "metadata": {},
   "outputs": [],
   "source": [
    "\n",
    "fig, axes = plt.subplots(1, 2, figsize=(10, 4.5), dpi=256, tight_layout=True, gridspec_kw={'width_ratios': [1,1.5]})\n",
    "fig.suptitle('Detector setup for one band')\n",
    "\n",
    "for uband in sim.array.ubands:\n",
    "\n",
    "    band_mask = sim.array.dets.band == uband\n",
    "\n",
    "    axes[0].plot(60*np.degrees(tod.ra-tod.ra.mean()), 60*np.degrees(tod.dec-tod.dec.mean()), lw=5e-1)    \n",
    "    axes[0].scatter(60 * np.degrees(sim.array.sky_x[band_mask]), \n",
    "                    60 * np.degrees(sim.array.sky_y[band_mask]),\n",
    "                    label=f'{uband} mean', lw=5e-1, c = 'orange')\n",
    "    break\n",
    "axes[0].set_xlabel(r'$\\theta_x$ offset (arcminutes)'), axes[0].set_ylabel(r'$\\theta_y$ offset (arcminutes)')\n",
    "axes[0].legend()\n",
    "\n",
    "xs, ys = np.meshgrid(60*np.rad2deg((mapper.x_bins[1:] + mapper.x_bins[:-1])/2),\n",
    "                     60*np.rad2deg((mapper.y_bins[1:] + mapper.y_bins[:-1])/2))\n",
    "       \n",
    "im = axes[1].pcolormesh(\n",
    "                   xs, \n",
    "                   ys, \n",
    "                   mapper.map_cnts[tod.dets.band[0]], \n",
    "                   label = 'Photon counts in band '+ tod.dets.band[0])\n",
    "\n",
    "axes[1].set_xlabel(r'$\\theta_x$ (arcmin)'), axes[1].set_ylabel(r'$\\theta_y$ (arcmin)')\n",
    "cbar = plt.colorbar(im, ax = axes[1])\n",
    "cbar.set_label('Counts')\n",
    "plt.show()"
   ]
  },
  {
   "cell_type": "markdown",
   "metadata": {},
   "source": [
    "# Visualzing the maps\n",
    "As interesting as the detector setup, power spectra, and time series are, the goal of this module is to create synthetic observations. Here, we will take you through how to retrieve the scientific data and measure the noise properties of the observations. \n",
    "\n",
    "First, we can save the maps to fits files, simply by running ```mapper.save()```. This will output the fits and update the header according to the newly set observations."
   ]
  },
  {
   "cell_type": "code",
   "execution_count": null,
   "metadata": {},
   "outputs": [],
   "source": [
    "mapper.save_maps(\"/tmp/test.fits\")"
   ]
  },
  {
   "cell_type": "markdown",
   "metadata": {},
   "source": [
    "Let's show what we got. On the left we show the input map which we adjusted a in the Simulation class. Therefore, we need to adjust the header of the input map too."
   ]
  },
  {
   "cell_type": "code",
   "execution_count": null,
   "metadata": {},
   "outputs": [],
   "source": [
    "import cmocean\n",
    "\n",
    "fig = plt.figure(dpi = 256, tight_layout=False)\n",
    "fig.set_size_inches(12, 5, forward=True)\n",
    "\n",
    "vmax = 0\n",
    "vmin = np.nanmin(hdu[0].data)/1.2\n",
    "\n",
    "# - Plot\n",
    "ax = plt.subplot(1,2,1, projection=wcs_input)\n",
    "ax.set_title('True Sky')\n",
    "im = ax.imshow(hdu[0].data, vmin = vmin, vmax = vmax, cmap = cmocean.cm.deep)\n",
    "cbar = plt.colorbar(im, ax = ax, shrink = 1.)\n",
    "\n",
    "ra, dec = ax.coords\n",
    "ra.set_major_formatter('hh:mm:ss')\n",
    "dec.set_major_formatter('dd:mm:ss')\n",
    "ra.set_axislabel(r\"RA [J2000]\", size=11)\n",
    "dec.set_axislabel(r\"Dec [J2000]\", size=11)\n",
    "ra.set_separator((\"h\", \"m\"))\n",
    "\n",
    "sky_l = SkyCoord((4.5-3/60)*u.deg, (10-3/60.)*u.deg)\n",
    "sky_u = SkyCoord((4.5+3/60)*u.deg, (10+3/60.)*u.deg)\n",
    "pixel_sky_l = wcs_input.world_to_pixel(sky_l)\n",
    "pixel_sky_u = wcs_input.world_to_pixel(sky_u)\n",
    "ax.axis(xmin = pixel_sky_l[0], ymin = pixel_sky_l[1], xmax = pixel_sky_u[0], ymax = pixel_sky_u[1])\n",
    "# - Mock observation\n",
    "outputfile = \"/tmp/test_93GHz.fits\"\n",
    "\n",
    "hdu_out = fits.open(outputfile)\n",
    "wcs_output = WCS(hdu_out[0].header, naxis = 2)  \n",
    "\n",
    "# - Plot\n",
    "ax = plt.subplot(1,2,2, projection=wcs_output)\n",
    "ax.set_title('Filtered Sky')\n",
    "im = ax.imshow(hdu_out[0].data, vmin = np.nanmin(hdu_out[0].data), vmax = -1*np.nanmin(hdu_out[0].data), cmap = cmocean.cm.deep)\n",
    "cbar = plt.colorbar(im, ax = ax, shrink = 1.)\n",
    "cbar.set_label('Jy/pixel')\n",
    "\n",
    "ra, dec = ax.coords\n",
    "ra.set_major_formatter('hh:mm:ss')\n",
    "dec.set_major_formatter('dd:mm:ss')\n",
    "ra.set_axislabel(r\"RA [J2000]\", size=11)\n",
    "dec.set_axislabel(r\" \", size=11)\n",
    "ra.set_separator((\"h\", \"m\"))\n",
    "\n",
    "pixel_sky_l = wcs_output.world_to_pixel(sky_l)\n",
    "pixel_sky_u = wcs_output.world_to_pixel(sky_u)\n",
    "ax.axis(xmin = pixel_sky_l[0], ymin = pixel_sky_l[1], xmax = pixel_sky_u[0], ymax = pixel_sky_u[1])\n",
    "\n",
    "plt.show()\n"
   ]
  },
  {
   "cell_type": "markdown",
   "metadata": {},
   "source": [
    "# AtLAST"
   ]
  },
  {
   "cell_type": "markdown",
   "metadata": {},
   "source": []
  },
  {
   "cell_type": "markdown",
   "metadata": {},
   "source": [
    "# Fidellity test"
   ]
  },
  {
   "cell_type": "markdown",
   "metadata": {},
   "source": [
    "# Specializing your observation set"
   ]
  },
  {
   "cell_type": "markdown",
   "metadata": {},
   "source": [
    "## Change the Telescope\n",
    "LIM test"
   ]
  },
  {
   "cell_type": "markdown",
   "metadata": {},
   "source": []
  }
 ],
 "metadata": {
  "kernelspec": {
   "display_name": "Python 3.11.4 64-bit",
   "language": "python",
   "name": "python3"
  },
  "language_info": {
   "codemirror_mode": {
    "name": "ipython",
    "version": 3
   },
   "file_extension": ".py",
   "mimetype": "text/x-python",
   "name": "python",
   "nbconvert_exporter": "python",
   "pygments_lexer": "ipython3",
   "version": "3.11.4"
  },
  "vscode": {
   "interpreter": {
    "hash": "b0fa6594d8f4cbf19f97940f81e996739fb7646882a419484c72d19e05852a7e"
   }
  }
 },
 "nbformat": 4,
 "nbformat_minor": 4
}

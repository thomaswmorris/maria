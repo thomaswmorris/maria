{
 "cells": [
  {
   "cell_type": "markdown",
   "metadata": {},
   "source": [
    "# AtLAST Predictions\n",
    "Here, you can find another example of using this simulation tool for predictions. But now, in this scenario, we'll adjust all parameters to align with the AtLAST telescope design. AtLAST will have with a broad 2-degree field of view (FOV) and offers a 10\" resolution at 150 GHz. This configuration provides a more comprehensive, high spatial dynamic range, ideal for observing phenomena such as the Sunyaev-Zeldovich effect in galaxy clusters."
   ]
  },
  {
   "cell_type": "code",
   "execution_count": 6,
   "metadata": {},
   "outputs": [],
   "source": [
    "import matplotlib.pyplot as plt\n",
    "import scipy as sp\n",
    "import numpy as np"
   ]
  },
  {
   "cell_type": "code",
   "execution_count": 7,
   "metadata": {},
   "outputs": [
    {
     "data": {
      "text/plain": [
       "'0.post14.dev0+gc500b8e'"
      ]
     },
     "execution_count": 7,
     "metadata": {},
     "output_type": "execute_result"
    }
   ],
   "source": [
    "from maria import Simulation\n",
    "from maria import mappers\n",
    "\n",
    "import maria \n",
    "maria.__version__"
   ]
  },
  {
   "cell_type": "code",
   "execution_count": 8,
   "metadata": {},
   "outputs": [],
   "source": [
    "pixel_size = 0.001\n",
    "\n",
    "map_center = (-10.0, 10.0)\n",
    "\n",
    "integration_time = 60\n",
    "\n",
    "map_file = \"../../../maria/map/examples/SZ_pairs_c0001_s127_x-y-vz_p00_Jy.fits\"  # Input files must be a fits file."
   ]
  },
  {
   "cell_type": "code",
   "execution_count": 9,
   "metadata": {},
   "outputs": [
    {
     "ename": "FileNotFoundError",
     "evalue": "[Errno 2] No such file or directory: '../../../maps/SZ_pairs_c0001_s127_x-y-vz_p00_Jy.fits'",
     "output_type": "error",
     "traceback": [
      "\u001b[0;31m---------------------------------------------------------------------------\u001b[0m",
      "\u001b[0;31mFileNotFoundError\u001b[0m                         Traceback (most recent call last)",
      "Cell \u001b[0;32mIn[9], line 10\u001b[0m\n\u001b[1;32m      7\u001b[0m cmap \u001b[38;5;241m=\u001b[39m \u001b[38;5;124m\"\u001b[39m\u001b[38;5;124mRdBu_r\u001b[39m\u001b[38;5;124m\"\u001b[39m\n\u001b[1;32m      8\u001b[0m inputfile \u001b[38;5;241m=\u001b[39m map_file\n\u001b[0;32m---> 10\u001b[0m hdu \u001b[38;5;241m=\u001b[39m \u001b[43mfits\u001b[49m\u001b[38;5;241;43m.\u001b[39;49m\u001b[43mopen\u001b[49m\u001b[43m(\u001b[49m\u001b[43minputfile\u001b[49m\u001b[43m)\u001b[49m\n\u001b[1;32m     11\u001b[0m hdu[\u001b[38;5;241m0\u001b[39m]\u001b[38;5;241m.\u001b[39mdata \u001b[38;5;241m=\u001b[39m hdu[\u001b[38;5;241m0\u001b[39m]\u001b[38;5;241m.\u001b[39mdata\n\u001b[1;32m     12\u001b[0m header \u001b[38;5;241m=\u001b[39m hdu[\u001b[38;5;241m0\u001b[39m]\u001b[38;5;241m.\u001b[39mheader\n",
      "File \u001b[0;32m~/opt/anaconda3/envs/maria/lib/python3.10/site-packages/astropy/io/fits/hdu/hdulist.py:213\u001b[0m, in \u001b[0;36mfitsopen\u001b[0;34m(name, mode, memmap, save_backup, cache, lazy_load_hdus, ignore_missing_simple, use_fsspec, fsspec_kwargs, **kwargs)\u001b[0m\n\u001b[1;32m    210\u001b[0m \u001b[38;5;28;01mif\u001b[39;00m \u001b[38;5;129;01mnot\u001b[39;00m name:\n\u001b[1;32m    211\u001b[0m     \u001b[38;5;28;01mraise\u001b[39;00m \u001b[38;5;167;01mValueError\u001b[39;00m(\u001b[38;5;124mf\u001b[39m\u001b[38;5;124m\"\u001b[39m\u001b[38;5;124mEmpty filename: \u001b[39m\u001b[38;5;132;01m{\u001b[39;00mname\u001b[38;5;132;01m!r}\u001b[39;00m\u001b[38;5;124m\"\u001b[39m)\n\u001b[0;32m--> 213\u001b[0m \u001b[38;5;28;01mreturn\u001b[39;00m \u001b[43mHDUList\u001b[49m\u001b[38;5;241;43m.\u001b[39;49m\u001b[43mfromfile\u001b[49m\u001b[43m(\u001b[49m\n\u001b[1;32m    214\u001b[0m \u001b[43m    \u001b[49m\u001b[43mname\u001b[49m\u001b[43m,\u001b[49m\n\u001b[1;32m    215\u001b[0m \u001b[43m    \u001b[49m\u001b[43mmode\u001b[49m\u001b[43m,\u001b[49m\n\u001b[1;32m    216\u001b[0m \u001b[43m    \u001b[49m\u001b[43mmemmap\u001b[49m\u001b[43m,\u001b[49m\n\u001b[1;32m    217\u001b[0m \u001b[43m    \u001b[49m\u001b[43msave_backup\u001b[49m\u001b[43m,\u001b[49m\n\u001b[1;32m    218\u001b[0m \u001b[43m    \u001b[49m\u001b[43mcache\u001b[49m\u001b[43m,\u001b[49m\n\u001b[1;32m    219\u001b[0m \u001b[43m    \u001b[49m\u001b[43mlazy_load_hdus\u001b[49m\u001b[43m,\u001b[49m\n\u001b[1;32m    220\u001b[0m \u001b[43m    \u001b[49m\u001b[43mignore_missing_simple\u001b[49m\u001b[43m,\u001b[49m\n\u001b[1;32m    221\u001b[0m \u001b[43m    \u001b[49m\u001b[43muse_fsspec\u001b[49m\u001b[38;5;241;43m=\u001b[39;49m\u001b[43muse_fsspec\u001b[49m\u001b[43m,\u001b[49m\n\u001b[1;32m    222\u001b[0m \u001b[43m    \u001b[49m\u001b[43mfsspec_kwargs\u001b[49m\u001b[38;5;241;43m=\u001b[39;49m\u001b[43mfsspec_kwargs\u001b[49m\u001b[43m,\u001b[49m\n\u001b[1;32m    223\u001b[0m \u001b[43m    \u001b[49m\u001b[38;5;241;43m*\u001b[39;49m\u001b[38;5;241;43m*\u001b[39;49m\u001b[43mkwargs\u001b[49m\u001b[43m,\u001b[49m\n\u001b[1;32m    224\u001b[0m \u001b[43m\u001b[49m\u001b[43m)\u001b[49m\n",
      "File \u001b[0;32m~/opt/anaconda3/envs/maria/lib/python3.10/site-packages/astropy/io/fits/hdu/hdulist.py:476\u001b[0m, in \u001b[0;36mHDUList.fromfile\u001b[0;34m(cls, fileobj, mode, memmap, save_backup, cache, lazy_load_hdus, ignore_missing_simple, **kwargs)\u001b[0m\n\u001b[1;32m    457\u001b[0m \u001b[38;5;129m@classmethod\u001b[39m\n\u001b[1;32m    458\u001b[0m \u001b[38;5;28;01mdef\u001b[39;00m \u001b[38;5;21mfromfile\u001b[39m(\n\u001b[1;32m    459\u001b[0m     \u001b[38;5;28mcls\u001b[39m,\n\u001b[0;32m   (...)\u001b[0m\n\u001b[1;32m    467\u001b[0m     \u001b[38;5;241m*\u001b[39m\u001b[38;5;241m*\u001b[39mkwargs,\n\u001b[1;32m    468\u001b[0m ):\n\u001b[1;32m    469\u001b[0m \u001b[38;5;250m    \u001b[39m\u001b[38;5;124;03m\"\"\"\u001b[39;00m\n\u001b[1;32m    470\u001b[0m \u001b[38;5;124;03m    Creates an `HDUList` instance from a file-like object.\u001b[39;00m\n\u001b[1;32m    471\u001b[0m \n\u001b[0;32m   (...)\u001b[0m\n\u001b[1;32m    474\u001b[0m \u001b[38;5;124;03m    documentation for details of the parameters accepted by this method).\u001b[39;00m\n\u001b[1;32m    475\u001b[0m \u001b[38;5;124;03m    \"\"\"\u001b[39;00m\n\u001b[0;32m--> 476\u001b[0m     \u001b[38;5;28;01mreturn\u001b[39;00m \u001b[38;5;28;43mcls\u001b[39;49m\u001b[38;5;241;43m.\u001b[39;49m\u001b[43m_readfrom\u001b[49m\u001b[43m(\u001b[49m\n\u001b[1;32m    477\u001b[0m \u001b[43m        \u001b[49m\u001b[43mfileobj\u001b[49m\u001b[38;5;241;43m=\u001b[39;49m\u001b[43mfileobj\u001b[49m\u001b[43m,\u001b[49m\n\u001b[1;32m    478\u001b[0m \u001b[43m        \u001b[49m\u001b[43mmode\u001b[49m\u001b[38;5;241;43m=\u001b[39;49m\u001b[43mmode\u001b[49m\u001b[43m,\u001b[49m\n\u001b[1;32m    479\u001b[0m \u001b[43m        \u001b[49m\u001b[43mmemmap\u001b[49m\u001b[38;5;241;43m=\u001b[39;49m\u001b[43mmemmap\u001b[49m\u001b[43m,\u001b[49m\n\u001b[1;32m    480\u001b[0m \u001b[43m        \u001b[49m\u001b[43msave_backup\u001b[49m\u001b[38;5;241;43m=\u001b[39;49m\u001b[43msave_backup\u001b[49m\u001b[43m,\u001b[49m\n\u001b[1;32m    481\u001b[0m \u001b[43m        \u001b[49m\u001b[43mcache\u001b[49m\u001b[38;5;241;43m=\u001b[39;49m\u001b[43mcache\u001b[49m\u001b[43m,\u001b[49m\n\u001b[1;32m    482\u001b[0m \u001b[43m        \u001b[49m\u001b[43mignore_missing_simple\u001b[49m\u001b[38;5;241;43m=\u001b[39;49m\u001b[43mignore_missing_simple\u001b[49m\u001b[43m,\u001b[49m\n\u001b[1;32m    483\u001b[0m \u001b[43m        \u001b[49m\u001b[43mlazy_load_hdus\u001b[49m\u001b[38;5;241;43m=\u001b[39;49m\u001b[43mlazy_load_hdus\u001b[49m\u001b[43m,\u001b[49m\n\u001b[1;32m    484\u001b[0m \u001b[43m        \u001b[49m\u001b[38;5;241;43m*\u001b[39;49m\u001b[38;5;241;43m*\u001b[39;49m\u001b[43mkwargs\u001b[49m\u001b[43m,\u001b[49m\n\u001b[1;32m    485\u001b[0m \u001b[43m    \u001b[49m\u001b[43m)\u001b[49m\n",
      "File \u001b[0;32m~/opt/anaconda3/envs/maria/lib/python3.10/site-packages/astropy/io/fits/hdu/hdulist.py:1146\u001b[0m, in \u001b[0;36mHDUList._readfrom\u001b[0;34m(cls, fileobj, data, mode, memmap, cache, lazy_load_hdus, ignore_missing_simple, use_fsspec, fsspec_kwargs, **kwargs)\u001b[0m\n\u001b[1;32m   1143\u001b[0m \u001b[38;5;28;01mif\u001b[39;00m fileobj \u001b[38;5;129;01mis\u001b[39;00m \u001b[38;5;129;01mnot\u001b[39;00m \u001b[38;5;28;01mNone\u001b[39;00m:\n\u001b[1;32m   1144\u001b[0m     \u001b[38;5;28;01mif\u001b[39;00m \u001b[38;5;129;01mnot\u001b[39;00m \u001b[38;5;28misinstance\u001b[39m(fileobj, _File):\n\u001b[1;32m   1145\u001b[0m         \u001b[38;5;66;03m# instantiate a FITS file object (ffo)\u001b[39;00m\n\u001b[0;32m-> 1146\u001b[0m         fileobj \u001b[38;5;241m=\u001b[39m \u001b[43m_File\u001b[49m\u001b[43m(\u001b[49m\n\u001b[1;32m   1147\u001b[0m \u001b[43m            \u001b[49m\u001b[43mfileobj\u001b[49m\u001b[43m,\u001b[49m\n\u001b[1;32m   1148\u001b[0m \u001b[43m            \u001b[49m\u001b[43mmode\u001b[49m\u001b[38;5;241;43m=\u001b[39;49m\u001b[43mmode\u001b[49m\u001b[43m,\u001b[49m\n\u001b[1;32m   1149\u001b[0m \u001b[43m            \u001b[49m\u001b[43mmemmap\u001b[49m\u001b[38;5;241;43m=\u001b[39;49m\u001b[43mmemmap\u001b[49m\u001b[43m,\u001b[49m\n\u001b[1;32m   1150\u001b[0m \u001b[43m            \u001b[49m\u001b[43mcache\u001b[49m\u001b[38;5;241;43m=\u001b[39;49m\u001b[43mcache\u001b[49m\u001b[43m,\u001b[49m\n\u001b[1;32m   1151\u001b[0m \u001b[43m            \u001b[49m\u001b[43muse_fsspec\u001b[49m\u001b[38;5;241;43m=\u001b[39;49m\u001b[43muse_fsspec\u001b[49m\u001b[43m,\u001b[49m\n\u001b[1;32m   1152\u001b[0m \u001b[43m            \u001b[49m\u001b[43mfsspec_kwargs\u001b[49m\u001b[38;5;241;43m=\u001b[39;49m\u001b[43mfsspec_kwargs\u001b[49m\u001b[43m,\u001b[49m\n\u001b[1;32m   1153\u001b[0m \u001b[43m        \u001b[49m\u001b[43m)\u001b[49m\n\u001b[1;32m   1154\u001b[0m     \u001b[38;5;66;03m# The Astropy mode is determined by the _File initializer if the\u001b[39;00m\n\u001b[1;32m   1155\u001b[0m     \u001b[38;5;66;03m# supplied mode was None\u001b[39;00m\n\u001b[1;32m   1156\u001b[0m     mode \u001b[38;5;241m=\u001b[39m fileobj\u001b[38;5;241m.\u001b[39mmode\n",
      "File \u001b[0;32m~/opt/anaconda3/envs/maria/lib/python3.10/site-packages/astropy/io/fits/file.py:217\u001b[0m, in \u001b[0;36m_File.__init__\u001b[0;34m(self, fileobj, mode, memmap, overwrite, cache, use_fsspec, fsspec_kwargs)\u001b[0m\n\u001b[1;32m    215\u001b[0m     \u001b[38;5;28mself\u001b[39m\u001b[38;5;241m.\u001b[39m_open_fileobj(fileobj, mode, overwrite)\n\u001b[1;32m    216\u001b[0m \u001b[38;5;28;01melif\u001b[39;00m \u001b[38;5;28misinstance\u001b[39m(fileobj, (\u001b[38;5;28mstr\u001b[39m, \u001b[38;5;28mbytes\u001b[39m)):\n\u001b[0;32m--> 217\u001b[0m     \u001b[38;5;28;43mself\u001b[39;49m\u001b[38;5;241;43m.\u001b[39;49m\u001b[43m_open_filename\u001b[49m\u001b[43m(\u001b[49m\u001b[43mfileobj\u001b[49m\u001b[43m,\u001b[49m\u001b[43m \u001b[49m\u001b[43mmode\u001b[49m\u001b[43m,\u001b[49m\u001b[43m \u001b[49m\u001b[43moverwrite\u001b[49m\u001b[43m)\u001b[49m\n\u001b[1;32m    218\u001b[0m \u001b[38;5;28;01melse\u001b[39;00m:\n\u001b[1;32m    219\u001b[0m     \u001b[38;5;28mself\u001b[39m\u001b[38;5;241m.\u001b[39m_open_filelike(fileobj, mode, overwrite)\n",
      "File \u001b[0;32m~/opt/anaconda3/envs/maria/lib/python3.10/site-packages/astropy/io/fits/file.py:626\u001b[0m, in \u001b[0;36m_File._open_filename\u001b[0;34m(self, filename, mode, overwrite)\u001b[0m\n\u001b[1;32m    623\u001b[0m ext \u001b[38;5;241m=\u001b[39m os\u001b[38;5;241m.\u001b[39mpath\u001b[38;5;241m.\u001b[39msplitext(\u001b[38;5;28mself\u001b[39m\u001b[38;5;241m.\u001b[39mname)[\u001b[38;5;241m1\u001b[39m]\n\u001b[1;32m    625\u001b[0m \u001b[38;5;28;01mif\u001b[39;00m \u001b[38;5;129;01mnot\u001b[39;00m \u001b[38;5;28mself\u001b[39m\u001b[38;5;241m.\u001b[39m_try_read_compressed(\u001b[38;5;28mself\u001b[39m\u001b[38;5;241m.\u001b[39mname, magic, mode, ext\u001b[38;5;241m=\u001b[39mext):\n\u001b[0;32m--> 626\u001b[0m     \u001b[38;5;28mself\u001b[39m\u001b[38;5;241m.\u001b[39m_file \u001b[38;5;241m=\u001b[39m \u001b[38;5;28;43mopen\u001b[39;49m\u001b[43m(\u001b[49m\u001b[38;5;28;43mself\u001b[39;49m\u001b[38;5;241;43m.\u001b[39;49m\u001b[43mname\u001b[49m\u001b[43m,\u001b[49m\u001b[43m \u001b[49m\u001b[43mIO_FITS_MODES\u001b[49m\u001b[43m[\u001b[49m\u001b[43mmode\u001b[49m\u001b[43m]\u001b[49m\u001b[43m)\u001b[49m\n\u001b[1;32m    627\u001b[0m     \u001b[38;5;28mself\u001b[39m\u001b[38;5;241m.\u001b[39mclose_on_error \u001b[38;5;241m=\u001b[39m \u001b[38;5;28;01mTrue\u001b[39;00m\n\u001b[1;32m    629\u001b[0m \u001b[38;5;66;03m# Make certain we're back at the beginning of the file\u001b[39;00m\n\u001b[1;32m    630\u001b[0m \u001b[38;5;66;03m# BZ2File does not support seek when the file is open for writing, but\u001b[39;00m\n\u001b[1;32m    631\u001b[0m \u001b[38;5;66;03m# when opening a file for write, bz2.BZ2File always truncates anyway.\u001b[39;00m\n",
      "\u001b[0;31mFileNotFoundError\u001b[0m: [Errno 2] No such file or directory: '../../../maps/SZ_pairs_c0001_s127_x-y-vz_p00_Jy.fits'"
     ]
    }
   ],
   "source": [
    "from astropy.io import fits\n",
    "from astropy.wcs import WCS\n",
    "from astropy import units as u\n",
    "from astropy.coordinates import SkyCoord\n",
    "\n",
    "# - Input figure\n",
    "cmap = \"RdBu_r\"\n",
    "inputfile = map_file\n",
    "\n",
    "hdu = fits.open(inputfile)\n",
    "hdu[0].data = hdu[0].data\n",
    "header = hdu[0].header\n",
    "header[\"CDELT1\"] = -1 * pixel_size  # degree\n",
    "header[\"CDELT2\"] = pixel_size  # degree\n",
    "header[\"CTYPE1\"] = \"RA---SIN\"\n",
    "header[\"CUNIT1\"] = \"deg     \"\n",
    "header[\"CTYPE2\"] = \"DEC--SIN\"\n",
    "header[\"CUNIT2\"] = \"deg     \"\n",
    "\n",
    "header[\"CRVAL1\"] = map_center[0]\n",
    "header[\"CRVAL2\"] = map_center[1]\n",
    "wcs_input = WCS(header, naxis=2)"
   ]
  },
  {
   "cell_type": "markdown",
   "metadata": {},
   "source": [
    "### Fine-Tuning Simulation Parameters\n",
    "\n",
    "To make predictions for AtLAST, several adjustments are required. Firstly, we need to change the pointing center. AtLAST is located near the APEX telescope in the southern hemisphere, so we set the pointing center to a Declination of -10. Additionally, we need to chance the atmospheric conditions. The defeault is set to mid-February at 6 am UT, which is an ideal time for observing with MUSTANG-2 on the GBT but not for AtLAST at Chajnantor. To achieve this, we modify the `start_time` key to August. This change also necessitates adjusting the Right Ascension (RA) of the pointing to ensure that the source remains above the horizon during the observation.\n",
    "\n",
    "Furthermore, we overwrite the field of view to be 2 degrees and set the scan radius of the daisy scan to 1.3 degrees. We also adjust the detector bandwidth to 52 GHz with a total of 2000 detectors, and set a scan period of 120 seconds. \n",
    "\n",
    "Now, it's important to note that we haven't yet developed a mapper that can handle AtLAST's large FOV. Most of the contamination will likely be a common mode in the atmosphere, which needs proper Fourier filtering. This aspect is still a work in progress. Therefore, for the time being, we conduct noiseless observations by setting `atm_model = None`."
   ]
  },
  {
   "cell_type": "code",
   "execution_count": 4,
   "metadata": {},
   "outputs": [
    {
     "ename": "NameError",
     "evalue": "name 'map_file' is not defined",
     "output_type": "error",
     "traceback": [
      "\u001b[0;31m---------------------------------------------------------------------------\u001b[0m",
      "\u001b[0;31mNameError\u001b[0m                                 Traceback (most recent call last)",
      "Cell \u001b[0;32mIn[4], line 11\u001b[0m\n\u001b[1;32m      1\u001b[0m sim \u001b[38;5;241m=\u001b[39m Simulation(\n\u001b[1;32m      2\u001b[0m     \u001b[38;5;66;03m# Mandatory minimal weither settings\u001b[39;00m\n\u001b[1;32m      3\u001b[0m     \u001b[38;5;66;03m# ---------------------\u001b[39;00m\n\u001b[1;32m      4\u001b[0m     array\u001b[38;5;241m=\u001b[39m\u001b[38;5;124m\"\u001b[39m\u001b[38;5;124mAtLAST\u001b[39m\u001b[38;5;124m\"\u001b[39m,  \u001b[38;5;66;03m# Array type\u001b[39;00m\n\u001b[1;32m      5\u001b[0m     pointing\u001b[38;5;241m=\u001b[39m\u001b[38;5;124m\"\u001b[39m\u001b[38;5;124mdaisy\u001b[39m\u001b[38;5;124m\"\u001b[39m,  \u001b[38;5;66;03m# Scanning strategy\u001b[39;00m\n\u001b[1;32m      6\u001b[0m     site\u001b[38;5;241m=\u001b[39m\u001b[38;5;124m\"\u001b[39m\u001b[38;5;124mAPEX\u001b[39m\u001b[38;5;124m\"\u001b[39m,  \u001b[38;5;66;03m# Site\u001b[39;00m\n\u001b[1;32m      7\u001b[0m     \u001b[38;5;66;03m# atm_model = 'single_layer',  # The atmospheric model, set to None if you want a noiseless observation.\u001b[39;00m\n\u001b[1;32m      8\u001b[0m     atm_model\u001b[38;5;241m=\u001b[39m\u001b[38;5;28;01mNone\u001b[39;00m,  \u001b[38;5;66;03m# The atmospheric model, set to None if you want a noiseless observation.\u001b[39;00m\n\u001b[1;32m      9\u001b[0m     \u001b[38;5;66;03m# True sky input\u001b[39;00m\n\u001b[1;32m     10\u001b[0m     \u001b[38;5;66;03m# ---------------------\u001b[39;00m\n\u001b[0;32m---> 11\u001b[0m     map_file\u001b[38;5;241m=\u001b[39m\u001b[43mmap_file\u001b[49m,  \u001b[38;5;66;03m# Input files must be a fits file.\u001b[39;00m\n\u001b[1;32m     12\u001b[0m     \u001b[38;5;66;03m# map_file can also be set to None if are only interested in the noise\u001b[39;00m\n\u001b[1;32m     13\u001b[0m     scan_center\u001b[38;5;241m=\u001b[39mmap_center,\n\u001b[1;32m     14\u001b[0m     map_center\u001b[38;5;241m=\u001b[39mmap_center,  \u001b[38;5;66;03m# RA & Dec in degree    \u001b[39;00m\n\u001b[1;32m     15\u001b[0m     integration_time \u001b[38;5;241m=\u001b[39m integration_time,\n\u001b[1;32m     16\u001b[0m     \u001b[38;5;66;03m# Defeault Observational setup\u001b[39;00m\n\u001b[1;32m     17\u001b[0m     \u001b[38;5;66;03m# ----------------------------\u001b[39;00m\n\u001b[1;32m     18\u001b[0m     pointing_frame\u001b[38;5;241m=\u001b[39m\u001b[38;5;124m\"\u001b[39m\u001b[38;5;124mra_dec\u001b[39m\u001b[38;5;124m\"\u001b[39m,  \u001b[38;5;66;03m# frame\u001b[39;00m\n\u001b[1;32m     19\u001b[0m     field_of_view\u001b[38;5;241m=\u001b[39m\u001b[38;5;241m2.0\u001b[39m,\n\u001b[1;32m     20\u001b[0m     dets\u001b[38;5;241m=\u001b[39m{\u001b[38;5;124m\"\u001b[39m\u001b[38;5;124mf090\u001b[39m\u001b[38;5;124m\"\u001b[39m: {\u001b[38;5;124m\"\u001b[39m\u001b[38;5;124mn\u001b[39m\u001b[38;5;124m\"\u001b[39m: \u001b[38;5;241m2000\u001b[39m, \u001b[38;5;124m\"\u001b[39m\u001b[38;5;124mband_center\u001b[39m\u001b[38;5;124m\"\u001b[39m: \u001b[38;5;241m92.0\u001b[39m, \u001b[38;5;124m\"\u001b[39m\u001b[38;5;124mband_width\u001b[39m\u001b[38;5;124m\"\u001b[39m: \u001b[38;5;241m52.0\u001b[39m}},\n\u001b[1;32m     21\u001b[0m     start_time\u001b[38;5;241m=\u001b[39m\u001b[38;5;124m\"\u001b[39m\u001b[38;5;124m2022-08-10T06:00:00\u001b[39m\u001b[38;5;124m\"\u001b[39m,\n\u001b[1;32m     22\u001b[0m     scan_options\u001b[38;5;241m=\u001b[39m{\u001b[38;5;124m\"\u001b[39m\u001b[38;5;124mspeed\u001b[39m\u001b[38;5;124m\"\u001b[39m: \u001b[38;5;241m1\u001b[39m, \u001b[38;5;124m\"\u001b[39m\u001b[38;5;124mradius\u001b[39m\u001b[38;5;124m\"\u001b[39m: \u001b[38;5;241m1.3\u001b[39m, \u001b[38;5;124m\"\u001b[39m\u001b[38;5;124mpetals\u001b[39m\u001b[38;5;124m\"\u001b[39m: \u001b[38;5;241m2.11\u001b[39m},\n\u001b[1;32m     23\u001b[0m     sample_rate\u001b[38;5;241m=\u001b[39m\u001b[38;5;241m100.0\u001b[39m,\n\u001b[1;32m     24\u001b[0m     \u001b[38;5;66;03m# Additional inputs:\u001b[39;00m\n\u001b[1;32m     25\u001b[0m     \u001b[38;5;66;03m# ----------------------\u001b[39;00m\n\u001b[1;32m     26\u001b[0m     weather_quantiles\u001b[38;5;241m=\u001b[39m{\n\u001b[1;32m     27\u001b[0m         \u001b[38;5;124m\"\u001b[39m\u001b[38;5;124mcolumn_water_vapor\u001b[39m\u001b[38;5;124m\"\u001b[39m: \u001b[38;5;241m0.1\u001b[39m\n\u001b[1;32m     28\u001b[0m     },  \u001b[38;5;66;03m# Weather conditions specific for that site\u001b[39;00m\n\u001b[1;32m     29\u001b[0m     map_units\u001b[38;5;241m=\u001b[39m\u001b[38;5;124m\"\u001b[39m\u001b[38;5;124mJy/pixel\u001b[39m\u001b[38;5;124m\"\u001b[39m,  \u001b[38;5;66;03m# Kelvin Rayleigh Jeans (K, defeault) or Jy/pixel\u001b[39;00m\n\u001b[1;32m     30\u001b[0m     map_res\u001b[38;5;241m=\u001b[39mpixel_size,  \u001b[38;5;66;03m# degree, overwrites header information\u001b[39;00m\n\u001b[1;32m     31\u001b[0m )\n",
      "\u001b[0;31mNameError\u001b[0m: name 'map_file' is not defined"
     ]
    }
   ],
   "source": [
    "sim = Simulation(\n",
    "    # Mandatory minimal weither settings\n",
    "    # ---------------------\n",
    "    array=\"AtLAST\",  # Array type\n",
    "    pointing=\"daisy\",  # Scanning strategy\n",
    "    site=\"APEX\",  # Site\n",
    "    # atm_model = 'single_layer',  # The atmospheric model, set to None if you want a noiseless observation.\n",
    "    atm_model=None,  # The atmospheric model, set to None if you want a noiseless observation.\n",
    "    # True sky input\n",
    "    # ---------------------\n",
    "    map_file=map_file,  # Input files must be a fits file.\n",
    "    # map_file can also be set to None if are only interested in the noise\n",
    "    scan_center=map_center,\n",
    "    map_center=map_center,  # RA & Dec in degree    \n",
    "    integration_time = integration_time,\n",
    "    # Defeault Observational setup\n",
    "    # ----------------------------\n",
    "    pointing_frame=\"ra_dec\",  # frame\n",
    "    field_of_view=2.0,\n",
    "    dets={\"f090\": {\"n\": 2000, \"band_center\": 92.0, \"band_width\": 52.0}},\n",
    "    start_time=\"2022-08-10T06:00:00\",\n",
    "    scan_options={\"speed\": 1, \"radius\": 1.3, \"petals\": 2.11},\n",
    "    sample_rate=100.0,\n",
    "    # Additional inputs:\n",
    "    # ----------------------\n",
    "    weather_quantiles={\n",
    "        \"column_water_vapor\": 0.1\n",
    "    },  # Weather conditions specific for that site\n",
    "    map_units=\"Jy/pixel\",  # Kelvin Rayleigh Jeans (K, defeault) or Jy/pixel\n",
    "    map_res=pixel_size,  # degree, overwrites header information\n",
    ")"
   ]
  },
  {
   "cell_type": "code",
   "execution_count": null,
   "metadata": {},
   "outputs": [],
   "source": [
    "sim.a"
   ]
  },
  {
   "cell_type": "code",
   "execution_count": null,
   "metadata": {},
   "outputs": [],
   "source": [
    "tod = sim.run()"
   ]
  },
  {
   "cell_type": "markdown",
   "metadata": {},
   "source": [
    "### Visualizing the TOD Data\n",
    "\n",
    "In this section, we present the same array and TOD visualizations as in the MUSTANG-2 case, but this time for AtLAST:"
   ]
  },
  {
   "cell_type": "code",
   "execution_count": null,
   "metadata": {},
   "outputs": [],
   "source": [
    "# visualize scanning patern\n",
    "# -----------------------\n",
    "fig = plt.figure(dpi=256, tight_layout=True)\n",
    "fig.set_size_inches(12, 5, forward=True)\n",
    "fig.suptitle(\"Scanning strategy\")\n",
    "\n",
    "# - Plot\n",
    "ax = plt.subplot(\n",
    "    1,\n",
    "    2,\n",
    "    1,\n",
    ")\n",
    "\n",
    "ax.plot(np.degrees(tod.az), np.degrees(tod.el), lw=5e-1)\n",
    "ax.set_xlabel(\"az (deg)\"), ax.set_ylabel(\"el (deg)\")\n",
    "\n",
    "ax = plt.subplot(1, 2, 2, projection=wcs_input)\n",
    "im = ax.imshow(hdu[0].data, cmap=cmap)\n",
    "\n",
    "ra, dec = ax.coords\n",
    "ra.set_major_formatter(\"hh:mm:ss\")\n",
    "dec.set_major_formatter(\"dd:mm:ss\")\n",
    "ra.set_axislabel(r\"RA [J2000]\", size=11)\n",
    "dec.set_axislabel(r\"Dec [J2000]\", size=11)\n",
    "ra.set_separator((\"h\", \"m\"))\n",
    "\n",
    "sky = SkyCoord(np.degrees(tod.ra) * u.deg, np.degrees(tod.dec) * u.deg)\n",
    "pixel_sky = wcs_input.world_to_pixel(sky)\n",
    "ax.plot(pixel_sky[0], pixel_sky[1], lw=5e-1, alpha=0.5, c=\"yellow\")\n",
    "ax.set_xlabel(\"ra (deg)\"), ax.set_ylabel(\"dec (deg)\")\n",
    "plt.show()\n",
    "\n",
    "# visualize powerspectrum\n",
    "# -----------------------\n",
    "f, ps = sp.signal.periodogram(tod.data, fs=tod.time[1] - tod.time[0], window=\"tukey\")\n",
    "\n",
    "fig, axes = plt.subplots(1, 2, figsize=(10, 5), dpi=256, tight_layout=True)\n",
    "fig.suptitle(\"TOD data\")\n",
    "axes[0].plot(f[1:], ps.mean(axis=0)[1:], label=\"Observation\")\n",
    "axes[0].plot(f[1:], f[1:] ** (-8 / 3), label=\"y = f^-(8/3)\")\n",
    "axes[0].set_xlabel(r\"$\\mathscr{l}$\"), axes[0].set_ylabel(\"Power Spectra\")\n",
    "axes[0].loglog(), axes[0].legend()\n",
    "\n",
    "for uib, uband in enumerate(np.unique(tod.dets.band)):\n",
    "    band_mask = tod.dets.band == uband\n",
    "    band_mean = tod.data[band_mask].mean(axis=0)\n",
    "    axes[1].plot(tod.time - tod.time[0], band_mean, label=f\"{uband} mean\")\n",
    "\n",
    "axes[1].set_xlabel(\"time (seconds)\"), axes[1].set_ylabel(r\"temperature ($K_{RJ}$)\")\n",
    "axes[1].legend()\n",
    "\n",
    "plt.show()"
   ]
  },
  {
   "cell_type": "markdown",
   "metadata": {},
   "source": [
    "## Map-Making\n",
    "\n",
    "As previously mentioned, we must disable Fourier filtering. Additionally, we have adjusted the height and width of the map to match the realistic AtLAST field of view, which spans several degrees."
   ]
  },
  {
   "cell_type": "code",
   "execution_count": null,
   "metadata": {},
   "outputs": [],
   "source": [
    "mapper = mappers.BinMapper(\n",
    "    map_height=np.radians(4.5),\n",
    "    map_width=np.radians(4.5),\n",
    "    map_res=np.radians(4 * pixel_size),\n",
    "    map_filter=False,\n",
    "    n_modes_to_remove=1,\n",
    ")\n",
    "mapper.add_tods(tod)\n",
    "mapper.run()"
   ]
  },
  {
   "cell_type": "code",
   "execution_count": null,
   "metadata": {},
   "outputs": [],
   "source": [
    "fig, axes = plt.subplots(\n",
    "    1,\n",
    "    2,\n",
    "    figsize=(10, 4.5),\n",
    "    dpi=256,\n",
    "    tight_layout=True,\n",
    "    gridspec_kw={\"width_ratios\": [1, 1.5]},\n",
    ")\n",
    "fig.suptitle(\"Detector setup for one band\")\n",
    "\n",
    "for uband in sim.array.ubands:\n",
    "    band_mask = sim.array.dets.band == uband\n",
    "\n",
    "    axes[0].plot(\n",
    "        60 * np.degrees(tod.ra - tod.ra.mean()),\n",
    "        60 * np.degrees(tod.dec - tod.dec.mean()),\n",
    "        lw=5e-1,\n",
    "        alpha=0.5,\n",
    "    )\n",
    "    axes[0].scatter(\n",
    "        60 * np.degrees(sim.array.offset_x[band_mask]),\n",
    "        60 * np.degrees(sim.array.offset_y[band_mask]),\n",
    "        label=f\"{uband} mean\",\n",
    "        lw=5e-1,\n",
    "        c=\"orange\",\n",
    "    )\n",
    "    break\n",
    "axes[0].set_xlabel(r\"$\\theta_x$ offset (arcminutes)\"), axes[0].set_ylabel(\n",
    "    r\"$\\theta_y$ offset (arcminutes)\"\n",
    ")\n",
    "axes[0].legend()\n",
    "\n",
    "xs, ys = np.meshgrid(\n",
    "    60 * np.rad2deg((mapper.x_bins[1:] + mapper.x_bins[:-1]) / 2),\n",
    "    60 * np.rad2deg((mapper.y_bins[1:] + mapper.y_bins[:-1]) / 2),\n",
    ")\n",
    "\n",
    "im = axes[1].pcolormesh(\n",
    "    xs,\n",
    "    ys,\n",
    "    mapper.map_cnts[tod.dets.band[0]],\n",
    "    label=\"Photon counts in band \" + tod.dets.band[0],\n",
    ")\n",
    "\n",
    "axes[1].set_xlabel(r\"$\\theta_x$ (arcmin)\"), axes[1].set_ylabel(r\"$\\theta_y$ (arcmin)\")\n",
    "cbar = plt.colorbar(im, ax=axes[1])\n",
    "cbar.set_label(\"Counts\")\n",
    "plt.show()"
   ]
  },
  {
   "cell_type": "markdown",
   "metadata": {},
   "source": [
    "## Save & Visualize"
   ]
  },
  {
   "cell_type": "code",
   "execution_count": null,
   "metadata": {},
   "outputs": [],
   "source": [
    "mapper.save_maps(\"/tmp/test2.fits\")"
   ]
  },
  {
   "cell_type": "code",
   "execution_count": null,
   "metadata": {},
   "outputs": [],
   "source": [
    "sky_l = SkyCoord((map_center[0] - 4) * u.deg, (map_center[1] - 4) * u.deg)\n",
    "sky_u = SkyCoord((map_center[0] + 4) * u.deg, (map_center[1] + 4) * u.deg)\n",
    "\n",
    "fig = plt.figure(dpi=256, tight_layout=False)\n",
    "fig.set_size_inches(12, 5, forward=True)\n",
    "\n",
    "# - Plot\n",
    "ax = plt.subplot(1, 1, 1, projection=wcs_input)\n",
    "ax.set_title(\"True Sky\")\n",
    "im = ax.imshow(hdu[0].data * 1e3, cmap=cmap)\n",
    "cbar = plt.colorbar(im, ax=ax, shrink=1.0)\n",
    "\n",
    "ra, dec = ax.coords\n",
    "ra.set_major_formatter(\"hh:mm:ss\")\n",
    "dec.set_major_formatter(\"dd:mm:ss\")\n",
    "ra.set_axislabel(r\"RA [J2000]\", size=11)\n",
    "dec.set_axislabel(r\"Dec [J2000]\", size=11)\n",
    "ra.set_separator((\"h\", \"m\"))\n",
    "\n",
    "pixel_sky_l = wcs_input.world_to_pixel(sky_l)\n",
    "pixel_sky_u = wcs_input.world_to_pixel(sky_u)\n",
    "ax.axis(\n",
    "    xmax=pixel_sky_l[0], ymin=pixel_sky_l[1], xmin=pixel_sky_u[0], ymax=pixel_sky_u[1]\n",
    ")\n",
    "plt.show()\n",
    "\n",
    "# - Mock observation\n",
    "outputfile = \"/tmp/test2.fits\"\n",
    "\n",
    "hdu_out = fits.open(outputfile)\n",
    "wcs_output = WCS(hdu_out[0].header, naxis=2)\n",
    "\n",
    "\n",
    "fig = plt.figure(dpi=256, tight_layout=False)\n",
    "fig.set_size_inches(12, 5, forward=True)\n",
    "\n",
    "# - Plot\n",
    "ax = plt.subplot(1, 1, 1, projection=wcs_output)\n",
    "ax.set_title(\"Filtered Sky\")\n",
    "im = ax.imshow(hdu_out[0].data[0] * 1e3, cmap=cmap, vmax=0)\n",
    "cbar = plt.colorbar(im, ax=ax, shrink=1.0)\n",
    "cbar.set_label(\"mJy/pixel\")\n",
    "\n",
    "ra, dec = ax.coords\n",
    "ra.set_major_formatter(\"hh:mm:ss\")\n",
    "dec.set_major_formatter(\"dd:mm:ss\")\n",
    "ra.set_axislabel(r\"RA [J2000]\", size=11)\n",
    "dec.set_axislabel(r\" \", size=11)\n",
    "ra.set_separator((\"h\", \"m\"))\n",
    "\n",
    "pixel_sky_l = wcs_output.world_to_pixel(sky_l)\n",
    "pixel_sky_u = wcs_output.world_to_pixel(sky_u)\n",
    "ax.axis(\n",
    "    xmax=pixel_sky_l[0], ymin=pixel_sky_l[1], xmin=pixel_sky_u[0], ymax=pixel_sky_u[1]\n",
    ")\n",
    "\n",
    "plt.show()"
   ]
  },
  {
   "cell_type": "markdown",
   "metadata": {},
   "source": [
    "## Fidelity Test\n",
    "\n",
    "To gain insight into how the scanning strategy influences the quality of the observation, we've created a simple fidelity map. This map illustrates how modifying the scanning strategy impacts the recovery of your science. In particular, the sampling rate and scanning period have a significant influence on the image's fidelity. We are continually working on optimizing the scanning strategy for AtLAST, but you are welcome to experiment with these values yourself to observe their effect on the fidelity map."
   ]
  },
  {
   "cell_type": "code",
   "execution_count": null,
   "metadata": {},
   "outputs": [],
   "source": [
    "from reproject import reproject_interp\n",
    "\n",
    "sim_projected, footprint = reproject_interp(\n",
    "    (hdu[0].data, wcs_input), wcs_output, shape_out=hdu_out[0].data[0].shape\n",
    ")"
   ]
  },
  {
   "cell_type": "code",
   "execution_count": null,
   "metadata": {},
   "outputs": [],
   "source": [
    "fig = plt.figure(dpi=256, tight_layout=False)\n",
    "fig.set_size_inches(12, 5, forward=True)\n",
    "\n",
    "# - Plot\n",
    "ax = plt.subplot(1, 1, 1, projection=wcs_output)\n",
    "ax.set_title(\"Weighted Ratio\")\n",
    "im = ax.imshow((sim_projected / hdu_out[0].data[0]) - 1, cmap=cmap, vmin=-2, vmax=5)\n",
    "cbar = plt.colorbar(im, ax=ax, shrink=1.0)\n",
    "# cbar.set_label('mock/sim - 1')\n",
    "\n",
    "ra, dec = ax.coords\n",
    "ra.set_major_formatter(\"hh:mm:ss\")\n",
    "dec.set_major_formatter(\"dd:mm:ss\")\n",
    "ra.set_axislabel(r\"RA [J2000]\", size=11)\n",
    "dec.set_axislabel(r\"Dec [J2000]\", size=11)\n",
    "ra.set_separator((\"h\", \"m\"))\n",
    "\n",
    "pixel_sky_l = wcs_output.world_to_pixel(sky_l)\n",
    "pixel_sky_u = wcs_output.world_to_pixel(sky_u)\n",
    "ax.axis(\n",
    "    xmax=pixel_sky_l[0], ymin=pixel_sky_l[1], xmin=pixel_sky_u[0], ymax=pixel_sky_u[1]\n",
    ")\n",
    "\n",
    "plt.show()"
   ]
  }
 ],
 "metadata": {
  "kernelspec": {
   "display_name": "Python 3 (ipykernel)",
   "language": "python",
   "name": "python3"
  },
  "language_info": {
   "codemirror_mode": {
    "name": "ipython",
    "version": 3
   },
   "file_extension": ".py",
   "mimetype": "text/x-python",
   "name": "python",
   "nbconvert_exporter": "python",
   "pygments_lexer": "ipython3",
   "version": "3.10.0"
  },
  "vscode": {
   "interpreter": {
    "hash": "f88e5bf5f0be7bd9faa88242bcf07e5ffa7d513506f360fd3aab8d7c0fbd2667"
   }
  }
 },
 "nbformat": 4,
 "nbformat_minor": 4
}

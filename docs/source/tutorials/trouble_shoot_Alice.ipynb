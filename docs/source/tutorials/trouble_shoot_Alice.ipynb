{
 "cells": [
  {
   "cell_type": "markdown",
   "metadata": {},
   "source": [
    "# AtLAST Predictions\n",
    "Here, you can find another example of using this simulation tool for predictions. But now, in this scenario, we'll adjust all parameters to align with the AtLAST telescope design. AtLAST will have with a broad 2-degree field of view (FOV) and offers a 10\" resolution at 150 GHz. This configuration provides a more comprehensive, high spatial dynamic range, ideal for observing phenomena such as the Sunyaev-Zeldovich effect in galaxy galaxys."
   ]
  },
  {
   "cell_type": "code",
   "execution_count": 1,
   "metadata": {},
   "outputs": [
    {
     "name": "stderr",
     "output_type": "stream",
     "text": [
      "\n",
      "KeyboardInterrupt\n",
      "\n"
     ]
    }
   ],
   "source": [
    "import matplotlib.pyplot as plt\n",
    "import scipy as sp\n",
    "import numpy as np"
   ]
  },
  {
   "cell_type": "code",
   "execution_count": null,
   "metadata": {},
   "outputs": [],
   "source": [
    "from maria import Simulation\n",
    "from maria import mappers"
   ]
  },
  {
   "cell_type": "code",
   "execution_count": null,
   "metadata": {},
   "outputs": [],
   "source": [
    "from astropy.constants import c\n",
    "from astropy import units as u\n",
    "import time"
   ]
  },
  {
   "cell_type": "code",
   "execution_count": null,
   "metadata": {},
   "outputs": [],
   "source": [
    "# Calculate observed frequency and channel width in GHz\n",
    "def  skyfrq(line, z):\n",
    "    return  line / (1 + z)\n",
    "\n",
    "def widthfrq(frq, kms):\n",
    "    return (kms/c_kms) * frq"
   ]
  },
  {
   "cell_type": "code",
   "execution_count": null,
   "metadata": {},
   "outputs": [],
   "source": [
    "# Fits Image details\n",
    "resval = 1024\n",
    "simsize = 50 # kpc\n",
    "CII_frq =   1900.537 # GHz\n",
    "\n",
    "# Fits vals\n",
    "redshifts = [6.5,       6.0,        3.0,        1.0,    0.5,        0.02,   0.01]\n",
    "DL =        [64739.8,   58985.0,    25924.2,    6701.1, 2863.0,     87.5,   43.4] # Mpc\n",
    "scale =     [5.580,     5.836,      7.855,      8.122,  6.169,      0.408,  0.206] # kpc/\"\n",
    "c_kms = 299792.458 # km s-1\n",
    "channel = 50 # km s-1\n",
    "\n",
    "frq = skyfrq(CII_frq, 1.0)\n",
    "\n",
    "width = widthfrq(frq,channel)\n",
    "print(f'Frequency:         {frq} GHz')\n",
    "print(f'Channel:           {width} GHz, ({channel} km s-1)')\n",
    "\n",
    "size                = simsize/ scale[3] / 3600 # deg\n",
    "pixel_size          = size / resval # deg\n",
    "pointing_center     = (10.0, 0.0) #RA and Dec in degrees\n",
    "integration_time    = 1. * 60.0 #seconds\n",
    "sample_rate         = 340. #Hz\n",
    "scanning_speed      = 3/60 #deg/s\n",
    "scanning_radius     = size*3/4 #deg\n",
    "FOV                 = 0.002 # deg\n",
    "Beam_size           = ((1.22*c/(frq*u.GHz).to(1/u.s)/(50 * u.m))*u.rad).to(u.arcsec)\n",
    "\n",
    "print(f'Size:              { size*3600} arcsec')\n",
    "print(f'Beam Size:         {Beam_size}')\n",
    "print(f'Pixel Size:        {pixel_size*3500} arcsec' )\n",
    "print()\n",
    "print(f'Scan velocity:     {scanning_speed*3600} arcsec/s')\n",
    "print(f'Field of View:     {FOV*3500} arcsec' )\n",
    "print(f'Scanning Radius:   {scanning_radius*3500} arcsec' )\n",
    "\n",
    "print('-----------------------')"
   ]
  },
  {
   "cell_type": "code",
   "execution_count": null,
   "metadata": {},
   "outputs": [],
   "source": [
    "inputfile = \"../../../maps/maria_Ponos_fits_CII_jy_1.0.fits\"\n",
    "\n",
    "noisy = False\n",
    "\n",
    "outfile_map = '/Users/jvanmarr/Documents/Papers/mock_obs/output/galaxy_{}min_noisy{}_map.fits'.format(\n",
    "    int(integration_time/60),\n",
    "    str(noisy)\n",
    ")\n",
    "\n",
    "if noisy:\n",
    "    atm_model            = 'single_layer'\n",
    "    white_noise_level    = 0.\n",
    "    pink_noise_level     = 0.\n",
    "else:\n",
    "    atm_model            = None\n",
    "    white_noise_level    = 0.\n",
    "    pink_noise_level     = 0."
   ]
  },
  {
   "cell_type": "code",
   "execution_count": null,
   "metadata": {},
   "outputs": [],
   "source": [
    "from astropy.io import fits\n",
    "from astropy.wcs import WCS\n",
    "from astropy import units as u\n",
    "from astropy.coordinates import SkyCoord\n",
    "from astropy.constants import c\n",
    "\n",
    "# - Input figure\n",
    "cmap = \"RdBu_r\"\n",
    "\n",
    "# - Input figure\n",
    "hdu = fits.open(inputfile)\n",
    "hdu[0].data = hdu[0].data\n",
    "header = hdu[0].header\n",
    "\n",
    "header['RESTFRQ'] = frq\n",
    "\n",
    "header[\"CDELT1\"] = pixel_size  # degree\n",
    "header[\"CDELT2\"] = pixel_size  # degree\n",
    "\n",
    "header['CRPIX1'] = resval/2\n",
    "header['CRPIX2'] = resval/2\n",
    "\n",
    "header[\"CTYPE1\"] = \"RA---SIN\"\n",
    "header[\"CUNIT1\"] = \"deg     \"\n",
    "header[\"CTYPE2\"] = \"DEC--SIN\"\n",
    "header[\"CUNIT2\"] = \"deg     \"\n",
    "header['RADESYS']= \"FK5     \"\n",
    "\n",
    "header[\"CRVAL1\"] = pointing_center[0]\n",
    "header[\"CRVAL2\"] = pointing_center[1]\n",
    "wcs_input = WCS(header, naxis=2)"
   ]
  },
  {
   "cell_type": "code",
   "execution_count": null,
   "metadata": {},
   "outputs": [],
   "source": [
    "sky_l = SkyCoord((pointing_center[0] - FOV/4) * u.deg, (pointing_center[1] - FOV/4) * u.deg)\n",
    "sky_u = SkyCoord((pointing_center[0] + FOV/4) * u.deg, (pointing_center[1] + FOV/4) * u.deg)\n",
    "\n",
    "fig = plt.figure(dpi=256, tight_layout=False)\n",
    "fig.set_size_inches(12, 5, forward=True)\n",
    "\n",
    "# - Plot\n",
    "ax = plt.subplot(1, 1, 1, projection=wcs_input)\n",
    "\n",
    "im = ax.imshow(hdu[0].data * 1e3, cmap=cmap)\n",
    "cbar = plt.colorbar(im, ax=ax, shrink=1.0)\n",
    "cbar.set_label('mJy km/s/pixel')\n",
    "\n",
    "ra, dec = ax.coords\n",
    "ra.set_major_formatter(\"hh:mm:ss\")\n",
    "dec.set_major_formatter(\"dd:mm:ss\")\n",
    "ra.set_axislabel(r\"RA [J2000]\", size=11)\n",
    "dec.set_axislabel(r\"Dec [J2000]\", size=11)\n",
    "ra.set_separator((\"h\", \"m\"))\n",
    "\n",
    "pixel_sky_l = wcs_input.world_to_pixel(sky_l)\n",
    "pixel_sky_u = wcs_input.world_to_pixel(sky_u)\n",
    "ax.axis(\n",
    "    xmax=pixel_sky_l[0], ymin=pixel_sky_l[1], xmin=pixel_sky_u[0], ymax=pixel_sky_u[1]\n",
    ")\n",
    "plt.show()"
   ]
  },
  {
   "cell_type": "markdown",
   "metadata": {},
   "source": [
    "### Fine-Tuning Simulation Parameters\n",
    "\n",
    "To make predictions for AtLAST, several adjustments are required. Firstly, we need to change the pointing center. AtLAST is located near the APEX telescope in the southern hemisphere, so we set the pointing center to a Declination of -10. Additionally, we need to chance the atmospheric conditions. The defeault is set to mid-February at 6 am UT, which is an ideal time for observing with MUSTANG-2 on the GBT but not for AtLAST at Chajnantor. To achieve this, we modify the `start_time` key to August. This change also necessitates adjusting the Right Ascension (RA) of the pointing to ensure that the source remains above the horizon during the observation.\n",
    "\n",
    "Furthermore, we overwrite the field of view to be 2 degrees and set the scan radius of the daisy scan to 1.3 degrees. We also adjust the detector bandwidth to 52 GHz with a total of 2000 detectors, and set a scan period of 120 seconds. \n",
    "\n",
    "Now, it's important to note that we haven't yet developed a mapper that can handle AtLAST's large FOV. Most of the contamination will likely be a common mode in the atmosphere, which needs proper Fourier filtering. This aspect is still a work in progress. Therefore, for the time being, we conduct noiseless observations by setting `atm_model = None`."
   ]
  },
  {
   "cell_type": "code",
   "execution_count": null,
   "metadata": {},
   "outputs": [],
   "source": [
    "#Alice's\n",
    "sim = Simulation(\n",
    "\n",
    "    # Mandatory minimal weather settings\n",
    "    # ---------------------\n",
    "    array=\"AtLAST\",  # Array type\n",
    "    pointing=\"daisy\",  # Scanning strategy\n",
    "    site=\"APEX\",  # Site\n",
    " \n",
    "    atm_model = atm_model,\n",
    "    white_noise_level = white_noise_level,\n",
    "    pink_noise_level  = pink_noise_level,\n",
    "    \n",
    "    # True sky input\n",
    "    # ---------------------\n",
    "    map_file     = inputfile,                # Input files must be a fits file.\n",
    "    map_units    = 'Jy/pixel',               # Units of the input map in Kelvin Rayleigh-Jeans (K, default) or Jy/pixel\n",
    "    map_res      = pixel_size,               # degree, overwrite header information\n",
    "    map_center   = pointing_center,          # RA & Dec in degree\n",
    "\n",
    "    # AtLAST Observational setup\n",
    "    # ----------------------------\n",
    "    integration_time = integration_time,  # Seconds\n",
    "    sample_rate      = sample_rate,       # Hz\n",
    "    scan_center      = pointing_center,   # Degrees\n",
    "    start_time       = \"2022-02-11T23:00:00\",\n",
    "\n",
    "    field_of_view    = FOV,\n",
    "    dets             = {\"f950\": {\"n\": 200, \"band_center\": frq, \"band_width\": width}},\n",
    "    scan_options     = {\"speed\": scanning_speed, \"radius\": scanning_radius, \"petals\": 2.11, \"miss_factor\": 0.05},\n",
    "    pwv_rms_frac     = 0.005,\n",
    "    layer_height     = 3e3,\n",
    ")"
   ]
  },
  {
   "cell_type": "code",
   "execution_count": null,
   "metadata": {},
   "outputs": [],
   "source": [
    "tod = sim.run()"
   ]
  },
  {
   "cell_type": "code",
   "execution_count": null,
   "metadata": {},
   "outputs": [],
   "source": [
    "fig, ax = plt.subplots(1, 1, figsize=(4, 4), dpi=128)\n",
    "map_extent = np.degrees(\n",
    "[sim.map_sim.input_map.x_side.min(), sim.map_sim.input_map.x_side.max(), sim.map_sim.input_map.y_side.min(), sim.map_sim.input_map.y_side.max()]\n",
    ") * 3600\n",
    "map_im = ax.imshow(sim.map_sim.input_map.data[0], extent=map_extent)\n",
    "if sim.map_sim.input_map.frame == \"ra_dec\":\n",
    "    ax.set_xlabel(\"RA (arcsec.)\")\n",
    "    ax.set_ylabel(\"dec. (arcsec.)\")\n",
    "clb = fig.colorbar(mappable=map_im, shrink=0.8, aspect=32)\n",
    "\n",
    "ax.axis(xmin = -1.8, xmax = 1.8, ymin = -1.8, ymax = 1.8)\n",
    "clb.set_label(sim.map_sim.input_map.units)"
   ]
  },
  {
   "cell_type": "code",
   "execution_count": null,
   "metadata": {},
   "outputs": [],
   "source": [
    "np.degrees(sim.map_sim.RA.mean()), sim.map_sim.pointing.scan_center"
   ]
  },
  {
   "cell_type": "code",
   "execution_count": null,
   "metadata": {},
   "outputs": [],
   "source": [
    "plt.figure(figsize=(5,5))\n",
    "plt.scatter(np.degrees(sim.map_sim.array.offset_x)*3600, np.degrees(sim.map_sim.array.offset_y)*3600)\n",
    "plt.show()"
   ]
  },
  {
   "cell_type": "code",
   "execution_count": null,
   "metadata": {},
   "outputs": [],
   "source": [
    "plt.plot(np.rad2deg(sim.map_sim.input_map.x_side)*3600, np.rad2deg(sim.map_sim.input_map.y_side)*3600)"
   ]
  },
  {
   "cell_type": "code",
   "execution_count": null,
   "metadata": {},
   "outputs": [],
   "source": [
    "plt.figure()\n",
    "for i in range(200):\n",
    "    plt.plot((sim.map_sim.map_X[i,:1000])*3600, (sim.map_sim.map_Y[i,:1000])*3600, lw = 1)\n",
    "# plt.plot((sim.map_sim.map_X[0,:1000])*3600, (sim.map_sim.map_Y[0,:1000])*3600, lw = 1)\n",
    "# plt.plot((sim.map_sim.map_X[-1,:1000])*3600, (sim.map_sim.map_Y[-1,:1000])*3600, lw = 1)\n",
    "plt.show()"
   ]
  },
  {
   "cell_type": "code",
   "execution_count": null,
   "metadata": {},
   "outputs": [],
   "source": [
    "plt.scatter(sim.map_sim.map_X[0], sim.map_sim.map_Y[0])"
   ]
  },
  {
   "cell_type": "markdown",
   "metadata": {},
   "source": [
    "### Visualizing the TOD Data\n",
    "\n",
    "In this section, we present the same array and TOD visualizations as in the MUSTANG-2 case, but this time for AtLAST:"
   ]
  },
  {
   "cell_type": "code",
   "execution_count": null,
   "metadata": {},
   "outputs": [],
   "source": [
    "np.unique(tod.data), tod.data"
   ]
  },
  {
   "cell_type": "code",
   "execution_count": null,
   "metadata": {},
   "outputs": [],
   "source": [
    "# visualize scanning patern\n",
    "# -----------------------\n",
    "fig = plt.figure(dpi=256, tight_layout=True)\n",
    "fig.set_size_inches(12, 5, forward=True)\n",
    "fig.suptitle(\"Scanning strategy\")\n",
    "\n",
    "# - Plot\n",
    "ax = plt.subplot(1,2,1)\n",
    "\n",
    "ax.plot(np.degrees(tod.az), np.degrees(tod.el), lw=5e-1)\n",
    "ax.set_xlabel(\"az (deg)\"), ax.set_ylabel(\"el (deg)\")\n",
    "\n",
    "ax = plt.subplot(1, 2, 2, projection=wcs_input)\n",
    "im = ax.imshow(hdu[0].data, cmap=cmap)\n",
    "\n",
    "ra, dec = ax.coords\n",
    "ra.set_major_formatter(\"hh:mm:ss\")\n",
    "dec.set_major_formatter(\"dd:mm:ss\")\n",
    "ra.set_axislabel(r\"RA [J2000]\", size=11)\n",
    "dec.set_axislabel(r\"Dec [J2000]\", size=11)\n",
    "ra.set_separator((\"h\", \"m\"))\n",
    "\n",
    "sky = SkyCoord(np.degrees(tod.ra) * u.deg, np.degrees(tod.dec) * u.deg)\n",
    "pixel_sky = wcs_input.world_to_pixel(sky)\n",
    "ax.plot(pixel_sky[0], pixel_sky[1], lw=5e-1, alpha=0.5, c=\"yellow\")\n",
    "ax.set_xlabel(\"ra (deg)\"), ax.set_ylabel(\"dec (deg)\")\n",
    "plt.show()\n",
    "\n",
    "# visualize powerspectrum\n",
    "# -----------------------\n",
    "f, ps = sp.signal.periodogram(tod.data, fs=1/(tod.time[1] - tod.time[0]), window=\"tukey\")\n",
    "\n",
    "fig, axes = plt.subplots(1, 2, figsize=(10, 5), dpi=256, tight_layout=True)\n",
    "fig.suptitle(\"TOD data\")\n",
    "axes[0].plot(f[1:], ps.mean(axis=0)[1:], label=\"Observation\")\n",
    "axes[0].plot(f[1:], f[1:] ** (-8 / 3), label=\"y = f^-(8/3)\")\n",
    "axes[0].set_xlabel(r\"$\\mathscr{f}$ [Hz]\"), axes[0].set_ylabel(\"Power Spectra\")\n",
    "axes[0].loglog(), axes[0].legend()\n",
    "\n",
    "for uib, uband in enumerate(np.unique(tod.dets.band)):\n",
    "    band_mask = tod.dets.band == uband\n",
    "    band_mean = tod.data[band_mask].mean(axis=0)\n",
    "    axes[1].plot(tod.time - tod.time[0], band_mean, label=f\"{uband} mean\")\n",
    "\n",
    "axes[1].set_xlabel(\"time (seconds)\"), axes[1].set_ylabel(r\"temperature ($K_{RJ}$)\")\n",
    "axes[1].legend()\n",
    "\n",
    "plt.show()"
   ]
  },
  {
   "cell_type": "markdown",
   "metadata": {},
   "source": [
    "# Test Scanning"
   ]
  },
  {
   "cell_type": "code",
   "execution_count": null,
   "metadata": {},
   "outputs": [],
   "source": [
    "def f_lambda(f = frq, D = 50):\n",
    "    return ((1.22 * (c/(f * u.GHz).to(1/u.s)).to(u.meter) / (D * u.m)) * u.rad).to(u.degree)"
   ]
  },
  {
   "cell_type": "code",
   "execution_count": null,
   "metadata": {},
   "outputs": [],
   "source": [
    "sky_l = SkyCoord((pointing_center[0] - 1/3600) * u.deg, (pointing_center[1] - 1/3600) * u.deg)\n",
    "sky_u = SkyCoord((pointing_center[0] + 1/3600) * u.deg, (pointing_center[1] + 1/3600) * u.deg)\n",
    "\n",
    "pixel_sky_l = wcs_input.world_to_pixel(sky_l)\n",
    "pixel_sky_u = wcs_input.world_to_pixel(sky_u)\n",
    "\n",
    "fig = plt.figure(dpi=512, )\n",
    "fig.set_size_inches(6, 5, forward=True)\n",
    "ax = plt.subplot(1, 1, 1, projection=wcs_input)\n",
    "im = ax.imshow(hdu[0].data, cmap=cmap)\n",
    "\n",
    "ra, dec = ax.coords\n",
    "ra.set_major_formatter(\"hh:mm:ss\")\n",
    "dec.set_major_formatter(\"dd:mm:ss\")\n",
    "ra.set_axislabel(r\"RA [J2000]\", size=11)\n",
    "dec.set_axislabel(r\"Dec [J2000]\", size=11)\n",
    "ra.set_separator((\"h\", \"m\"))\n",
    "\n",
    "sky = SkyCoord(np.degrees(tod.ra) * u.deg, np.degrees(tod.dec) * u.deg)\n",
    "pixel_sky = wcs_input.world_to_pixel(sky)\n",
    "\n",
    "ax.plot(pixel_sky[0], pixel_sky[1], lw=5e-1, alpha=0.5, c=\"yellow\")\n",
    "ax.set_xlabel(\"ra (deg)\"), ax.set_ylabel(\"dec (deg)\")\n",
    "\n",
    "ax.axis(xmin = pixel_sky_l[0], ymin = pixel_sky_l[1], xmax = pixel_sky_u[0], ymax = pixel_sky_u[1])\n",
    "plt.show()"
   ]
  },
  {
   "cell_type": "code",
   "execution_count": null,
   "metadata": {},
   "outputs": [],
   "source": [
    "sim.array.plot_dets()"
   ]
  },
  {
   "cell_type": "code",
   "execution_count": null,
   "metadata": {},
   "outputs": [],
   "source": [
    "\n",
    "\n",
    "plt.figure(figsize=(4.5, 4.5),dpi=256)\n",
    "\n",
    "plt.plot(\n",
    "    np.degrees(tod.ra - tod.ra.mean())*3600,\n",
    "    np.degrees(tod.dec - tod.dec.mean())*3600,\n",
    "    lw=5e-1,\n",
    "    alpha=0.5,\n",
    ")\n",
    "\n",
    "plt.scatter(\n",
    "    np.degrees(sim.array.offset_x)*3600,\n",
    "    np.degrees(sim.array.offset_y)*3600,\n",
    "    label=f\"{uband} mean\",\n",
    "    s=2,\n",
    "    c=\"orange\",\n",
    ")\n",
    "\n",
    "# plt.axis(xmin = -1, xmax = 1, ymin = -1, ymax = 1)\n",
    "    \n",
    "plt.xlabel(r\"$\\theta_x$ offset (arcsec)\")\n",
    "plt.ylabel(r\"$\\theta_y$ offset (arcsec)\")\n",
    "plt.show()"
   ]
  },
  {
   "cell_type": "code",
   "execution_count": null,
   "metadata": {},
   "outputs": [],
   "source": [
    "plt.figure(figsize=(4.5, 4.5),dpi=256)\n",
    "plt.grid(lw = 0.1)\n",
    "\n",
    "xxs = np.degrees(sim.array.offset_x)*u.degree/f_lambda()\n",
    "yys = np.degrees(sim.array.offset_y)*u.degree/f_lambda() \n",
    "\n",
    "plt.scatter(\n",
    "    xxs,\n",
    "    yys,\n",
    "    s=1, c=\"orange\")\n",
    "\n",
    "plt.axis(xmin = -1, xmax = 1, ymin = -1, ymax = 1)\n",
    "    \n",
    "plt.xlabel(r\"$\\theta_x$ offset (f-$\\lambda$)\")\n",
    "plt.ylabel(r\"$\\theta_y$ offset (f-$\\lambda$)\")\n",
    "plt.show()"
   ]
  },
  {
   "cell_type": "markdown",
   "metadata": {},
   "source": [
    "## Map-Making\n",
    "\n",
    "As previously mentioned, we must disable Fourier filtering. Additionally, we have adjusted the height and width of the map to match the realistic AtLAST field of view, which spans several degrees."
   ]
  },
  {
   "cell_type": "code",
   "execution_count": null,
   "metadata": {},
   "outputs": [],
   "source": [
    "Beam_size"
   ]
  },
  {
   "cell_type": "code",
   "execution_count": null,
   "metadata": {},
   "outputs": [],
   "source": [
    "s1 = time.time()\n",
    "\n",
    "mapper = mappers.BinMapper(\n",
    "    map_height=np.radians(size),\n",
    "    map_width=np.radians(size),\n",
    "    map_res=np.radians(4*pixel_size),\n",
    "    map_filter=True,\n",
    "    n_modes_to_remove=1,\n",
    "    map_smooth = Beam_size.value #arcsec\n",
    ")\n",
    "mapper.add_tods(tod)\n",
    "mapper.run()\n",
    "\n",
    "s2 = time.time()\n",
    "print(s2-s1)"
   ]
  },
  {
   "cell_type": "code",
   "execution_count": null,
   "metadata": {},
   "outputs": [],
   "source": [
    "# f, ps = sp.signal.periodogram(tod.data, fs=1/(tod.time[1] - tod.time[0]), window=\"tukey\")\n",
    "\n",
    "# fig, axes = plt.subplots(1, 2, figsize=(10, 5), dpi=256, tight_layout=True)\n",
    "# fig.suptitle(\"TOD data\")\n",
    "# axes[0].plot(f[1:], ps.mean(axis=0)[1:], label=\"Observation\")\n",
    "# axes[0].plot(f[1:], f[1:] ** (-8 / 3), label=\"y = f^-(8/3)\")\n",
    "# axes[0].set_xlabel(r\"$\\mathscr{f}$ [Hz]\"), axes[0].set_ylabel(\"Power Spectra\")\n",
    "# axes[0].loglog(), axes[0].legend()\n",
    "\n",
    "# for uib, uband in enumerate(np.unique(tod.dets.band)):\n",
    "#     band_mask = tod.dets.band == uband\n",
    "#     band_mean = tod.data[band_mask].mean(axis=0)\n",
    "#     axes[1].plot(tod.time - tod.time[0], band_mean, label=f\"{uband} mean\")\n",
    "\n",
    "# axes[1].set_xlabel(\"time (seconds)\"), axes[1].set_ylabel(r\"temperature ($K_{RJ}$)\")\n",
    "# axes[1].legend()\n",
    "\n",
    "# plt.show()"
   ]
  },
  {
   "cell_type": "code",
   "execution_count": null,
   "metadata": {},
   "outputs": [],
   "source": [
    "fig, axes = plt.subplots(\n",
    "    1,\n",
    "    2,\n",
    "    figsize=(10, 4.5),\n",
    "    dpi=256,\n",
    "    tight_layout=True,\n",
    "    gridspec_kw={\"width_ratios\": [1, 1.5]},\n",
    ")\n",
    "fig.suptitle(\"Detector setup for one band\")\n",
    "\n",
    "for uband in sim.array.ubands:\n",
    "    band_mask = sim.array.dets.band == uband\n",
    "\n",
    "    axes[0].plot(\n",
    "        60 * np.degrees(tod.ra - tod.ra.mean()),\n",
    "        60 * np.degrees(tod.dec - tod.dec.mean()),\n",
    "        lw=5e-1,\n",
    "        alpha=0.5,\n",
    "    )\n",
    "    \n",
    "    axes[0].scatter(\n",
    "        60 * np.degrees(sim.array.offset_x[band_mask]),\n",
    "        60 * np.degrees(sim.array.offset_y[band_mask]),\n",
    "        label=f\"{uband} mean\",\n",
    "        lw=5e-1,\n",
    "        c=\"orange\",\n",
    "    )\n",
    "    \n",
    "    break\n",
    "axes[0].set_xlabel(r\"$\\theta_x$ offset (arcminutes)\"), axes[0].set_ylabel(\n",
    "    r\"$\\theta_y$ offset (arcminutes)\"\n",
    ")\n",
    "axes[0].legend()\n",
    "\n",
    "xs, ys = np.meshgrid(\n",
    "    60 * np.rad2deg((mapper.x_bins[1:] + mapper.x_bins[:-1]) / 2),\n",
    "    60 * np.rad2deg((mapper.y_bins[1:] + mapper.y_bins[:-1]) / 2),\n",
    ")\n",
    "\n",
    "im = axes[1].pcolormesh(\n",
    "    xs,\n",
    "    ys,\n",
    "    mapper.map_cnts[tod.dets.band[0]],\n",
    "    label=\"Photon counts in band \" + tod.dets.band[0],\n",
    ")\n",
    "\n",
    "axes[1].set_xlabel(r\"$\\theta_x$ (arcmin)\"), axes[1].set_ylabel(r\"$\\theta_y$ (arcmin)\")\n",
    "cbar = plt.colorbar(im, ax=axes[1])\n",
    "cbar.set_label(\"Counts\")\n",
    "plt.show()"
   ]
  },
  {
   "cell_type": "markdown",
   "metadata": {},
   "source": [
    "## Save & Visualize"
   ]
  },
  {
   "cell_type": "code",
   "execution_count": null,
   "metadata": {},
   "outputs": [],
   "source": [
    "mapper.save_maps(outfile_map)"
   ]
  },
  {
   "cell_type": "code",
   "execution_count": null,
   "metadata": {},
   "outputs": [],
   "source": [
    "sky_l = SkyCoord((pointing_center[0] - 2) * u.deg, (pointing_center[1] - 2) * u.deg)\n",
    "sky_u = SkyCoord((pointing_center[0] + 2) * u.deg, (pointing_center[1] + 2) * u.deg)\n",
    "\n",
    "fig = plt.figure(dpi=256, tight_layout=False)\n",
    "fig.set_size_inches(12, 5, forward=True)\n",
    "\n",
    "# - Plot\n",
    "ax = plt.subplot(1, 1, 1, projection=wcs_input)\n",
    "ax.set_title(\"True Sky\")\n",
    "im = ax.imshow(hdu[0].data * 1e3, cmap=cmap)\n",
    "cbar = plt.colorbar(im, ax=ax, shrink=1.0)\n",
    "\n",
    "ra, dec = ax.coords\n",
    "ra.set_major_formatter(\"hh:mm:ss\")\n",
    "dec.set_major_formatter(\"dd:mm:ss\")\n",
    "ra.set_axislabel(r\"RA [J2000]\", size=11)\n",
    "dec.set_axislabel(r\"Dec [J2000]\", size=11)\n",
    "ra.set_separator((\"h\", \"m\"))\n",
    "\n",
    "pixel_sky_l = wcs_input.world_to_pixel(sky_l)\n",
    "pixel_sky_u = wcs_input.world_to_pixel(sky_u)\n",
    "ax.axis(\n",
    "    xmax=pixel_sky_l[0], ymin=pixel_sky_l[1], xmin=pixel_sky_u[0], ymax=pixel_sky_u[1]\n",
    ")\n",
    "plt.show()\n",
    "\n",
    "\n",
    "# - Plot Mock observation\n",
    "outputfile = outfile_map\n",
    "\n",
    "hdu_out = fits.open(outputfile)\n",
    "wcs_output = WCS(hdu_out[0].header, naxis=2)\n",
    "\n",
    "# - Plot\n",
    "fig = plt.figure(dpi=256, tight_layout=False)\n",
    "fig.set_size_inches(6, 4, forward=True)\n",
    "\n",
    "ax = plt.subplot(1, 1, 1, projection=wcs_output)\n",
    "im = ax.imshow(hdu_out[0].data[0]*1e3, cmap=cmap, vmin=-0.5, vmax=0.5)\n",
    "# im = ax.imshow(hdu_out[0].data[0]/(mapper.map_res**2)/1e6, cmap=cmap, vmin=-0.1, vmax=0.1)\n",
    "\n",
    "cbar = plt.colorbar(im, ax=ax, shrink=1.0)\n",
    "cbar.set_label(r\"$I_\\nu$ $[mK_{RJ}]$\")\n",
    "# cbar.set_label(r\"S$_{93~\\rm GHz}$ [MJy/sr]\")\n",
    "\n",
    "ra, dec = ax.coords\n",
    "ra.set_major_formatter(\"hh:mm:ss\")\n",
    "dec.set_major_formatter(\"dd:mm:ss\")\n",
    "ra.set_axislabel(r\"RA [J2000]\", size=11)\n",
    "dec.set_axislabel(r\"Dec [J2000]\", size=11)\n",
    "ra.set_separator((\"h\", \"m\"))\n",
    "\n",
    "\n",
    "sky_l = SkyCoord((pointing_center[0] - 2) * u.deg, (pointing_center[1] - 2) * u.deg)\n",
    "sky_u = SkyCoord((pointing_center[0] + 2) * u.deg, (pointing_center[1] + 2) * u.deg)\n",
    "\n",
    "pixel_sky_l = wcs_output.world_to_pixel(sky_l)\n",
    "pixel_sky_u = wcs_output.world_to_pixel(sky_u)\n",
    "\n",
    "\n",
    "\n",
    "\n",
    "# ax.axis(xmin = pixel_sky_l[0], ymin = pixel_sky_l[1], xmax = pixel_sky_u[0], ymax = pixel_sky_u[1])\n",
    "# plt.savefig(\"/Users/jvanmarr/Documents/Papers/mock_obs/paper_plots/AtLAST_noiesemap.pdf\")\n",
    "plt.show()"
   ]
  },
  {
   "cell_type": "markdown",
   "metadata": {},
   "source": [
    "## Fidelity Test\n",
    "\n",
    "To gain insight into how the scanning strategy influences the quality of the observation, we've created a simple fidelity map. This map illustrates how modifying the scanning strategy impacts the recovery of your science. In particular, the sampling rate and scanning period have a significant influence on the image's fidelity. We are continually working on optimizing the scanning strategy for AtLAST, but you are welcome to experiment with these values yourself to observe their effect on the fidelity map."
   ]
  },
  {
   "cell_type": "code",
   "execution_count": null,
   "metadata": {},
   "outputs": [],
   "source": [
    "# from reproject import reproject_interp\n",
    "\n",
    "# sim_projected, footprint = reproject_interp(\n",
    "#     (hdu[0].data, wcs_input), wcs_output, shape_out=hdu_out[0].data[0].shape\n",
    "# )"
   ]
  },
  {
   "cell_type": "code",
   "execution_count": null,
   "metadata": {},
   "outputs": [],
   "source": [
    "# fig = plt.figure(dpi=256, tight_layout=False)\n",
    "# fig.set_size_inches(12, 5, forward=True)\n",
    "\n",
    "# # - Plot\n",
    "# ax = plt.subplot(1, 1, 1, projection=wcs_output)\n",
    "# ax.set_title(\"Weighted Ratio\")\n",
    "# im = ax.imshow((sim_projected / hdu_out[0].data[0]) - 1, cmap=cmap, vmin=-2, vmax=5)\n",
    "# cbar = plt.colorbar(im, ax=ax, shrink=1.0)\n",
    "# # cbar.set_label('mock/sim - 1')\n",
    "\n",
    "# ra, dec = ax.coords\n",
    "# ra.set_major_formatter(\"hh:mm:ss\")\n",
    "# dec.set_major_formatter(\"dd:mm:ss\")\n",
    "# ra.set_axislabel(r\"RA [J2000]\", size=11)\n",
    "# dec.set_axislabel(r\"Dec [J2000]\", size=11)\n",
    "# ra.set_separator((\"h\", \"m\"))\n",
    "\n",
    "# pixel_sky_l = wcs_output.world_to_pixel(sky_l)\n",
    "# pixel_sky_u = wcs_output.world_to_pixel(sky_u)\n",
    "# ax.axis(\n",
    "#     xmax=pixel_sky_l[0], ymin=pixel_sky_l[1], xmin=pixel_sky_u[0], ymax=pixel_sky_u[1]\n",
    "# )\n",
    "\n",
    "# plt.show()"
   ]
  },
  {
   "cell_type": "code",
   "execution_count": null,
   "metadata": {},
   "outputs": [],
   "source": []
  }
 ],
 "metadata": {
  "kernelspec": {
   "display_name": "Python 3 (ipykernel)",
   "language": "python",
   "name": "python3"
  },
  "language_info": {
   "codemirror_mode": {
    "name": "ipython",
    "version": 3
   },
   "file_extension": ".py",
   "mimetype": "text/x-python",
   "name": "python",
   "nbconvert_exporter": "python",
   "pygments_lexer": "ipython3",
   "version": "3.10.0"
  },
  "vscode": {
   "interpreter": {
    "hash": "f88e5bf5f0be7bd9faa88242bcf07e5ffa7d513506f360fd3aab8d7c0fbd2667"
   }
  }
 },
 "nbformat": 4,
 "nbformat_minor": 4
}

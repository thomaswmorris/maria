{
 "cells": [
  {
   "attachments": {},
   "cell_type": "markdown",
   "metadata": {},
   "source": [
    "## Simulating observations with MUSTANG-2\n",
    "\n",
    "MUSTANG-2 is a bolometric array on the [Green Bank Telescope](https://en.wikipedia.org/wiki/Green_Bank_Telescope). In this notebook we simulate an observation of a galactic cluster."
   ]
  },
  {
   "cell_type": "code",
   "execution_count": null,
   "metadata": {},
   "outputs": [],
   "source": [
    "import maria\n",
    "\n",
    "map_filename = maria.io.fetch(\"maps/small_cluster.h5\")\n",
    "\n",
    "input_map = maria.map.load(\n",
    "    nu=930e9,\n",
    "    filename=map_filename,  # filename\n",
    "    width=6 / 60,  # width in degrees\n",
    "    center=(144, 12),  # position in the sky\n",
    "    frame=\"ra_dec\",\n",
    "    units=\"Jy/pixel\",  # units of the input map\n",
    ")\n",
    "\n",
    "input_map.plot()"
   ]
  },
  {
   "cell_type": "code",
   "execution_count": null,
   "metadata": {},
   "outputs": [],
   "source": [
    "\n",
    "plan = maria.get_plan(\n",
    "    scan_pattern=\"daisy\",  # scanning pattern\n",
    "    scan_options={\"radius\": 2 / 60, \"speed\": 0.5 / 60},  # in degrees\n",
    "    duration=1200,  # integration time in seconds\n",
    "    sample_rate=50,  # in Hz\n",
    "    scan_center=(144, 12),  # position in the sky\n",
    "    frame=\"ra_dec\",\n",
    ")\n",
    "\n",
    "plan.plot()"
   ]
  },
  {
   "cell_type": "code",
   "execution_count": null,
   "metadata": {},
   "outputs": [],
   "source": [
    "instrument = maria.get_instrument(\"MUSTANG-2\")\n",
    "print(instrument)\n",
    "instrument.plot()"
   ]
  },
  {
   "cell_type": "code",
   "execution_count": null,
   "metadata": {},
   "outputs": [],
   "source": [
    "sim = maria.Simulation(\n",
    "    instrument,\n",
    "    plan=plan,\n",
    "    site=\"green_bank\",\n",
    "    map=input_map,\n",
    "    atmosphere=\"2d\",\n",
    ")\n",
    "\n",
    "print(sim)"
   ]
  },
  {
   "cell_type": "code",
   "execution_count": null,
   "metadata": {},
   "outputs": [],
   "source": [
    "tod = sim.run()\n",
    "tod.plot()"
   ]
  },
  {
   "cell_type": "code",
   "execution_count": null,
   "metadata": {},
   "outputs": [],
   "source": [
    "from maria.mappers import BinMapper\n",
    "\n",
    "mapper = BinMapper(\n",
    "    center=(144, 12),\n",
    "    frame=\"ra_dec\",\n",
    "    width=6 / 60,\n",
    "    height=6 / 60,\n",
    "    resolution=0.03 / 60,\n",
    "    tod_preprocessing={\n",
    "        \"window\": {\"name\": \"hamming\"},\n",
    "        \"remove_modes\": {\"modes_to_remove\": [0]},\n",
    "        \"remove_spline\": {\"knot_spacing\": 30, \"remove_el_gradient\": True},\n",
    "    },\n",
    "    map_postprocessing={\n",
    "        \"gaussian_filter\": {\"sigma\": 1},\n",
    "        \"median_filter\": {\"size\": 1},\n",
    "    },\n",
    "    units=\"uK_RJ\",\n",
    ")\n",
    "\n",
    "mapper.add_tods(tod)\n",
    "output_map = mapper.run()"
   ]
  },
  {
   "cell_type": "code",
   "execution_count": null,
   "metadata": {},
   "outputs": [],
   "source": [
    "output_map.plot()\n",
    "output_map.to_fits(\"/tmp/simulated_mustang_map.fits\")"
   ]
  }
 ],
 "metadata": {
  "kernelspec": {
   "display_name": "Python 3 (ipykernel)",
   "language": "python",
   "name": "python3"
  },
  "language_info": {
   "codemirror_mode": {
    "name": "ipython",
    "version": 3
   },
   "file_extension": ".py",
   "mimetype": "text/x-python",
   "name": "python",
   "nbconvert_exporter": "python",
   "pygments_lexer": "ipython3",
   "version": "3.12.8"
  },
  "vscode": {
   "interpreter": {
    "hash": "f88e5bf5f0be7bd9faa88242bcf07e5ffa7d513506f360fd3aab8d7c0fbd2667"
   }
  }
 },
 "nbformat": 4,
 "nbformat_minor": 4
}

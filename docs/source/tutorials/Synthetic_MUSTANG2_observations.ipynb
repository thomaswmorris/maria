{
 "cells": [
  {
   "cell_type": "markdown",
   "metadata": {},
   "source": [
    "# Synthesized Observations"
   ]
  },
  {
   "cell_type": "markdown",
   "metadata": {},
   "source": [
    "We use Maria to generate synthetic mock observations for bolometric arrays installed on single-dish telescopes. We have developed a wrapper called 'Simulation,' which emulates telescopes like ACT, Toltec, GBT, and AtLAST. This wrapper generates time-ordered domain (TOD) data. By simulating distinct atmospheric layers corresponding to the designated site within the simulation, we allow the mock array to sweep across the input celestial sky while scanning through evolving atmosphere. As a result, the TODs produced combine elements of the real sky, atmospheric effects. This approach generates synthetic observations taking into account atmospheric filtering. "
   ]
  },
  {
   "cell_type": "markdown",
   "metadata": {},
   "source": [
    "This tutorial will guide you through the process of setting up the simulation tool and creating your own mock observations."
   ]
  },
  {
   "cell_type": "code",
   "execution_count": null,
   "metadata": {},
   "outputs": [],
   "source": [
    "import matplotlib.pyplot as plt\n",
    "import scipy as sp\n",
    "import numpy as np\n",
    "import cmocean\n",
    "\n",
    "from astropy.io import fits\n",
    "from astropy.wcs import WCS\n",
    "from astropy import units as u\n",
    "from astropy.coordinates import SkyCoord"
   ]
  },
  {
   "cell_type": "code",
   "execution_count": null,
   "metadata": {},
   "outputs": [],
   "source": [
    "from maria import Simulation\n",
    "from maria import mappers\n",
    "from maria import TOD"
   ]
  },
  {
   "cell_type": "markdown",
   "metadata": {},
   "source": [
    "## Setting up a MUSTANG-2 Simulation\n",
    "The ```Simulation``` class offers flexibility for customizing atmospheric simulations. You can configure it to replicate observatories like 'AtLAST' at the APEX site or simulate specific observations, such as MUSTANG-2, under different weather conditions by adjusting the 'pwv_rms_frac' parameter within the Simulation keywords.\n",
    "\n",
    "Additionally, the ```Simulation``` class allows you to explore how different scanning strategies impact large-scale filtering. Standard strategies, like back-and-forth or Daisy scan patterns, are implemented for this purpose. For comprehensive documentation on all available keywords, please refer to our detailed documentation. \n",
    "\n",
    "Now, let's initiate an example of a mock observation involving a galaxy cluster merger event at redshift 1, observed via the SZ effect, using the Mustang-2 instrument:"
   ]
  },
  {
   "cell_type": "markdown",
   "metadata": {},
   "source": [
    "### Hyper params"
   ]
  },
  {
   "cell_type": "markdown",
   "metadata": {},
   "source": [
    "### Initialize\n",
    "First we need to initialize the telescope and weather conditions"
   ]
  },
  {
   "cell_type": "code",
   "execution_count": null,
   "metadata": {},
   "outputs": [],
   "source": [
    "pointing_center = (73.5287496858916, 2.961663679507145)\n",
    "pixel_size = 8.71452898559111e-05\n",
    "integration_time = 45 * 60.0\n",
    "sample_rate = 100\n",
    "scan_velocity =38/3600\n",
    "\n",
    "inputfile = \"../../../maps/cluster.fits\"\n",
    "outfile_tbl = \"/tmp/Cluster_45min_noisy_table.fits\"\n",
    "outfile_map = \"/tmp/Cluster_45min_noisy_map.fits\"\n",
    "\n",
    "atm_model = \"single_layer\"\n",
    "white_noise_level = 1.5e-2\n",
    "pink_noise_level  = 2.4"
   ]
  },
  {
   "cell_type": "code",
   "execution_count": null,
   "metadata": {},
   "outputs": [],
   "source": [
    "sim = Simulation(\n",
    "    # Mandatory minimal weither settings\n",
    "    # ---------------------\n",
    "    array=\"MUSTANG-2\",  # Array type\n",
    "    pointing=\"daisy\",  # Scanning strategy\n",
    "    site=\"GBT\",  # Site\n",
    "    atm_model=atm_model,\n",
    "    white_noise_level=white_noise_level,\n",
    "    pink_noise_level=pink_noise_level,\n",
    "    # True sky input\n",
    "    # ---------------------\n",
    "    map_file=inputfile,  # Input files must be a fits file.\n",
    "    map_units=\"Jy/pixel\",  # Units of the input map in Kelvin Rayleigh Jeans (K, defeault) or Jy/pixel\n",
    "    map_res=pixel_size,  # degree, overwrites header information\n",
    "    map_center=pointing_center,  # RA & Dec in degree\n",
    "    \n",
    "    # MUSTANG-2 Observational setup\n",
    "    # ----------------------------s\n",
    "    scan_options = {\n",
    "        \"radius\":  4.0 / 60.0,  # The radius of the Daisy scan in degrees\n",
    "        \"speed\":  scan_velocity # scan velocity in deg/s\n",
    "    },\n",
    "\n",
    "    integration_time=integration_time,  # Seconds\n",
    "    sample_rate=sample_rate,  # Hz\n",
    "    scan_center=pointing_center,  # Degrees\n",
    "    \n",
    "    pointing_frame=\"ra_dec\",  # Frame\n",
    "    start_time=\"2022-02-11T23:00:00\",\n",
    "    pwv_rms_frac=0.005,\n",
    "    layer_height=3e3\n",
    ")"
   ]
  },
  {
   "cell_type": "markdown",
   "metadata": {},
   "source": [
    "### Obtaining time-ordered data (TODs)\n",
    "To acquire time-ordered data (TODs), you only need to run the script. The TOD object contains time stamps, coordinates (in RA and Dec), and the intensity of each scan for every detector. The intensity units are consistently expressed in surface brightness temperature units: Kelvin Rayleigh-Jeans (Even if the input map is given in Jy/pixel. We convert the units under the hood)."
   ]
  },
  {
   "cell_type": "code",
   "execution_count": null,
   "metadata": {},
   "outputs": [],
   "source": [
    "tod = sim.run()"
   ]
  },
  {
   "cell_type": "code",
   "execution_count": null,
   "metadata": {},
   "outputs": [],
   "source": [
    "# to save the fits table (could be a Giga Byte of data)\n",
    "tod.to_fits(outfile_tbl)"
   ]
  },
  {
   "cell_type": "markdown",
   "metadata": {},
   "source": [
    "The above class generates a synthethic TOD. However, if you would rather use a real tod, such as for instance those from MUSTANG-2 observations. You can also run the following set of commands (for now commented out):"
   ]
  },
  {
   "cell_type": "code",
   "execution_count": null,
   "metadata": {},
   "outputs": [],
   "source": [
    "# fname = \"/Users/jvanmarr/Documents/Papers/mock_obs/sims/data/Signal_TOD-AGBT21B_206_01-s12.fits\"\n",
    "\n",
    "# tod = TOD()\n",
    "# tod.from_fits(filename=fname, array=\"MUSTANG-2\")"
   ]
  },
  {
   "cell_type": "markdown",
   "metadata": {},
   "source": [
    "### Usefull visualizations:\n",
    "Before proceeding, we first need to adjust the input sky as specified in the Simulation class above."
   ]
  },
  {
   "cell_type": "code",
   "execution_count": null,
   "metadata": {},
   "outputs": [],
   "source": [
    "# - Input figure\n",
    "hdu = fits.open(inputfile)\n",
    "hdu[0].data = hdu[0].data\n",
    "header = hdu[0].header\n",
    "\n",
    "header[\"CDELT1\"] = pixel_size  # degree\n",
    "header[\"CDELT2\"] = pixel_size  # degree\n",
    "header[\"CTYPE1\"] = \"RA---SIN\"\n",
    "header[\"CUNIT1\"] = \"deg     \"\n",
    "header[\"CTYPE2\"] = \"DEC--SIN\"\n",
    "header[\"CUNIT2\"] = \"deg     \"\n",
    "header[\"CRVAL1\"] = pointing_center[0]\n",
    "header[\"CRVAL2\"] = pointing_center[1]\n",
    "wcs_input = WCS(header, naxis=2)"
   ]
  },
  {
   "cell_type": "markdown",
   "metadata": {},
   "source": [
    "Now, let's visualize the scanning strategy and the TOD. The top two panels display the scanning trajectory in the elevation and azimuthal plane, while on the right, we present it on the celestial plane. This allows you to check if the scanning pattern aligns with the astronomical source.\n",
    "\n",
    "The two bottom panels show the mean powerspectra and time series of the observations."
   ]
  },
  {
   "cell_type": "code",
   "execution_count": null,
   "metadata": {},
   "outputs": [],
   "source": [
    "# visualize scanning patern\n",
    "# -----------------------\n",
    "cmap = \"RdBu_r\"\n",
    "\n",
    "fig = plt.figure(dpi=256, tight_layout=True)\n",
    "fig.set_size_inches(12, 5, forward=True)\n",
    "fig.suptitle(\"Scanning strategy\")\n",
    "\n",
    "# - Plot\n",
    "ax = plt.subplot(1, 2, 1)\n",
    "\n",
    "ax.plot(np.degrees(tod.az), np.degrees(tod.el), lw=5e-1)\n",
    "ax.set_xlabel(\"az (deg)\"), ax.set_ylabel(\"el (deg)\")\n",
    "\n",
    "ax = plt.subplot(1, 2, 2, projection=wcs_input)\n",
    "im = ax.imshow(hdu[0].data, cmap=cmap)\n",
    "\n",
    "ra, dec = ax.coords\n",
    "ra.set_major_formatter(\"hh:mm:ss\")\n",
    "dec.set_major_formatter(\"dd:mm:ss\")\n",
    "ra.set_axislabel(r\"RA [J2000]\", size=11)\n",
    "dec.set_axislabel(r\"Dec [J2000]\", size=11)\n",
    "ra.set_separator((\"h\", \"m\"))\n",
    "\n",
    "sky = SkyCoord(np.degrees(tod.ra) * u.deg, np.degrees(tod.dec) * u.deg)\n",
    "pixel_sky = wcs_input.world_to_pixel(sky)\n",
    "ax.plot(pixel_sky[0], pixel_sky[1], lw=5e-1, alpha=0.5)\n",
    "ax.set_xlabel(\"ra (deg)\"), ax.set_ylabel(\"dec (deg)\")\n",
    "plt.show()\n",
    "\n",
    "# visualize powerspectrum\n",
    "# -----------------------\n",
    "f, ps = sp.signal.periodogram(tod.data, fs=tod.time[1] - tod.time[0], window=\"tukey\")\n",
    "\n",
    "fig, axes = plt.subplots(1, 2, figsize=(10, 5), dpi=256, tight_layout=True)\n",
    "fig.suptitle(\"TOD data\")\n",
    "axes[0].plot(f[1:], ps.mean(axis=0)[1:], label=\"Observation\")\n",
    "axes[0].plot(f[1:], f[1:] ** (-8 / 3), label=\"y = f^-(8/3)\")\n",
    "axes[0].set_xlabel(r\"$\\mathscr{l}$\"), axes[0].set_ylabel(\"Power Spectra\")\n",
    "axes[0].loglog(), axes[0].legend()\n",
    "\n",
    "for uib, uband in enumerate(np.unique(tod.dets.band)):\n",
    "    band_mask = tod.dets.band == uband\n",
    "    band_mean = tod.data[band_mask].mean(axis=0)\n",
    "    axes[1].plot(tod.time - tod.time[0], band_mean, label=f\"{uband} mean\")\n",
    "\n",
    "axes[1].set_xlabel(\"time (seconds)\"), axes[1].set_ylabel(r\"temperature ($K_{RJ}$)\")\n",
    "axes[1].legend()\n",
    "\n",
    "plt.show()"
   ]
  },
  {
   "cell_type": "markdown",
   "metadata": {},
   "source": [
    "## Mapping the TODs\n",
    "To transform the TODs into images, you'll require a mapper. While you have the option to create your custom mapper using the saved TODs, we have also included a pre-implemented choice for your convenience. This built-in mapper follows a straightforward approach: it first fourier fitlers the time-streams to remove any noise smaller than the resolution of the dish and larger than the FOV. You can turn this filtering of by setting ```map_filter=False```. Then, we also remove the common mode in the timestream. We do this by removing the first eigenmode (set by ```n_modes_to_remove=1```). Then, the mapper structures the TOD on the specified grid. Notably, the mapper is designed to effectively eliminate correlated atmospheric noise among different scans, thereby enhancing the quality of the resulting images.\n",
    "\n",
    "An example of how to run the mapper on the TOD is as follows:"
   ]
  },
  {
   "cell_type": "code",
   "execution_count": null,
   "metadata": {},
   "outputs": [],
   "source": [
    "mapper = mappers.BinMapper(\n",
    "    map_height=np.radians(10 / 60),\n",
    "    map_width=np.radians(10 / 60),\n",
    "    map_res=np.radians(2 / 3600),\n",
    "    map_filter=True,\n",
    "    n_modes_to_remove=1,\n",
    ")\n",
    "mapper.add_tods(tod)\n",
    "mapper.run()"
   ]
  },
  {
   "cell_type": "markdown",
   "metadata": {},
   "source": [
    "The mapper utilizes the array information specified in the ```Simulation``` class. Below, I show the detector positions in the plane of the sky. The adjacent figure illustrates how many times a detector passed over a pixel on the map, which is related to map sensitivity and the specialized scanning strategy mentioned earlier."
   ]
  },
  {
   "cell_type": "code",
   "execution_count": null,
   "metadata": {},
   "outputs": [],
   "source": [
    "fig, axes = plt.subplots(\n",
    "    1,\n",
    "    2,\n",
    "    figsize=(10, 4.5),\n",
    "    dpi=256,\n",
    "    tight_layout=True,\n",
    "    gridspec_kw={\"width_ratios\": [1, 1.5]},\n",
    ")\n",
    "fig.suptitle(\"Detector setup for one band\")\n",
    "\n",
    "for uband in sim.array.ubands:\n",
    "    band_mask = sim.array.dets.band == uband\n",
    "\n",
    "    axes[0].plot(\n",
    "        60 * np.degrees(tod.ra - tod.ra.mean()),\n",
    "        60 * np.degrees(tod.dec - tod.dec.mean()),\n",
    "        lw=5e-1,\n",
    "        alpha=0.5,\n",
    "        label=\"Scanning Pattern\",\n",
    "    )\n",
    "    axes[0].scatter(\n",
    "        60 * np.degrees(sim.array.offset_x[band_mask]),\n",
    "        60 * np.degrees(sim.array.offset_y[band_mask]),\n",
    "        label=f\"{uband} mean\",\n",
    "        lw=5e-1,\n",
    "        c=\"orange\",\n",
    "    )\n",
    "\n",
    "axes[0].set_xlabel(r\"$\\theta_x$ offset (arcminutes)\")\n",
    "axes[0].set_ylabel(r\"$\\theta_y$ offset (arcminutes)\")\n",
    "axes[0].legend()\n",
    "\n",
    "xs, ys = np.meshgrid(\n",
    "    60 * np.rad2deg((mapper.x_bins[1:] + mapper.x_bins[:-1]) / 2),\n",
    "    60 * np.rad2deg((mapper.y_bins[1:] + mapper.y_bins[:-1]) / 2),\n",
    ")\n",
    "\n",
    "im = axes[1].pcolormesh(\n",
    "    xs,\n",
    "    ys,\n",
    "    mapper.map_cnts[tod.dets.band[0]],\n",
    "    label=\"Photon counts in band \" + tod.dets.band[0],\n",
    ")\n",
    "\n",
    "axes[1].set_xlabel(r\"$\\theta_x$ (arcmin)\"), axes[1].set_ylabel(r\"$\\theta_y$ (arcmin)\")\n",
    "cbar = plt.colorbar(im, ax=axes[1])\n",
    "cbar.set_label(\"Counts\")\n",
    "plt.show()"
   ]
  },
  {
   "cell_type": "markdown",
   "metadata": {},
   "source": [
    "## Visualizing the maps\n",
    "As interesting as the detector setup, power spectra, and time series are, the goal of this module is to create synthetic images. In order to do that, we first save the maps to fits files, simply by running ```mapper.save_maps()```. This will output the fits and update the header according to the newly set observations. The units of the fits file are the same as specified in the ```Simulation``` class, so in Jy/pixel or in Kelvin Rayleigh Jeans. The saved fits file is a cube with axis (number of bands, pixels, pixels)."
   ]
  },
  {
   "cell_type": "code",
   "execution_count": null,
   "metadata": {},
   "outputs": [],
   "source": [
    "mapper.save_maps(outfile_map)"
   ]
  },
  {
   "cell_type": "markdown",
   "metadata": {},
   "source": [
    "Below, we will visualize the maps we made, this is the final product. "
   ]
  },
  {
   "cell_type": "code",
   "execution_count": null,
   "metadata": {},
   "outputs": [],
   "source": [
    "sky_l = SkyCoord(\n",
    "    (pointing_center[0] - 2.5 / 60) * u.deg, (pointing_center[1] - 2.5 / 60.0) * u.deg\n",
    ")\n",
    "sky_u = SkyCoord(\n",
    "    (pointing_center[0] + 2.5 / 60) * u.deg, (pointing_center[1] + 2.5 / 60.0) * u.deg\n",
    ")\n",
    "\n",
    "fig = plt.figure(dpi=256, tight_layout=False)\n",
    "fig.set_size_inches(6, 4, forward=True)\n",
    "\n",
    "# - Plot Input sky\n",
    "ax = plt.subplot(1, 1, 1, projection=wcs_input)\n",
    "ax.set_title(\"True Sky\")\n",
    "im = ax.imshow(\n",
    "    hdu[0].data / (np.radians(pixel_size)) ** 2 / 1e6,\n",
    "    vmin=-0.4,\n",
    "    vmax=0,\n",
    "    cmap=cmocean.cm.deep,\n",
    ")\n",
    "cbar = plt.colorbar(im, ax=ax, shrink=1.0)\n",
    "cbar.set_label(r\"S$_{93~\\rm GHz}$ [MJy/sr]\")\n",
    "\n",
    "ra, dec = ax.coords\n",
    "ra.set_major_formatter(\"hh:mm:ss\")\n",
    "dec.set_major_formatter(\"dd:mm:ss\")\n",
    "ra.set_axislabel(r\"RA [J2000]\", size=11)\n",
    "dec.set_axislabel(r\"Dec [J2000]\", size=11)\n",
    "ra.set_separator((\"h\", \"m\"))\n",
    "\n",
    "pixel_sky_l = wcs_input.world_to_pixel(sky_l)\n",
    "pixel_sky_u = wcs_input.world_to_pixel(sky_u)\n",
    "ax.axis(\n",
    "    xmin=pixel_sky_l[0], ymin=pixel_sky_l[1], xmax=pixel_sky_u[0], ymax=pixel_sky_u[1]\n",
    ")\n",
    "plt.show()\n",
    "\n",
    "# - Plot Mock observation\n",
    "outputfile = outfile_map\n",
    "\n",
    "hdu_out = fits.open(outputfile)\n",
    "wcs_output = WCS(hdu_out[0].header, naxis=2)\n",
    "\n",
    "# - Plot\n",
    "fig = plt.figure(dpi=256, tight_layout=False)\n",
    "fig.set_size_inches(6, 4, forward=True)\n",
    "\n",
    "ax = plt.subplot(1, 1, 1, projection=wcs_output)\n",
    "ax.set_title(\"Synthetic Observation\")\n",
    "\n",
    "im = ax.imshow(\n",
    "    hdu_out[0].data[0] / (mapper.map_res**2) / 1e6, cmap=cmap, vmin=-0.15, vmax=0.15\n",
    ")\n",
    "\n",
    "cbar = plt.colorbar(im, ax=ax, shrink=1.0)\n",
    "cbar.set_label(r\"S$_{93~\\rm GHz}$ [MJy/sr]\")\n",
    "\n",
    "ra, dec = ax.coords\n",
    "ra.set_major_formatter(\"hh:mm:ss\")\n",
    "dec.set_major_formatter(\"dd:mm:ss\")\n",
    "ra.set_axislabel(r\"RA [J2000]\", size=11)\n",
    "dec.set_axislabel(r\"Dec [J2000]\", size=11)\n",
    "ra.set_separator((\"h\", \"m\"))\n",
    "\n",
    "pixel_sky_l = wcs_output.world_to_pixel(sky_l)\n",
    "pixel_sky_u = wcs_output.world_to_pixel(sky_u)\n",
    "\n",
    "ax.axis(\n",
    "    xmin=pixel_sky_l[0], ymin=pixel_sky_l[1], xmax=pixel_sky_u[0], ymax=pixel_sky_u[1]\n",
    ")\n",
    "\n",
    "plt.show()"
   ]
  }
 ],
 "metadata": {
  "kernelspec": {
   "display_name": "Python 3 (ipykernel)",
   "language": "python",
   "name": "python3"
  },
  "language_info": {
   "codemirror_mode": {
    "name": "ipython",
    "version": 3
   },
   "file_extension": ".py",
   "mimetype": "text/x-python",
   "name": "python",
   "nbconvert_exporter": "python",
   "pygments_lexer": "ipython3",
   "version": "3.8.13"
  },
  "vscode": {
   "interpreter": {
    "hash": "f88e5bf5f0be7bd9faa88242bcf07e5ffa7d513506f360fd3aab8d7c0fbd2667"
   }
  }
 },
 "nbformat": 4,
 "nbformat_minor": 4
}

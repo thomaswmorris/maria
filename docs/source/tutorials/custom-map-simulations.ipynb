{
 "cells": [
  {
   "cell_type": "markdown",
   "id": "0",
   "metadata": {},
   "source": [
    "# Custom map simulations\n",
    "\n",
    "In this tutorial we will build a simulation from scratch."
   ]
  },
  {
   "cell_type": "markdown",
   "id": "1",
   "metadata": {},
   "source": [
    "We start by defining a `Band` that will determine our array's sensitivity to different spectra. We then generate an array by specifying a field of view, which will be populated by evenly-spaced beams of the given band."
   ]
  },
  {
   "cell_type": "code",
   "execution_count": null,
   "id": "2",
   "metadata": {},
   "outputs": [],
   "source": [
    "import maria\n",
    "from maria.instrument import Band\n",
    "\n",
    "f090 = Band(\n",
    "    center=90e9,  # in Hz\n",
    "    width=20e9,  # in Hz\n",
    "    NET_RJ=40e-6,  # in K sqrt(s)\n",
    "    knee=1e0,    # in Hz\n",
    "    gain_error=5e-2)\n",
    "\n",
    "f150 = Band(\n",
    "    center=150e9, \n",
    "    width=30e9, \n",
    "    NET_RJ=60e-6, \n",
    "    knee=1e0, \n",
    "    gain_error=5e-2)"
   ]
  },
  {
   "cell_type": "code",
   "execution_count": null,
   "id": "3",
   "metadata": {},
   "outputs": [],
   "source": [
    "array = {\"field_of_view\": 0.1, \n",
    "         \"shape\": \"circle\", \n",
    "         \"beam_spacing\": 1.5,\n",
    "         \"primary_size\": 100, \n",
    "         \"bands\": [f090, f150]}\n",
    "\n",
    "instrument = maria.get_instrument(array=array)\n",
    "\n",
    "print(instrument)\n",
    "instrument.plot()"
   ]
  },
  {
   "cell_type": "markdown",
   "id": "4",
   "metadata": {},
   "source": [
    "As something to observe, we can download a map and construct a `map`. We also define a plan to do a daisy scan centered on the center of the map."
   ]
  },
  {
   "cell_type": "code",
   "execution_count": null,
   "id": "5",
   "metadata": {},
   "outputs": [],
   "source": [
    "from maria.io import fetch\n",
    "\n",
    "map_filename = fetch(\"maps/tarantula_nebula.h5\")\n",
    "\n",
    "input_map = maria.map.load(\n",
    "    filename=map_filename,\n",
    "    nu=150e9,\n",
    "    width=0.25,\n",
    "    center=(291.156, -31.23),\n",
    "    units=\"uJy/pixel\")\n",
    "\n",
    "print(input_map)\n",
    "input_map.to(\"K_RJ\").plot()"
   ]
  },
  {
   "cell_type": "code",
   "execution_count": null,
   "id": "6",
   "metadata": {},
   "outputs": [],
   "source": [
    "site = maria.get_site(\"llano_de_chajnantor\", altitude=5065)\n",
    "\n",
    "print(site)\n",
    "site.plot()"
   ]
  },
  {
   "cell_type": "code",
   "execution_count": null,
   "id": "7",
   "metadata": {},
   "outputs": [],
   "source": [
    "plan = maria.Plan(\n",
    "    start_time=\"2024-08-06T03:00:00\",\n",
    "    scan_pattern=\"daisy\",\n",
    "    scan_options={\"radius\": 0.08, \"speed\": 0.01},  # in degrees\n",
    "    duration=600,  # in seconds\n",
    "    sample_rate=50,  # in Hz\n",
    "    scan_center=(291.156, -31.23),\n",
    "    frame=\"ra_dec\")\n",
    "\n",
    "print(plan)\n",
    "plan.plot()"
   ]
  },
  {
   "cell_type": "code",
   "execution_count": null,
   "id": "8",
   "metadata": {},
   "outputs": [],
   "source": [
    "sim = maria.Simulation(\n",
    "    instrument,\n",
    "    plan=plan,\n",
    "    site=site,\n",
    "    atmosphere=\"2d\",\n",
    "    atmosphere_kwargs={\"weather\": {\"pwv\": 0.5}},\n",
    "    cmb=\"generate\",\n",
    "    map=input_map)\n",
    "\n",
    "print(sim)"
   ]
  },
  {
   "cell_type": "code",
   "execution_count": null,
   "id": "9",
   "metadata": {},
   "outputs": [],
   "source": [
    "tod = sim.run()\n",
    "\n",
    "print(tod)\n",
    "tod.plot()"
   ]
  },
  {
   "cell_type": "code",
   "execution_count": null,
   "id": "10",
   "metadata": {},
   "outputs": [],
   "source": [
    "import matplotlib.pyplot as plt\n",
    "import numpy as np\n",
    "from maria.functions.radiometry import inverse_rayleigh_jeans_spectrum, planck_spectrum\n",
    "\n",
    "band = f090\n",
    "\n",
    "T_b = np.array([2.7, 3.1])\n",
    "# T_b = 2.8\n",
    "\n",
    "spectrum = sim.atmosphere.spectrum\n",
    "\n",
    "test_T_RJ = inverse_rayleigh_jeans_spectrum(\n",
    "        planck_spectrum(T_b=np.atleast_2d(T_b), nu=spectrum.side_nu[:, None]),\n",
    "        nu=spectrum.side_nu[:, None],\n",
    "    )\n",
    "\n",
    "integral = np.trapezoid(\n",
    "    y=test_T_RJ[None, None, None] * (np.exp(-spectrum._opacity) * band.passband(spectrum.side_nu))[..., None],\n",
    "    x=spectrum.side_nu,\n",
    "    axis=-2,\n",
    ")\n",
    "# points = (test_T_b, *spectrum.points[:3])\n",
    "# xi = (\n",
    "#     T_b,\n",
    "#     kwargs[\"base_temperature\"],\n",
    "#     kwargs[\"zenith_pwv\"],\n",
    "#     kwargs[\"elevation\"],\n",
    "# )\n",
    "# #return k_B * sp.interpolate.interpn(points, integral, xi)"
   ]
  },
  {
   "cell_type": "code",
   "execution_count": null,
   "id": "11",
   "metadata": {},
   "outputs": [],
   "source": []
  },
  {
   "cell_type": "code",
   "execution_count": null,
   "id": "12",
   "metadata": {},
   "outputs": [],
   "source": [
    "f090"
   ]
  },
  {
   "cell_type": "code",
   "execution_count": null,
   "id": "13",
   "metadata": {},
   "outputs": [],
   "source": [
    "integral.shape"
   ]
  },
  {
   "cell_type": "code",
   "execution_count": null,
   "id": "14",
   "metadata": {},
   "outputs": [],
   "source": [
    "test_T_RJ.shape"
   ]
  },
  {
   "cell_type": "code",
   "execution_count": null,
   "id": "15",
   "metadata": {},
   "outputs": [],
   "source": [
    "spectrum.side_nu[:, None].shape"
   ]
  },
  {
   "cell_type": "code",
   "execution_count": null,
   "id": "16",
   "metadata": {},
   "outputs": [],
   "source": [
    "np.atleast_2d(T_b).shape"
   ]
  },
  {
   "cell_type": "code",
   "execution_count": null,
   "id": "17",
   "metadata": {},
   "outputs": [],
   "source": [
    "planck_spectrum"
   ]
  },
  {
   "cell_type": "code",
   "execution_count": null,
   "id": "18",
   "metadata": {},
   "outputs": [],
   "source": [
    "plt.plot(spectrum.side_nu, test_T_RJ)\n",
    "plt.xscale(\"log\")"
   ]
  },
  {
   "cell_type": "code",
   "execution_count": null,
   "id": "19",
   "metadata": {},
   "outputs": [],
   "source": [
    "\n",
    "if spectrum:\n",
    "    test_T_RJ = inverse_rayleigh_jeans_spectrum(\n",
    "        planck_spectrum(T_b=T_b, nu=spectrum.side_nu),\n",
    "        nu=spectrum.side_nu,\n",
    "    )\n",
    "    integral = np.trapezoid(\n",
    "        y=test_T_RJ[:, None, None, None] * np.exp(-spectrum._opacity) * band.passband(spectrum.side_nu),\n",
    "        x=spectrum.side_nu,\n",
    "        axis=-1,\n",
    "    )\n",
    "    points = (test_T_b, *spectrum.points[:3])\n",
    "    xi = (\n",
    "        T_b,\n",
    "        kwargs[\"base_temperature\"],\n",
    "        kwargs[\"zenith_pwv\"],\n",
    "        kwargs[\"elevation\"],\n",
    "    )\n",
    "    return k_B * sp.interpolate.interpn(points, integral, xi)\n",
    "\n",
    "else:\n",
    "    test_T_RJ = inverse_rayleigh_jeans_spectrum(planck_spectrum(T_b=test_T_b[:, None], nu=band.nu), nu=band.nu)\n",
    "    integral = np.trapezoid(y=test_T_RJ * band.passband(band.nu), x=band.nu, axis=-1)\n",
    "    return k_B * sp.interpolate.interp1d(test_T_b, integral)(T_b)\n"
   ]
  },
  {
   "cell_type": "code",
   "execution_count": null,
   "id": "20",
   "metadata": {},
   "outputs": [],
   "source": [
    "import numpy as np\n",
    "import scipy as sp\n",
    "\n",
    "self = sim\n",
    "\n",
    "o = sp.interpolate.interp1d(self.atmosphere.spectrum.side_nu, \n",
    "                        self.atmosphere.spectrum._opacity)(f090.nu)"
   ]
  },
  {
   "cell_type": "code",
   "execution_count": null,
   "id": "21",
   "metadata": {},
   "outputs": [],
   "source": [
    "np.ones_like(o).shape"
   ]
  },
  {
   "cell_type": "code",
   "execution_count": null,
   "id": "22",
   "metadata": {},
   "outputs": [],
   "source": []
  },
  {
   "cell_type": "code",
   "execution_count": null,
   "id": "23",
   "metadata": {},
   "outputs": [],
   "source": [
    "plt.plot(sim.atmosphere.spectrum.opacity(nu=f090.nu))"
   ]
  },
  {
   "cell_type": "code",
   "execution_count": null,
   "id": "24",
   "metadata": {},
   "outputs": [],
   "source": [
    "spectrum"
   ]
  },
  {
   "cell_type": "code",
   "execution_count": null,
   "id": "25",
   "metadata": {},
   "outputs": [],
   "source": [
    "%debug"
   ]
  },
  {
   "cell_type": "code",
   "execution_count": null,
   "id": "26",
   "metadata": {},
   "outputs": [],
   "source": [
    "from maria.mappers import BinMapper\n",
    "\n",
    "mapper = BinMapper(\n",
    "    center=(291.156, -31.23),\n",
    "    frame=\"ra_dec\",\n",
    "    width=0.25,\n",
    "    height=0.25,\n",
    "    resolution=0.25 / 256,\n",
    "    tod_preprocessing={\n",
    "        \"window\": {\"name\": \"tukey\", \"kwargs\": {\"alpha\": 0.1}},\n",
    "        \"remove_spline\": {\"knot_spacing\": 30, \"remove_el_gradient\": True},\n",
    "        \"remove_modes\": {\"modes_to_remove\": [0]},\n",
    "    },\n",
    "    map_postprocessing={\n",
    "        \"gaussian_filter\": {\"sigma\": 1},\n",
    "        \"median_filter\": {\"size\": 1},\n",
    "    },\n",
    "    units=\"mK_RJ\",\n",
    ")\n",
    "\n",
    "mapper.add_tods(tod)\n",
    "\n",
    "output_map = mapper.run()"
   ]
  },
  {
   "cell_type": "markdown",
   "id": "27",
   "metadata": {},
   "source": [
    "We can see the recovered map with"
   ]
  },
  {
   "cell_type": "code",
   "execution_count": null,
   "id": "28",
   "metadata": {},
   "outputs": [],
   "source": [
    "print(output_map)\n",
    "output_map.plot()"
   ]
  }
 ],
 "metadata": {
  "kernelspec": {
   "display_name": "Python 3 (ipykernel)",
   "language": "python",
   "name": "python3"
  },
  "language_info": {
   "codemirror_mode": {
    "name": "ipython",
    "version": 3
   },
   "file_extension": ".py",
   "mimetype": "text/x-python",
   "name": "python",
   "nbconvert_exporter": "python",
   "pygments_lexer": "ipython3",
   "version": "3.12.8"
  },
  "vscode": {
   "interpreter": {
    "hash": "b0fa6594d8f4cbf19f97940f81e996739fb7646882a419484c72d19e05852a7e"
   }
  }
 },
 "nbformat": 4,
 "nbformat_minor": 5
}

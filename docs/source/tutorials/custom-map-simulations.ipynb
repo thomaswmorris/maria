{
 "cells": [
  {
   "cell_type": "markdown",
   "id": "0",
   "metadata": {},
   "source": [
    "# Custom map simulations\n",
    "\n",
    "In this tutorial we will build a simulation from scratch."
   ]
  },
  {
   "cell_type": "markdown",
   "id": "1",
   "metadata": {},
   "source": [
    "We start by defining a `Band` that will determine our array's sensitivity to different spectra. We then generate an array by specifying a field of view, which will be populated by evenly-spaced beams of the given band."
   ]
  },
  {
   "cell_type": "code",
   "execution_count": null,
   "id": "2",
   "metadata": {},
   "outputs": [],
   "source": [
    "import maria\n",
    "from maria.instrument import Band\n",
    "\n",
    "f090 = Band(\n",
    "    center=90e9,  # in Hz\n",
    "    width=20e9,  # in Hz\n",
    "    NET_RJ=40e-6,  # in K sqrt(s)\n",
    "    knee=1e0,    # in Hz\n",
    "    gain_error=5e-2)\n",
    "\n",
    "f150 = Band(\n",
    "    center=150e9, \n",
    "    width=30e9, \n",
    "    NET_RJ=60e-6, \n",
    "    knee=1e0, \n",
    "    gain_error=5e-2)"
   ]
  },
  {
   "cell_type": "code",
   "execution_count": null,
   "id": "3",
   "metadata": {},
   "outputs": [],
   "source": [
    "m2 = Band('m2/f093')\n",
    "\n",
    "\n",
    "array = {\"field_of_view\": 0.5, \n",
    "         \"shape\": \"circle\", \n",
    "         \"beam_spacing\": 1.5,\n",
    "         \"primary_size\": 25, \n",
    "         \"bands\": [m2]}\n"
   ]
  },
  {
   "cell_type": "code",
   "execution_count": null,
   "id": "4",
   "metadata": {},
   "outputs": [],
   "source": [
    "array = {\"field_of_view\": 0.5, \n",
    "         \"shape\": \"circle\", \n",
    "         \"beam_spacing\": 1.5,\n",
    "         \"primary_size\": 25, \n",
    "         \"bands\": [f090, f150]}\n",
    "\n",
    "instrument = maria.get_instrument(array=array)\n",
    "\n",
    "\n",
    "# print(instrument.arrays)\n",
    "\n",
    "print(instrument)\n",
    "instrument.plot()"
   ]
  },
  {
   "cell_type": "markdown",
   "id": "5",
   "metadata": {},
   "source": [
    "Here, the `fetch` function downloads a map to the path `map_filename`, but `map_filename` can be any `.h5` or `.fits` file of an image that corresponds to the `maria` map convention (see [Maps](https://thomaswmorris.com/maria/usage/inputs/maps))."
   ]
  },
  {
   "cell_type": "code",
   "execution_count": null,
   "id": "6",
   "metadata": {},
   "outputs": [],
   "source": [
    "from maria.io import fetch\n",
    "\n",
    "map_filename = fetch(\"maps/cluster1.fits\")\n",
    "\n",
    "input_map = maria.map.load(\n",
    "    filename=map_filename,\n",
    "    nu=150e9,\n",
    "    center=(291.156, -31.23))\n",
    "input_map.data *= 1e1\n",
    "\n",
    "print(input_map)\n",
    "input_map.to(\"K_RJ\").plot()"
   ]
  },
  {
   "cell_type": "code",
   "execution_count": null,
   "id": "7",
   "metadata": {},
   "outputs": [],
   "source": [
    "site = maria.get_site(\"llano_de_chajnantor\", altitude=5065)\n",
    "print(site.earth_location\n",
    ")\n",
    "print(site)\n",
    "site.plot()"
   ]
  },
  {
   "cell_type": "code",
   "execution_count": null,
   "id": "8",
   "metadata": {},
   "outputs": [],
   "source": [
    "plan = maria.Plan(\n",
    "    start_time=\"2024-08-06T03:00:00\",\n",
    "    scan_pattern=\"daisy\",\n",
    "    scan_options={\"radius\": 0.5, \"speed\": 0.1},  # in degrees\n",
    "    duration=900,  # in seconds\n",
    "    sample_rate=50,  # in Hz\n",
    "    scan_center=(291.156, -31.23),\n",
    "    frame=\"ra_dec\")\n",
    "\n",
    "print(plan)\n",
    "plan.plot()"
   ]
  },
  {
   "cell_type": "code",
   "execution_count": null,
   "id": "9",
   "metadata": {},
   "outputs": [],
   "source": [
    "sim = maria.Simulation(\n",
    "    instrument,\n",
    "    plan=plan,\n",
    "    site=site,\n",
    "    atmosphere=\"2d\",\n",
    "    atmosphere_kwargs={\"weather\": {\"pwv\": 0.5}},\n",
    "    map=input_map)\n",
    "\n",
    "print(sim)"
   ]
  },
  {
   "cell_type": "code",
   "execution_count": null,
   "id": "10",
   "metadata": {},
   "outputs": [],
   "source": [
    "tod = sim.run()\n",
    "\n",
    "print(tod)\n",
    "tod.plot()"
   ]
  },
  {
   "cell_type": "code",
   "execution_count": null,
   "id": "11",
   "metadata": {},
   "outputs": [],
   "source": [
    "from maria.mappers import BinMapper\n",
    "\n",
    "mapper = BinMapper(\n",
    "    center=(291.156, -31.23),\n",
    "    frame=\"ra_dec\",\n",
    "    width=1.,\n",
    "    height=1.,\n",
    "    resolution=1. / 256,\n",
    "    tod_preprocessing={\n",
    "        \"window\": {\"name\": \"tukey\", \"kwargs\": {\"alpha\": 0.1}},\n",
    "        \"remove_spline\": {\"knot_spacing\": 30, \"remove_el_gradient\": True},\n",
    "        \"remove_modes\": {\"modes_to_remove\": [0]},\n",
    "    },\n",
    "    map_postprocessing={\n",
    "        \"gaussian_filter\": {\"sigma\": 1},\n",
    "    },\n",
    "    units=\"mK_RJ\",\n",
    ")\n",
    "\n",
    "mapper.add_tods(tod)\n",
    "\n",
    "output_map = mapper.run()"
   ]
  },
  {
   "cell_type": "markdown",
   "id": "12",
   "metadata": {},
   "source": [
    "We can see the recovered map with"
   ]
  },
  {
   "cell_type": "code",
   "execution_count": null,
   "id": "13",
   "metadata": {},
   "outputs": [],
   "source": [
    "output_map.plot(nu_index=[0, 1])"
   ]
  },
  {
   "cell_type": "code",
   "execution_count": null,
   "id": "14",
   "metadata": {},
   "outputs": [],
   "source": [
    "tod.dets.bands"
   ]
  },
  {
   "cell_type": "code",
   "execution_count": null,
   "id": "15",
   "metadata": {},
   "outputs": [],
   "source": [
    "instrument.bands"
   ]
  },
  {
   "cell_type": "code",
   "execution_count": null,
   "id": "16",
   "metadata": {},
   "outputs": [],
   "source": [
    "tod.dets.bands"
   ]
  },
  {
   "cell_type": "code",
   "execution_count": null,
   "id": "17",
   "metadata": {},
   "outputs": [],
   "source": [
    "import maria"
   ]
  },
  {
   "cell_type": "code",
   "execution_count": null,
   "id": "18",
   "metadata": {},
   "outputs": [],
   "source": [
    "from maria import Simulation\n",
    "\n",
    "sim = Simulation()\n",
    "_tod = sim.run()\n"
   ]
  },
  {
   "cell_type": "code",
   "execution_count": null,
   "id": "19",
   "metadata": {},
   "outputs": [],
   "source": [
    "tod.plot()"
   ]
  },
  {
   "cell_type": "code",
   "execution_count": null,
   "id": "20",
   "metadata": {},
   "outputs": [],
   "source": []
  },
  {
   "cell_type": "code",
   "execution_count": null,
   "id": "21",
   "metadata": {},
   "outputs": [],
   "source": []
  }
 ],
 "metadata": {
  "kernelspec": {
   "display_name": "maria_arc_env",
   "language": "python",
   "name": "python3"
  },
  "language_info": {
   "codemirror_mode": {
    "name": "ipython",
    "version": 3
   },
   "file_extension": ".py",
   "mimetype": "text/x-python",
   "name": "python",
   "nbconvert_exporter": "python",
   "pygments_lexer": "ipython3",
   "version": "3.12.9"
  }
 },
 "nbformat": 4,
 "nbformat_minor": 5
}

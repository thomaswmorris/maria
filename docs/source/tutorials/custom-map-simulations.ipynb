{
 "cells": [
  {
   "cell_type": "markdown",
   "id": "0",
   "metadata": {},
   "source": [
    "# Custom map simulations\n",
    "\n",
    "In this tutorial we will build a simulation from scratch."
   ]
  },
  {
   "cell_type": "markdown",
   "id": "1",
   "metadata": {},
   "source": [
    "We start by defining a `Band` that will determine our array's sensitivity to different spectra. We then generate an array by specifying a field of view, which will be populated by evenly-spaced beams of the given band."
   ]
  },
  {
   "cell_type": "code",
   "execution_count": null,
   "id": "2",
   "metadata": {},
   "outputs": [],
   "source": [
    "import maria\n",
    "from maria.instrument import Band\n",
    "\n",
    "f090 = Band(\n",
    "    center=90,  # in GHz\n",
    "    width=20,\n",
    "    sensitivity=3e-5,  # in K sqrt(s)\n",
    "    knee=1e0,\n",
    "    gain_error=5e-2,\n",
    ")\n",
    "\n",
    "f150 = Band(center=150, width=30, sensitivity=5e-5, knee=1e0, gain_error=5e-2)"
   ]
  },
  {
   "cell_type": "code",
   "execution_count": null,
   "id": "3",
   "metadata": {},
   "outputs": [],
   "source": [
    "array = {\"field_of_view\": 0.1, \"primary_size\": 100, \"bands\": [f090, f150]}\n",
    "\n",
    "instrument = maria.get_instrument(array=array)\n",
    "\n",
    "instrument.plot()"
   ]
  },
  {
   "cell_type": "markdown",
   "id": "4",
   "metadata": {},
   "source": [
    "As something to observe, we can download a map and construct a `map`. We also define a plan to do a daisy scan centered on the center of the map."
   ]
  },
  {
   "cell_type": "code",
   "execution_count": null,
   "id": "5",
   "metadata": {},
   "outputs": [],
   "source": [
    "from maria.io import fetch\n",
    "\n",
    "map_filename = fetch(\"maps/big_cluster.fits\")\n",
    "\n",
    "input_map = maria.map.read_fits(\n",
    "    filename=map_filename,\n",
    "    nu=150,\n",
    "    index=1,\n",
    "    width=0.25,\n",
    "    center=(150, 10),\n",
    "    units=\"Jy/pixel\",\n",
    ")\n",
    "\n",
    "input_map.data *= 4\n",
    "input_map.to(\"mK_RJ\").plot()"
   ]
  },
  {
   "cell_type": "code",
   "execution_count": null,
   "id": "6",
   "metadata": {},
   "outputs": [],
   "source": [
    "plan = maria.Plan(\n",
    "    scan_pattern=\"daisy\",\n",
    "    scan_options={\"radius\": 0.1, \"speed\": 0.02},  # in degrees\n",
    "    duration=600,  # in seconds\n",
    "    sample_rate=50,  # in Hz\n",
    "    scan_center=(150, 10),\n",
    "    frame=\"ra_dec\",\n",
    ")\n",
    "\n",
    "plan.plot()"
   ]
  },
  {
   "cell_type": "code",
   "execution_count": null,
   "id": "7",
   "metadata": {},
   "outputs": [],
   "source": [
    "sim = maria.Simulation(\n",
    "    instrument,\n",
    "    plan=plan,\n",
    "    site=\"llano_de_chajnantor\",\n",
    "    map=input_map,\n",
    "    atmosphere=\"2d\",\n",
    ")"
   ]
  },
  {
   "cell_type": "code",
   "execution_count": null,
   "id": "8",
   "metadata": {},
   "outputs": [],
   "source": [
    "tod = sim.run()"
   ]
  },
  {
   "cell_type": "code",
   "execution_count": null,
   "id": "9",
   "metadata": {},
   "outputs": [],
   "source": [
    "tod.plot()"
   ]
  },
  {
   "cell_type": "code",
   "execution_count": null,
   "id": "10",
   "metadata": {},
   "outputs": [],
   "source": [
    "from maria.mappers import BinMapper\n",
    "\n",
    "mapper = BinMapper(\n",
    "    center=(150, 10),\n",
    "    frame=\"ra_dec\",\n",
    "    width=0.25,\n",
    "    height=0.25,\n",
    "    resolution=0.25 / 200,\n",
    "    tod_preprocessing={\n",
    "        \"window\": {\"name\": \"tukey\", \"kwargs\": {\"alpha\": 0.1}},\n",
    "        \"remove_spline\": {\"knot_spacing\": 10},\n",
    "        \"remove_modes\": {\"modes_to_remove\": [0]},\n",
    "    },\n",
    "    map_postprocessing={\n",
    "        \"gaussian_filter\": {\"sigma\": 1},\n",
    "        \"median_filter\": {\"size\": 1},\n",
    "    },\n",
    "    units=\"mK_RJ\",\n",
    ")\n",
    "\n",
    "mapper.add_tods(tod)\n",
    "\n",
    "output_map = mapper.run()"
   ]
  },
  {
   "cell_type": "code",
   "execution_count": null,
   "id": "11",
   "metadata": {},
   "outputs": [],
   "source": [
    "output_map.plot()"
   ]
  }
 ],
 "metadata": {
  "kernelspec": {
   "display_name": "Python 3 (ipykernel)",
   "language": "python",
   "name": "python3"
  },
  "language_info": {
   "codemirror_mode": {
    "name": "ipython",
    "version": 3
   },
   "file_extension": ".py",
   "mimetype": "text/x-python",
   "name": "python",
   "nbconvert_exporter": "python",
   "pygments_lexer": "ipython3",
   "version": "3.12.7"
  },
  "vscode": {
   "interpreter": {
    "hash": "b0fa6594d8f4cbf19f97940f81e996739fb7646882a419484c72d19e05852a7e"
   }
  }
 },
 "nbformat": 4,
 "nbformat_minor": 5
}

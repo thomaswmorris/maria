{
 "cells": [
  {
   "cell_type": "markdown",
   "id": "6970217f",
   "metadata": {},
   "source": [
    "### Customizing observations\n",
    "\n",
    "If we want to customize our simulation, we simply pass arguments to overwrite the defaults."
   ]
  },
  {
   "cell_type": "code",
   "execution_count": null,
   "id": "ee8a9126",
   "metadata": {},
   "outputs": [],
   "source": [
    "import maria"
   ]
  },
  {
   "cell_type": "markdown",
   "id": "f96be1e6",
   "metadata": {},
   "source": [
    "We can customize objects by telling them where to get their base, and adjust that base with additional arguments. Let's make the GBT twice as big and put it at the South Pole (though at the altitude of the Atacama):"
   ]
  },
  {
   "cell_type": "code",
   "execution_count": null,
   "id": "37ba028f",
   "metadata": {},
   "outputs": [],
   "source": [
    "AtLAST = maria.get_array(\"MUSTANG-2\", \n",
    "                         primary_size=200)\n",
    "\n",
    "daisy_scan = maria.get_pointing(\"daisy\", \n",
    "                                integration_time=60,\n",
    "                                coord_center=[0,90],\n",
    "                                coord_frame=\"az_el\")\n",
    "                                \n",
    "gbt = maria.get_site(\"GBT\")"
   ]
  },
  {
   "cell_type": "code",
   "execution_count": null,
   "id": "a17c2481",
   "metadata": {},
   "outputs": [],
   "source": [
    "import weathergen\n",
    "\n",
    "weather = weathergen.Weather(region=\"green_bank\")\n",
    "weather.generate()"
   ]
  },
  {
   "cell_type": "code",
   "execution_count": null,
   "id": "ebcc7c8d",
   "metadata": {},
   "outputs": [],
   "source": [
    "weather.time"
   ]
  },
  {
   "cell_type": "code",
   "execution_count": null,
   "id": "ccbf66b3",
   "metadata": {},
   "outputs": [],
   "source": [
    "weather.column_water_vapor"
   ]
  },
  {
   "cell_type": "code",
   "execution_count": null,
   "id": "4062068a",
   "metadata": {},
   "outputs": [],
   "source": []
  }
 ],
 "metadata": {
  "kernelspec": {
   "display_name": "Python 3 (ipykernel)",
   "language": "python",
   "name": "python3"
  },
  "language_info": {
   "codemirror_mode": {
    "name": "ipython",
    "version": 3
   },
   "file_extension": ".py",
   "mimetype": "text/x-python",
   "name": "python",
   "nbconvert_exporter": "python",
   "pygments_lexer": "ipython3",
   "version": "3.11.4"
  },
  "vscode": {
   "interpreter": {
    "hash": "f88e5bf5f0be7bd9faa88242bcf07e5ffa7d513506f360fd3aab8d7c0fbd2667"
   }
  }
 },
 "nbformat": 4,
 "nbformat_minor": 5
}

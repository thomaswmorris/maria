{
 "cells": [
  {
   "cell_type": "markdown",
   "id": "6970217f",
   "metadata": {},
   "source": [
    "### Customizing observations\n",
    "\n",
    "If we want to customize our simulation, we simply need to change the configuration of the Array, Pointing, and Site objects."
   ]
  },
  {
   "cell_type": "code",
   "execution_count": null,
   "id": "ee8a9126",
   "metadata": {},
   "outputs": [],
   "source": [
    "import matplotlib.pyplot as plt\n",
    "\n",
    "import maria \n",
    "from maria import models\n",
    "from maria import Array, Pointing, Site"
   ]
  },
  {
   "cell_type": "markdown",
   "id": "9a0a9cba",
   "metadata": {},
   "source": [
    "For our custom array, we write out an `array_config` and convert it to an  `Array` object:"
   ]
  },
  {
   "cell_type": "code",
   "execution_count": null,
   "id": "37ba028f",
   "metadata": {},
   "outputs": [],
   "source": [
    "AtLAST_array_config = {\n",
    "        \"bands\": [\n",
    "            [27e9, 5e9, 100], \n",
    "            [39e9, 5e9, 100],\n",
    "            [93e9, 10e9, 100],\n",
    "            [145e9, 10e9, 100],\n",
    "            [225e9, 30e9, 100],\n",
    "            [280e9, 40e9, 100]\n",
    "        ],\n",
    "        \"geometry\": \"hex\", \n",
    "        \"field_of_view\": 1.3, \n",
    "        \"primary_size\": 50,   \n",
    "        \"band_grouping\": \"randomized\",   \n",
    "        \"az_bounds\": [0, 360],  \n",
    "        \"el_bounds\": [20, 90],\n",
    "        \"max_az_vel\": 3,\n",
    "        \"max_el_vel\": 2,\n",
    "        \"max_az_acc\": 1,\n",
    "        \"max_el_acc\": 0.25\n",
    "            }\n",
    "\n",
    "AtLAST = maria.Array(AtLAST_array_config)"
   ]
  },
  {
   "cell_type": "markdown",
   "id": "9a0a9cba",
   "metadata": {},
   "source": [
    "and similarly for the `Pointing` and `Site` objects:"
   ]
  },
  {
   "cell_type": "code",
   "execution_count": null,
   "id": "37ba028f",
   "metadata": {},
   "outputs": [],
   "source": [
    "daisy_scan_config = {\n",
    "                    \"start_time\": \"2022-07-01T08:00:00\",\n",
    "                    \"integration_time\": 600,\n",
    "                    \"scan_pattern\": \"daisy\",\n",
    "                    \"coord_center\": [0, 90], \n",
    "                    \"coord_throws\": [2, 2],\n",
    "                    \"coord_frame\": \"az_el\", \n",
    "                    \"coord_units\": \"degrees\", \n",
    "                    \"scan_period\": 120, \n",
    "                    \"sample_rate\": 20,  \n",
    "                    \"seed\": 42\n",
    "                    }\n",
    "\n",
    "daisy_scan = maria.Pointing(daisy_scan_config)\n",
    "\n",
    "AtLAST_site_config = {\n",
    "                    \"region\" : \"chajnantor\",\n",
    "                    \"latitude\" : -23.0058,\n",
    "                    \"longitude\" : -67.7592,\n",
    "                    \"altitude\" : 5064\n",
    "                    }\n",
    "\n",
    "AtLAST_site = maria.Site(AtLAST_site_config)"
   ]
  },
  {
   "cell_type": "markdown",
   "id": "d074aa02",
   "metadata": {},
   "source": [
    "If we don't want to write out configs from scratch, we can load a predefined one and tweak it. We can list the available default sites:"
   ]
  },
  {
   "cell_type": "code",
   "execution_count": null,
   "id": "1649aab4",
   "metadata": {},
   "outputs": [],
   "source": [
    "print(maria.SITES)"
   ]
  },
  {
   "cell_type": "markdown",
   "id": "175b1f7e",
   "metadata": {},
   "source": [
    "Let's put APEX up a bit higher:"
   ]
  },
  {
   "cell_type": "code",
   "execution_count": null,
   "id": "81af0c27",
   "metadata": {},
   "outputs": [],
   "source": [
    "APEX_config = maria.get_site_config(\"APEX\")\n",
    "APEX_config[\"altitude\"] += 500\n",
    "print(APEX_config)"
   ]
  }
 ],
 "metadata": {
  "kernelspec": {
   "display_name": "Python 3.9.13 ('maria')",
   "language": "python",
   "name": "python3"
  },
  "language_info": {
   "codemirror_mode": {
    "name": "ipython",
    "version": 3
   },
   "file_extension": ".py",
   "mimetype": "text/x-python",
   "name": "python",
   "nbconvert_exporter": "python",
   "pygments_lexer": "ipython3",
   "version": "3.9.13"
  },
  "vscode": {
   "interpreter": {
    "hash": "f88e5bf5f0be7bd9faa88242bcf07e5ffa7d513506f360fd3aab8d7c0fbd2667"
   }
  }
 },
 "nbformat": 4,
 "nbformat_minor": 5
}

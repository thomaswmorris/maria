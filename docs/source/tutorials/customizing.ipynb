{
 "cells": [
  {
   "cell_type": "markdown",
   "id": "6970217f",
   "metadata": {},
   "source": [
    "### Customizing observations\n",
    "\n",
    "If we want to customize our simulation, we simply pass arguments to overwrite the defaults."
   ]
  },
  {
   "cell_type": "code",
   "execution_count": 3,
   "id": "ee8a9126",
   "metadata": {},
   "outputs": [],
   "source": [
    "import matplotlib.pyplot as plt\n",
    "\n",
    "import maria \n",
    "from maria import models\n",
    "from maria import Array, Pointing, Site"
   ]
  },
  {
   "cell_type": "code",
   "execution_count": 4,
   "id": "37ba028f",
   "metadata": {},
   "outputs": [],
   "source": [
    "AtLAST = maria.get_array('MUSTANG-2', primary_size=150)\n",
    "\n",
    "daisy_scan = maria.get_pointing(\"DAISY_2deg\", \n",
    "                                integration_time=60,\n",
    "                                coord_center=[0,0],\n",
    "                                coord_frame='ra_dec')\n",
    "                                \n",
    "south_pole = maria.get_site('SPT', altitude=5000)"
   ]
  },
  {
   "cell_type": "markdown",
   "id": "9a0a9cba",
   "metadata": {},
   "source": [
    "and similarly for the `Pointing` and `Site` objects:"
   ]
  },
  {
   "cell_type": "code",
   "execution_count": 5,
   "id": "1649aab4",
   "metadata": {},
   "outputs": [
    {
     "name": "stdout",
     "output_type": "stream",
     "text": [
      "['APEX', 'ACT', 'GBT', 'JCMT', 'SPT']\n"
     ]
    }
   ],
   "source": [
    "print(maria.SITES)"
   ]
  }
 ],
 "metadata": {
  "kernelspec": {
   "display_name": "Python 3.9.13 ('maria')",
   "language": "python",
   "name": "python3"
  },
  "language_info": {
   "codemirror_mode": {
    "name": "ipython",
    "version": 3
   },
   "file_extension": ".py",
   "mimetype": "text/x-python",
   "name": "python",
   "nbconvert_exporter": "python",
   "pygments_lexer": "ipython3",
   "version": "3.9.13"
  },
  "vscode": {
   "interpreter": {
    "hash": "f88e5bf5f0be7bd9faa88242bcf07e5ffa7d513506f360fd3aab8d7c0fbd2667"
   }
  }
 },
 "nbformat": 4,
 "nbformat_minor": 5
}

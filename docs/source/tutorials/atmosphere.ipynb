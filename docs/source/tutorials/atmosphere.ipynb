{
 "cells": [
  {
   "cell_type": "markdown",
   "id": "6970217f",
   "metadata": {},
   "source": [
    "### Customizing observations\n",
    "\n",
    "If we want to customize our simulation, we simply pass arguments to overwrite the defaults."
   ]
  },
  {
   "cell_type": "code",
   "execution_count": 1,
   "id": "ee8a9126",
   "metadata": {},
   "outputs": [],
   "source": [
    "import maria"
   ]
  },
  {
   "cell_type": "markdown",
   "id": "f96be1e6",
   "metadata": {},
   "source": [
    "We can customize objects by telling them where to get their base, and adjust that base with additional arguments. Let's make the GBT twice as big and put it at the South Pole (though at the altitude of the Atacama):"
   ]
  },
  {
   "cell_type": "code",
   "execution_count": 3,
   "id": "37ba028f",
   "metadata": {},
   "outputs": [],
   "source": [
    "AtLAST = maria.get_array(\"MUSTANG-2\", \n",
    "                         primary_size=200)\n",
    "\n",
    "daisy_scan = maria.get_pointing(\"DAISY-2deg\", \n",
    "                                integration_time=60,\n",
    "                                coord_center=[0,90],\n",
    "                                coord_frame=\"az_el\")\n",
    "                                \n",
    "south_pole = maria.get_site(\"SPT\", altitude=5000)"
   ]
  },
  {
   "cell_type": "code",
   "execution_count": 4,
   "id": "1166c203",
   "metadata": {},
   "outputs": [
    {
     "ename": "TypeError",
     "evalue": "__init__() missing 3 required positional arguments: 'array', 'pointing', and 'site'",
     "output_type": "error",
     "traceback": [
      "\u001b[0;31m---------------------------------------------------------------------------\u001b[0m",
      "\u001b[0;31mTypeError\u001b[0m                                 Traceback (most recent call last)",
      "Cell \u001b[0;32mIn [4], line 1\u001b[0m\n\u001b[0;32m----> 1\u001b[0m \u001b[43mmaria\u001b[49m\u001b[38;5;241;43m.\u001b[39;49m\u001b[43matmosphere\u001b[49m\u001b[38;5;241;43m.\u001b[39;49m\u001b[43mLinearAngularSimulation\u001b[49m\u001b[43m(\u001b[49m\u001b[43m)\u001b[49m\n",
      "\u001b[0;31mTypeError\u001b[0m: __init__() missing 3 required positional arguments: 'array', 'pointing', and 'site'"
     ]
    }
   ],
   "source": [
    "maria.atmosphere.LinearAngularSimulation(AtLAST, daisy_scan, south_pole)"
   ]
  },
  {
   "cell_type": "code",
   "execution_count": null,
   "id": "d46fa64d",
   "metadata": {},
   "outputs": [],
   "source": []
  }
 ],
 "metadata": {
  "kernelspec": {
   "display_name": "Python 3 (ipykernel)",
   "language": "python",
   "name": "python3"
  },
  "language_info": {
   "codemirror_mode": {
    "name": "ipython",
    "version": 3
   },
   "file_extension": ".py",
   "mimetype": "text/x-python",
   "name": "python",
   "nbconvert_exporter": "python",
   "pygments_lexer": "ipython3",
   "version": "3.9.13"
  },
  "vscode": {
   "interpreter": {
    "hash": "f88e5bf5f0be7bd9faa88242bcf07e5ffa7d513506f360fd3aab8d7c0fbd2667"
   }
  }
 },
 "nbformat": 4,
 "nbformat_minor": 5
}

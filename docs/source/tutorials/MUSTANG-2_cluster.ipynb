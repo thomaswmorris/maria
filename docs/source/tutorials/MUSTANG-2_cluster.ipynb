{
 "cells": [
  {
   "attachments": {},
   "cell_type": "markdown",
   "metadata": {},
   "source": [
    "## Simulating observations with MUSTANG-2\n",
    "\n",
    "MUSTANG-2 is a bolometric array on the [Green Bank Telescope](https://en.wikipedia.org/wiki/Green_Bank_Telescope). In this notebook we simulate an observation of a galactic cluster."
   ]
  },
  {
   "cell_type": "code",
   "execution_count": null,
   "metadata": {},
   "outputs": [],
   "source": [
    "import maria\n",
    "import scipy as sp\n",
    "import numpy as np\n",
    "import matplotlib.pyplot as plt\n",
    "\n",
    "map_filename = maria.io.fetch(\"maps/cluster.fits\")\n",
    "\n",
    "# load in the map from a fits file\n",
    "input_map = maria.map.read_fits(\n",
    "    nu=150,\n",
    "    filename=map_filename,  # filename\n",
    "    resolution=8.714e-05,  # pixel size in degrees\n",
    "    index=0,  # index for fits file\n",
    "    center=(150, 10),  # position in the sky\n",
    "    units=\"Jy/pixel\",  # Units of the input map\n",
    ")\n",
    "\n",
    "input_map.data *= 1e1\n",
    "input_map.to(units=\"uK_RJ\").plot()"
   ]
  },
  {
   "cell_type": "markdown",
   "metadata": {},
   "source": [
    "### Observing strategy\n",
    "Below we define the observing strategy containing the duration, integration time, read out rate, and pointing center"
   ]
  },
  {
   "cell_type": "code",
   "execution_count": null,
   "metadata": {},
   "outputs": [],
   "source": [
    "# load the map into maria\n",
    "plan = maria.get_plan(\n",
    "    scan_pattern=\"daisy\",  # scanning pattern\n",
    "    scan_options={\"radius\": 0.05, \"speed\": 0.01},  # in degrees\n",
    "    duration=1200,  # integration time in seconds\n",
    "    sample_rate=50,  # in Hz\n",
    "    scan_center=(150, 10),  # position in the sky\n",
    "    frame=\"ra_dec\",\n",
    ")\n",
    "\n",
    "plan.plot()"
   ]
  },
  {
   "cell_type": "markdown",
   "metadata": {},
   "source": [
    "### Define instrument\n",
    "We have configuration files in place to mimic typical telescopes and instruments. To run a MUSTANG-2 like observations, simply initialize the instrument as follows. Other tutorials will go into more detail on how to adjust it to test out how telescope designs affect the recovered signal. "
   ]
  },
  {
   "cell_type": "code",
   "execution_count": null,
   "metadata": {},
   "outputs": [],
   "source": [
    "instrument = maria.get_instrument(\"MUSTANG-2\")"
   ]
  },
  {
   "cell_type": "markdown",
   "metadata": {},
   "source": [
    "We can plot the instruments which will show the location of the detectors in the FoV with their diffrection limited beam size. The detectors for MUSTANG-2 are spaced at 2 f-lambda."
   ]
  },
  {
   "cell_type": "code",
   "execution_count": null,
   "metadata": {},
   "outputs": [],
   "source": [
    "instrument.plot()"
   ]
  },
  {
   "cell_type": "markdown",
   "metadata": {},
   "source": [
    "### Initialize the simulation\n",
    "The simulation class combines all the components into one."
   ]
  },
  {
   "cell_type": "code",
   "execution_count": null,
   "metadata": {},
   "outputs": [],
   "source": [
    "sim = maria.Simulation(\n",
    "    instrument,\n",
    "    plan=plan,\n",
    "    site=\"green_bank\",\n",
    "    map=input_map,\n",
    "    atmosphere=\"2d\",\n",
    "    cmb=\"generate\",\n",
    ")"
   ]
  },
  {
   "cell_type": "markdown",
   "metadata": {},
   "source": [
    "## Obtaining time-ordered data (TODs)\n",
    "To acquire time-ordered data (TODs), you only need to run the script. The TOD object contains time stamps, coordinates (in RA and Dec), and the intensity of each scan for every detector. The intensity units are expressed in power can be converted to surface brightness temperature units: Kelvin Rayleigh-Jeans (Even if the input map is given in Jy/pixel. We convert the units under the hood)."
   ]
  },
  {
   "cell_type": "code",
   "execution_count": null,
   "metadata": {},
   "outputs": [],
   "source": [
    "tod = sim.run()"
   ]
  },
  {
   "cell_type": "markdown",
   "metadata": {},
   "source": [
    "### Useful visualizations:"
   ]
  },
  {
   "cell_type": "markdown",
   "metadata": {},
   "source": [
    "Now, let's visualize the TODS. The figure shows the mean powerspectra and a time series of the observations."
   ]
  },
  {
   "cell_type": "code",
   "execution_count": null,
   "metadata": {},
   "outputs": [],
   "source": [
    "tod.plot()"
   ]
  },
  {
   "cell_type": "markdown",
   "metadata": {},
   "source": [
    "## Mapping the TODs\n",
    "To transform the TODs into images, you'll require a mapper. While there is an option to use your own mapper, we have also implemented one for your convenience. This built-in mapper follows a straightforward approach: it removes the common mode over all detectors (the atmosphere if you scan fast enough), then detrends and optionally Fourier filters the time-streams to remove any noise smaller than the resolution of the dish. Then, the mapper bins the TOD on the specified grid. Notably, the mapper is designed to effectively eliminate correlated atmospheric noise among different scans, thereby increasing SNR of the output map.\n",
    "\n",
    "An example of how to run the mapper on the TOD is as follows:"
   ]
  },
  {
   "cell_type": "code",
   "execution_count": null,
   "metadata": {},
   "outputs": [],
   "source": [
    "from maria.mappers import BinMapper\n",
    "\n",
    "mapper = BinMapper(\n",
    "    center=(150, 10),\n",
    "    frame=\"ra_dec\",\n",
    "    width=0.1,\n",
    "    height=0.1,\n",
    "    resolution=2e-4,\n",
    "    tod_preprocessing={\n",
    "        \"window\": {\"name\": \"hamming\"},\n",
    "        \"remove_modes\": {\"modes_to_remove\": [0]},\n",
    "        \"remove_spline\": {\"knot_spacing\": 10},\n",
    "    },\n",
    "    map_postprocessing={\n",
    "        \"gaussian_filter\": {\"sigma\": 1},\n",
    "        \"median_filter\": {\"size\": 1},\n",
    "    },\n",
    "    units=\"uK_RJ\",\n",
    ")\n",
    "\n",
    "mapper.add_tods(tod)\n",
    "output_map = mapper.run()"
   ]
  },
  {
   "cell_type": "markdown",
   "metadata": {},
   "source": [
    "## Visualizing the maps\n",
    "As interesting as the detector setup, power spectra, and time series are, intuitively we think in the image plane. so let's visualize it! "
   ]
  },
  {
   "cell_type": "code",
   "execution_count": null,
   "metadata": {},
   "outputs": [],
   "source": [
    "output_map.plot()"
   ]
  },
  {
   "cell_type": "markdown",
   "metadata": {},
   "source": [
    "You can also save the map to a fits file. Here, we recover the units in which the map was initially specified in."
   ]
  },
  {
   "cell_type": "code",
   "execution_count": null,
   "metadata": {},
   "outputs": [],
   "source": [
    "output_map.to_fits(\"/tmp/simulated_map.fits\")"
   ]
  }
 ],
 "metadata": {
  "kernelspec": {
   "display_name": "Python 3 (ipykernel)",
   "language": "python",
   "name": "python3"
  },
  "language_info": {
   "codemirror_mode": {
    "name": "ipython",
    "version": 3
   },
   "file_extension": ".py",
   "mimetype": "text/x-python",
   "name": "python",
   "nbconvert_exporter": "python",
   "pygments_lexer": "ipython3",
   "version": "3.12.7"
  },
  "vscode": {
   "interpreter": {
    "hash": "f88e5bf5f0be7bd9faa88242bcf07e5ffa7d513506f360fd3aab8d7c0fbd2667"
   }
  }
 },
 "nbformat": 4,
 "nbformat_minor": 4
}

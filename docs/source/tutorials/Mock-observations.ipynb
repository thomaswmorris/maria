{
 "cells": [
  {
   "attachments": {},
   "cell_type": "markdown",
   "metadata": {},
   "source": [
    "# Synthesized Observations"
   ]
  },
  {
   "cell_type": "code",
   "execution_count": 6,
   "metadata": {},
   "outputs": [],
   "source": [
    "import matplotlib.pyplot as plt\n",
    "import numpy as np\n",
    "import maria "
   ]
  },
  {
   "cell_type": "code",
   "execution_count": 7,
   "metadata": {},
   "outputs": [],
   "source": [
    "from maria import Simulation\n",
    "from maria import mappers"
   ]
  },
  {
   "attachments": {},
   "cell_type": "markdown",
   "metadata": {},
   "source": [
    "We can use maria to make realistic mock observations. We wrote a wrapper, named Simulation, that simulates a telescopes such as ACT, Toltecc, or AtLAST and generates tods observations that inlcude a noise term directly derived from the atmospheric model based on an input fits file."
   ]
  },
  {
   "attachments": {},
   "cell_type": "markdown",
   "metadata": {},
   "source": [
    "To the simulation class you can give any inputs which are applicable for the atmosphereseric simulation. For isntance, if you can create an 'AtLAST' like observatory but place it at the GBT site. Or if you want to make Mustang-2 observations, but at poorer weather conditions, one can increase the 'quantiles' key, all within the Simulation keywords. "
   ]
  },
  {
   "attachments": {},
   "cell_type": "markdown",
   "metadata": {},
   "source": [
    "For a detailed documentation of all keywords we refer too: ... For now, let's initialize an example of mock-observertion of a massive merger at redshift 1 with  Mustang-2:"
   ]
  },
  {
   "cell_type": "code",
   "execution_count": 9,
   "metadata": {},
   "outputs": [
    {
     "name": "stderr",
     "output_type": "stream",
     "text": [
      "Computing weights: 100%|██████████| 4/4 [00:00<00:00, 135.46it/s]\n"
     ]
    },
    {
     "name": "stdout",
     "output_type": "stream",
     "text": [
      "(1000, 1000)\n",
      "(1, 1000, 1000)\n"
     ]
    }
   ],
   "source": [
    "sim = Simulation(\n",
    "\n",
    "    array    = 'MUSTANG-2',\n",
    "    pointing = 'DAISY_2deg',\n",
    "    site     = 'GBT',\n",
    "    \n",
    "    map_file     = \"../../../maps/ACT0329_CL0035.097.z_036.00GHz.fits\", #input files\n",
    "    # map_file     = \"../../../maps/tsz_x.fits\", #input files\n",
    "    map_position = (4, 10.5),\n",
    "\n",
    "    integration_time = 600,         # seconds\n",
    "    pointing_center = (4, 10.5),    # degrees\n",
    "    pointing_frame  = \"ra_dec\",     # frame\n",
    "    pointing_throws = (1., 1.),     # How large the scanning pattern is\n",
    "\n",
    "    quantiles = {'column_water_vapor' : 0.5}, #weather conditions specific for that site\n",
    "\n",
    "    map_units    = 'Jy/pixel',                 # Kelvin Rayleigh Jeans (KRJ) or Jy/pixel \n",
    "    inbright     = -5.37 * 1e3 * 0.000113,     # In units of key units \n",
    "    incell       = 0.5 / 1000,                  # degree\n",
    ")"
   ]
  },
  {
   "attachments": {},
   "cell_type": "markdown",
   "metadata": {},
   "source": [
    "To get the time ordered domain (TOD) data you run:"
   ]
  },
  {
   "cell_type": "code",
   "execution_count": null,
   "metadata": {},
   "outputs": [
    {
     "name": "stderr",
     "output_type": "stream",
     "text": [
      "Generating layers: 100%|██████████| 388/388 [00:00<00:00, 16936.45it/s]\n",
      "Sampling layers: 100%|██████████| 4/4 [00:02<00:00,  1.73it/s]\n"
     ]
    }
   ],
   "source": [
    "tod = sim.run()\n"
   ]
  },
  {
   "attachments": {},
   "cell_type": "markdown",
   "metadata": {},
   "source": [
    "The tod is an object which has the time, and coordinates stored together with the intensity of each scan. "
   ]
  },
  {
   "attachments": {},
   "cell_type": "markdown",
   "metadata": {},
   "source": [
    "## Mapping\n",
    "In order to image the tod we need a mapper. One can implement their own one, but for comfirt we implemented two, the most simplistic which bins the data together and puts it on a grid, and one in which a common mode is subtracted. The latter mapper can remove atmospheric noise which is correlate between the different scans. "
   ]
  },
  {
   "attachments": {},
   "cell_type": "markdown",
   "metadata": {},
   "source": [
    "An example of running a mapper on the tod works as follows:"
   ]
  },
  {
   "cell_type": "code",
   "execution_count": null,
   "metadata": {},
   "outputs": [],
   "source": [
    "mapper = mappers.RawBinMapper(resolution=np.radians(0.1/60))\n",
    "\n",
    "mapper.add_tods(tod)\n",
    "\n",
    "mapper.run()"
   ]
  },
  {
   "attachments": {},
   "cell_type": "markdown",
   "metadata": {},
   "source": [
    "If you wanna alter the observations, you can just give it additional kwargs:"
   ]
  },
  {
   "cell_type": "code",
   "execution_count": null,
   "metadata": {},
   "outputs": [],
   "source": [
    "obs = WeObserve(\n",
    "            array_name    = 'MUSTANG-2',\n",
    "            pointing_name = 'DAISY_2deg',\n",
    "            site_name     = 'GBT',\n",
    "            project       = './Mock_obs',\n",
    "            skymodel      = file,\n",
    "\n",
    "            integration_time = 600,       # seconds\n",
    "            coord_center     = [4, 10.5], # degree\n",
    "            coord_frame      = \"ra_dec\",\n",
    "\n",
    "            # --- Additional\n",
    "            bands = [(27e9, 5e9, 100),\n",
    "                     (35e9, 5e9, 100)],  # (band center, bandwidth, dets per band) [GHz, GHz, number]\n",
    "                     \n",
    "            units     = 'Jy/pixel',                 # Kelvin Rayleigh Jeans (KRJ) or Jy/pixel            \n",
    "            inbright  = -5.37 * 1e3 * 0.000113,     # In units of key units \n",
    "            incell    = 0.5 / 360,                  # degree\n",
    "            quantiles = {'column_water_vapor':0.5}  # pwv = 50%\n",
    "        )"
   ]
  },
  {
   "attachments": {},
   "cell_type": "markdown",
   "metadata": {},
   "source": [
    "In the (sub)mm wavelength one often has contaminatinos from the CMB. Therefore, if you are interested there is an option to add CMB (noise) to your image. This is added through a random realization of the CMB powerspectra, linearly added to the atmoshperic noise power spectra."
   ]
  },
  {
   "cell_type": "code",
   "execution_count": null,
   "metadata": {},
   "outputs": [],
   "source": [
    "obs = WeObserve(\n",
    "            array_name    = 'MUSTANG-2',\n",
    "            pointing_name = 'DAISY_2deg',\n",
    "            site_name     = 'GBT',\n",
    "            project       = './Mock_obs',\n",
    "            skymodel      = file,\n",
    "\n",
    "            integration_time = 600,       # seconds\n",
    "            coord_center     = [4, 10.5], # degree\n",
    "            coord_frame      = \"ra_dec\",\n",
    "\n",
    "            # --- Additional\n",
    "            cmb = True,\n",
    "\n",
    "            bands = [(27e9, 5e9, 100),\n",
    "                     (35e9, 5e9, 100)],  # (band center, bandwidth, dets per band) [GHz, GHz, number]\n",
    "                     \n",
    "            units     = 'Jy/pixel',                 # Kelvin Rayleigh Jeans (KRJ) or Jy/pixel            \n",
    "            inbright  = -5.37 * 1e3 * 0.000113,     # In units of key units \n",
    "            incell    = 0.5 / 360,                  # degree\n",
    "            quantiles = {'column_water_vapor':0.5}  # pwv = 50%\n",
    "        )"
   ]
  }
 ],
 "metadata": {
  "kernelspec": {
   "display_name": "atmos",
   "language": "python",
   "name": "python3"
  },
  "language_info": {
   "codemirror_mode": {
    "name": "ipython",
    "version": 3
   },
   "file_extension": ".py",
   "mimetype": "text/x-python",
   "name": "python",
   "nbconvert_exporter": "python",
   "pygments_lexer": "ipython3",
   "version": "3.8.13"
  },
  "orig_nbformat": 4
 },
 "nbformat": 4,
 "nbformat_minor": 2
}

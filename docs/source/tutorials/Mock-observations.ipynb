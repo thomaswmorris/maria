{
 "cells": [
  {
   "attachments": {},
   "cell_type": "markdown",
   "metadata": {},
   "source": [
    "# Synthesized Observations"
   ]
  },
  {
   "cell_type": "code",
   "execution_count": null,
   "metadata": {},
   "outputs": [],
   "source": [
    "from maria.mock_obs import WeObserve"
   ]
  },
  {
   "attachments": {},
   "cell_type": "markdown",
   "metadata": {},
   "source": [
    "We can use maria to make realistic mock observations. We wrote a wrapper, named WeObserve, that simulates a telescopes such as ACT, Toltecc, or AtLAST and generates filtered observations that inlcude a noise term directly derived from the atmospheric model based on an input fits file."
   ]
  },
  {
   "cell_type": "code",
   "execution_count": null,
   "metadata": {},
   "outputs": [],
   "source": [
    "file = \"./maps/tsz.fits\""
   ]
  },
  {
   "attachments": {},
   "cell_type": "markdown",
   "metadata": {},
   "source": [
    "For instance, the below snippet generates synthetic Mustang-2 observations. Analyzes plots are saved under the fulder './analyzes'. The synthetic images are saved under the project nam, in this case: './Mock_obs'."
   ]
  },
  {
   "cell_type": "code",
   "execution_count": null,
   "metadata": {},
   "outputs": [],
   "source": [
    "obs = WeObserve(\n",
    "            array_name    = 'MUSTANG-2',\n",
    "            pointing_name = 'DAISY_2deg',\n",
    "            site_name     = 'GBT',\n",
    "            project       = './Mock_obs',\n",
    "            skymodel      = file,\n",
    "\n",
    "            integration_time = 600,       # seconds\n",
    "            coord_center     = [4, 10.5], # degree\n",
    "            coord_frame      = \"ra_dec\"\n",
    "        )"
   ]
  },
  {
   "attachments": {},
   "cell_type": "markdown",
   "metadata": {},
   "source": [
    "If you wanna alter the observations, you can just give it additional kwargs:"
   ]
  },
  {
   "cell_type": "code",
   "execution_count": null,
   "metadata": {},
   "outputs": [],
   "source": [
    "obs = WeObserve(\n",
    "            array_name    = 'MUSTANG-2',\n",
    "            pointing_name = 'DAISY_2deg',\n",
    "            site_name     = 'GBT',\n",
    "            project       = './Mock_obs',\n",
    "            skymodel      = file,\n",
    "\n",
    "            integration_time = 600,       # seconds\n",
    "            coord_center     = [4, 10.5], # degree\n",
    "            coord_frame      = \"ra_dec\",\n",
    "\n",
    "            # --- Additional\n",
    "            bands = [(27e9, 5e9, 100),\n",
    "                     (35e9, 5e9, 100)],  # (band center, bandwidth, dets per band) [GHz, GHz, number]\n",
    "                     \n",
    "            units     = 'Jy/pixel',                 # Kelvin Rayleigh Jeans (KRJ) or Jy/pixel            \n",
    "            inbright  = -5.37 * 1e3 * 0.000113,     # In units of key units \n",
    "            incell    = 0.5 / 360,                  # degree\n",
    "            quantiles = {'column_water_vapor':0.5}  # pwv = 50%\n",
    "        )"
   ]
  },
  {
   "attachments": {},
   "cell_type": "markdown",
   "metadata": {},
   "source": [
    "In the (sub)mm wavelength one often has contaminatinos from the CMB. Therefore, if you are interested there is an option to add CMB (noise) to your image. This is added through a random realization of the CMB powerspectra, linearly added to the atmoshperic noise power spectra."
   ]
  },
  {
   "cell_type": "code",
   "execution_count": null,
   "metadata": {},
   "outputs": [],
   "source": [
    "obs = WeObserve(\n",
    "            array_name    = 'MUSTANG-2',\n",
    "            pointing_name = 'DAISY_2deg',\n",
    "            site_name     = 'GBT',\n",
    "            project       = './Mock_obs',\n",
    "            skymodel      = file,\n",
    "\n",
    "            integration_time = 600,       # seconds\n",
    "            coord_center     = [4, 10.5], # degree\n",
    "            coord_frame      = \"ra_dec\",\n",
    "\n",
    "            # --- Additional\n",
    "            cmb = True,\n",
    "\n",
    "            bands = [(27e9, 5e9, 100),\n",
    "                     (35e9, 5e9, 100)],  # (band center, bandwidth, dets per band) [GHz, GHz, number]\n",
    "                     \n",
    "            units     = 'Jy/pixel',                 # Kelvin Rayleigh Jeans (KRJ) or Jy/pixel            \n",
    "            inbright  = -5.37 * 1e3 * 0.000113,     # In units of key units \n",
    "            incell    = 0.5 / 360,                  # degree\n",
    "            quantiles = {'column_water_vapor':0.5}  # pwv = 50%\n",
    "        )"
   ]
  }
 ],
 "metadata": {
  "language_info": {
   "name": "python"
  },
  "orig_nbformat": 4
 },
 "nbformat": 4,
 "nbformat_minor": 2
}

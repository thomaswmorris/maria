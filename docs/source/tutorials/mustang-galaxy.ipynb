{
 "cells": [
  {
   "attachments": {},
   "cell_type": "markdown",
   "metadata": {},
   "source": [
    "## Simulating observations with MUSTANG-2\n",
    "\n",
    "MUSTANG-2 is a bolometric array on the [Green Bank Telescope](https://en.wikipedia.org/wiki/Green_Bank_Telescope). In this notebook we simulate an observation of the Whirlpool Galaxy (M51)."
   ]
  },
  {
   "cell_type": "code",
   "execution_count": null,
   "metadata": {},
   "outputs": [],
   "source": [
    "import maria\n",
    "from maria.io import fetch\n",
    "\n",
    "input_map = maria.map.load(fetch(\"maps/crab_nebula.fits\"), nu=93e9)\n",
    "\n",
    "input_map.plot()\n",
    "print(input_map)"
   ]
  },
  {
   "cell_type": "code",
   "execution_count": null,
   "metadata": {},
   "outputs": [],
   "source": [
    "from maria import Planner\n",
    "\n",
    "planner = Planner(target=input_map, site=\"green_bank\", constraints={\"el\": (60, 90)})\n",
    "plans = planner.generate_plans(total_duration=900, sample_rate=100)\n",
    "\n",
    "plans[0].plot()\n",
    "print(plans)"
   ]
  },
  {
   "cell_type": "code",
   "execution_count": null,
   "metadata": {},
   "outputs": [],
   "source": [
    "instrument = maria.get_instrument(\"MUSTANG-2\")\n",
    "print(instrument)\n",
    "instrument.plot()"
   ]
  },
  {
   "cell_type": "code",
   "execution_count": null,
   "metadata": {},
   "outputs": [],
   "source": [
    "sim = maria.Simulation(\n",
    "    instrument,\n",
    "    plans=plans,\n",
    "    site=\"green_bank\",\n",
    "    map=input_map,\n",
    "    atmosphere=\"2d\",\n",
    ")\n",
    "\n",
    "print(sim)"
   ]
  },
  {
   "cell_type": "code",
   "execution_count": null,
   "metadata": {},
   "outputs": [],
   "source": [
    "tods = sim.run()\n",
    "tods[0].plot()"
   ]
  },
  {
   "cell_type": "code",
   "execution_count": null,
   "metadata": {},
   "outputs": [],
   "source": [
    "from maria.mappers import BinMapper\n",
    "\n",
    "mapper = BinMapper(\n",
    "    center=input_map.center,\n",
    "    frame=\"ra_dec\",\n",
    "    width=10 / 60,\n",
    "    height=10 / 60,\n",
    "    resolution=0.05 / 60,\n",
    "    tod_preprocessing={\n",
    "        \"window\": {\"name\": \"hamming\"},\n",
    "        \"remove_modes\": {\"modes_to_remove\": [0]},\n",
    "        \"remove_spline\": {\"knot_spacing\": 30, \"remove_el_gradient\": True},\n",
    "    },\n",
    "    map_postprocessing={\n",
    "        \"gaussian_filter\": {\"sigma\": 1},\n",
    "        \"median_filter\": {\"size\": 1},\n",
    "    },\n",
    "    units=\"uK_RJ\",\n",
    ")\n",
    "\n",
    "mapper.add_tods(tods)\n",
    "output_map = mapper.run()"
   ]
  },
  {
   "cell_type": "code",
   "execution_count": null,
   "metadata": {},
   "outputs": [],
   "source": [
    "output_map.plot()\n",
    "output_map.to_fits(\"/tmp/simulated_mustang_map.fits\")"
   ]
  }
 ],
 "metadata": {
  "kernelspec": {
   "display_name": "Python 3 (ipykernel)",
   "language": "python",
   "name": "python3"
  },
  "language_info": {
   "codemirror_mode": {
    "name": "ipython",
    "version": 3
   },
   "file_extension": ".py",
   "mimetype": "text/x-python",
   "name": "python",
   "nbconvert_exporter": "python",
   "pygments_lexer": "ipython3",
   "version": "3.13.2"
  },
  "vscode": {
   "interpreter": {
    "hash": "f88e5bf5f0be7bd9faa88242bcf07e5ffa7d513506f360fd3aab8d7c0fbd2667"
   }
  }
 },
 "nbformat": 4,
 "nbformat_minor": 4
}

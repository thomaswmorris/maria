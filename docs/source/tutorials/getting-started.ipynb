{
 "cells": [
  {
   "cell_type": "markdown",
   "id": "6970217f",
   "metadata": {},
   "source": [
    "### Getting started\n",
    "\n",
    "Each simulation needs three ingredients:\n",
    "\n",
    "1. An Array object, which encodes the detectors' positions and their sensitivity to different frequencies.\n",
    "2. A Pointing object, which determines how the array samples the sky. \n",
    "3. A Site object, which determines e.g. the atmospheric conditions and the array's earth-relative position. \n",
    "\n",
    "Let's use some of `maria`'s predefined defaults. Here's how we would set up a [MUSTANG-2](https://greenbankobservatory.org/science/gbt-observers/mustang-2/) simulation staring at the zenith for ten minutes:"
   ]
  },
  {
   "cell_type": "code",
   "execution_count": null,
   "id": "ee8a9126",
   "metadata": {},
   "outputs": [],
   "source": [
    "import matplotlib.pyplot as plt\n",
    "import numpy as np\n",
    "\n",
    "import maria \n",
    "from maria import models\n",
    "\n",
    "mustang_2 = maria.get_array(\"AtLAST\")\n",
    "daisy_scan = maria.get_pointing(\"STARE_0az_90el_60s\")\n",
    "green_bank = maria.get_site(\"APEX\")"
   ]
  },
  {
   "cell_type": "markdown",
   "id": "81d5997d",
   "metadata": {},
   "source": [
    "We can combine these objects into a total model. An efficient, lightweight model is the linear angular model, which we'll use to simulate the sky temperature at 90 and 150 GHz."
   ]
  },
  {
   "cell_type": "code",
   "execution_count": null,
   "id": "0eb9dd87",
   "metadata": {},
   "outputs": [],
   "source": [
    "lam = maria.models.LinearAngularModel(array=mustang_2, pointing=daisy_scan, site=green_bank)\n",
    "\n",
    "lam.simulate_temperature(units='K_RJ')\n",
    "\n",
    "print(lam.temperature.shape)"
   ]
  },
  {
   "cell_type": "markdown",
   "id": "352b702d",
   "metadata": {},
   "source": [
    "The simulated time-ordered data is stored `lam.temperature`, which has shape `(n_freqs, n_dets, n_samples)`. Plotting the output as fluctuations:"
   ]
  },
  {
   "cell_type": "code",
   "execution_count": null,
   "id": "758e5590",
   "metadata": {},
   "outputs": [],
   "source": [
    "for uib, uband in enumerate(np.unique(lam.array.bands)):\n",
    "\n",
    "    band_mask = lam.array.bands == uband\n",
    "    band_mean = lam.temperature[band_mask].mean(axis=0)\n",
    "    plt.plot(lam.pointing.unix, band_mean - band_mean.mean(), label=f'{1e-9*uband:.00f} GHz mean')\n",
    "\n",
    "plt.xlabel('time (seconds)')\n",
    "plt.ylabel(r'temperature ($K_{RJ}$)')\n",
    "plt.legend()"
   ]
  }
 ],
 "metadata": {
  "kernelspec": {
   "display_name": "Python 3.9.13 ('maria')",
   "language": "python",
   "name": "python3"
  },
  "language_info": {
   "codemirror_mode": {
    "name": "ipython",
    "version": 3
   },
   "file_extension": ".py",
   "mimetype": "text/x-python",
   "name": "python",
   "nbconvert_exporter": "python",
   "pygments_lexer": "ipython3",
   "version": "3.9.13"
  },
  "vscode": {
   "interpreter": {
    "hash": "f88e5bf5f0be7bd9faa88242bcf07e5ffa7d513506f360fd3aab8d7c0fbd2667"
   }
  }
 },
 "nbformat": 4,
 "nbformat_minor": 5
}

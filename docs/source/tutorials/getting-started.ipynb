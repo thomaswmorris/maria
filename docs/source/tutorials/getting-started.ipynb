{
 "cells": [
  {
   "cell_type": "markdown",
   "id": "6970217f",
   "metadata": {},
   "source": [
    "### Getting started"
   ]
  },
  {
   "cell_type": "code",
   "execution_count": null,
   "id": "ee8a9126",
   "metadata": {},
   "outputs": [],
   "source": [
    "import matplotlib.pyplot as plt\n",
    "import numpy as np\n",
    "\n",
    "import maria \n",
    "from maria import models"
   ]
  },
  {
   "cell_type": "markdown",
   "id": "6dfa512c",
   "metadata": {},
   "source": [
    "In order to construct a model, we need some ingredients.\n",
    "\n",
    "The first ingredient is the array, which entirely defines the telescope. The Array object contains all the information about detector offsets, baselines, frequencies, and more, as well as apertures and observational constraints on the instrument.\n",
    "\n",
    "We can load one of `maria`'s predefined arrays ([MUSTANG-2](https://greenbankobservatory.org/science/gbt-observers/mustang-2/)) "
   ]
  },
  {
   "cell_type": "code",
   "execution_count": null,
   "id": "8e3b0f75",
   "metadata": {},
   "outputs": [],
   "source": [
    "mustang_2 = maria.get_array(\"MUSTANG-2\")\n",
    "mustang_2.description"
   ]
  },
  {
   "cell_type": "markdown",
   "id": "7b20ed7c",
   "metadata": {},
   "source": [
    "and plot the detector offsets:"
   ]
  },
  {
   "cell_type": "code",
   "execution_count": null,
   "id": "6a3e2506",
   "metadata": {},
   "outputs": [],
   "source": [
    "\n",
    "\n",
    "plt.figure(figsize=(4, 4))\n",
    "\n",
    "for band in mustang_2.ubands:\n",
    "\n",
    "    band_mask = mustang_2.band == band\n",
    "\n",
    "    plt.scatter(60 * np.degrees(mustang_2.offset_x[band_mask]), \n",
    "                60 * np.degrees(mustang_2.offset_y[band_mask]),\n",
    "                label=f'{1e-9 * band}', lw=5e-1)\n",
    "\n",
    "plt.xlabel(r'$\\theta_x$ offset (arcminutes)')\n",
    "plt.ylabel(r'$\\theta_y$ offset (arcminutes)')\n",
    "plt.legend()"
   ]
  },
  {
   "cell_type": "markdown",
   "id": "6dfa512c",
   "metadata": {},
   "source": [
    "The second ingredient is the pointing, which determines where and how the telescope moves, and how fast it samples. \n",
    "\n",
    "We can loading a default scan with a two-degree radius from `maria`:"
   ]
  },
  {
   "cell_type": "code",
   "execution_count": null,
   "id": "662ebf40",
   "metadata": {},
   "outputs": [],
   "source": [
    "daisy_scan = maria.get_pointing(\"DAISY_2deg_4ra_10dec_600s\")\n",
    "daisy_scan.description"
   ]
  },
  {
   "cell_type": "code",
   "execution_count": null,
   "id": "542b3f89",
   "metadata": {},
   "outputs": [],
   "source": [
    "plt.figure(figsize=(4,4))\n",
    "\n",
    "plt.plot(np.degrees(daisy_scan.ra), \n",
    "         np.degrees(daisy_scan.dec),\n",
    "         lw=5e-1)\n",
    "\n",
    "plt.xlabel(r'RA (degrees)')\n",
    "plt.ylabel(r'Dec. (degrees)')"
   ]
  },
  {
   "cell_type": "markdown",
   "id": "6dfa512c",
   "metadata": {},
   "source": [
    "The last ingredient is the site, which determines the translation between local coordinates and sky coordinates. It also determines the weather parameters that go into the atmospheric simulation. \n",
    "\n",
    "Loading the Green Bank Telescope site from `maria`:"
   ]
  },
  {
   "cell_type": "code",
   "execution_count": null,
   "id": "cdb1db9d",
   "metadata": {},
   "outputs": [],
   "source": [
    "green_bank = maria.get_site(\"GBT\")\n",
    "green_bank.description"
   ]
  },
  {
   "cell_type": "markdown",
   "id": "81d5997d",
   "metadata": {},
   "source": [
    "We can combine these objects by passing them to one of `maria`'s models. An efficient, lightweight model is the linear angular model:"
   ]
  },
  {
   "cell_type": "code",
   "execution_count": null,
   "id": "05d4cc35",
   "metadata": {},
   "outputs": [],
   "source": [
    "lam = maria.models.LinearAngularModel(array=mustang_2, pointing=daisy_scan, site=green_bank)"
   ]
  },
  {
   "cell_type": "markdown",
   "id": "4321482e",
   "metadata": {},
   "source": [
    "This also computes things which depend on multiple inputs ()\n",
    "\n"
   ]
  },
  {
   "cell_type": "code",
   "execution_count": null,
   "id": "6f4f2c6c",
   "metadata": {},
   "outputs": [],
   "source": [
    "fig, axes = plt.subplots(1,2,figsize=(8,4))\n",
    "\n",
    "axes[0].plot(np.degrees(lam.pointing.ra), \n",
    "             np.degrees(lam.pointing.dec),\n",
    "             lw=5e-1)\n",
    "\n",
    "axes[0].set_xlabel(r'RA (degrees)')\n",
    "axes[0].set_ylabel(r'Dec. (degrees)')\n",
    "\n",
    "axes[1].plot(np.degrees(lam.pointing.az), \n",
    "             np.degrees(lam.pointing.el),\n",
    "             lw=5e-1)\n",
    "\n",
    "axes[1].set_xlabel(r'azimuth (degrees)')\n",
    "axes[1].set_ylabel(r'elevation (degrees)')"
   ]
  },
  {
   "cell_type": "code",
   "execution_count": null,
   "id": "0eb9dd87",
   "metadata": {},
   "outputs": [],
   "source": [
    "\n",
    "lam.simulate_temperature(units='K_RJ')\n",
    "print(lam.temperature.shape)"
   ]
  },
  {
   "cell_type": "markdown",
   "id": "352b702d",
   "metadata": {},
   "source": [
    "The simulated time-ordered data is stored `lam.temperature`, which has shape `(n_freqs, n_dets, n_samples)`. Plotting the output as fluctuations:"
   ]
  },
  {
   "cell_type": "code",
   "execution_count": null,
   "id": "758e5590",
   "metadata": {},
   "outputs": [],
   "source": [
    "for uib, uband in enumerate(np.unique(lam.array.band)):\n",
    "\n",
    "    band_mask = lam.array.band == uband\n",
    "    band_mean = lam.temperature[band_mask].mean(axis=0)\n",
    "    plt.plot(lam.pointing.unix, band_mean, label=f'{1e-9*uband:.00f} GHz mean')\n",
    "\n",
    "plt.xlabel('time (seconds)')\n",
    "plt.ylabel(r'temperature ($K_{RJ}$)')\n",
    "plt.legend()"
   ]
  }
 ],
 "metadata": {
  "kernelspec": {
   "display_name": "Python 3.9.13 ('maria')",
   "language": "python",
   "name": "python3"
  },
  "language_info": {
   "codemirror_mode": {
    "name": "ipython",
    "version": 3
   },
   "file_extension": ".py",
   "mimetype": "text/x-python",
   "name": "python",
   "nbconvert_exporter": "python",
   "pygments_lexer": "ipython3",
   "version": "3.9.13"
  },
  "vscode": {
   "interpreter": {
    "hash": "f88e5bf5f0be7bd9faa88242bcf07e5ffa7d513506f360fd3aab8d7c0fbd2667"
   }
  }
 },
 "nbformat": 4,
 "nbformat_minor": 5
}

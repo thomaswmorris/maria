{
 "cells": [
  {
   "cell_type": "markdown",
   "metadata": {},
   "source": [
    "# AtLAST Predictions\n",
    "Here, you can find another example of using this simulation tool for predictions. But now, in this scenario, we'll adjust the parameters to align with a small instrument that could be mounted on AtLAST. AtLAST will have a broad 2-degree field of view (FOV) and offer a 10\" resolution at 150 GHz. This configuration provides a more comprehensive, high spatial dynamic range, ideal for observing phenomena such as the Sunyaev-Zeldovich effect in galaxy clusters."
   ]
  },
  {
   "cell_type": "code",
   "execution_count": 1,
   "metadata": {},
   "outputs": [],
   "source": [
    "import matplotlib.pyplot as plt\n",
    "import numpy as np\n",
    "\n",
    "from astropy.io import fits\n",
    "from astropy.wcs import WCS\n",
    "from astropy import units as u\n",
    "from astropy.coordinates import SkyCoord"
   ]
  },
  {
   "cell_type": "code",
   "execution_count": 2,
   "metadata": {},
   "outputs": [
    {
     "data": {
      "text/plain": [
       "3.515625"
      ]
     },
     "execution_count": 2,
     "metadata": {},
     "output_type": "execute_result"
    }
   ],
   "source": [
    "0.00042211 /7.21287e-07\n",
    "pixel_size       = 0.0009765625 # degree\n",
    "pixel_size *3600"
   ]
  },
  {
   "cell_type": "code",
   "execution_count": 3,
   "metadata": {},
   "outputs": [],
   "source": [
    "from maria import Simulation, TOD, utils\n",
    "from maria.map.mappers import BinMapper"
   ]
  },
  {
   "cell_type": "code",
   "execution_count": 4,
   "metadata": {},
   "outputs": [],
   "source": [
    "import matplotlib\n",
    "# plt.style.use('/lustre/home/jvmarrewijk/eszee/Notebooks/thesis.mplstyle')\n",
    "plt.style.use('/Users/jvanmarr/Documents/Papers/Plot_style/thesis.mplstyle')\n",
    "matplotlib.rc('image', origin='lower')\n",
    "cmap = \"RdBu_r\""
   ]
  },
  {
   "cell_type": "code",
   "execution_count": 5,
   "metadata": {},
   "outputs": [],
   "source": [
    "def circle_mask(im, xc, yc, rcirc):\n",
    "        ny, nx = im.shape\n",
    "        y,x = np.mgrid[0:nx,0:ny]\n",
    "        r = np.sqrt((x-xc)*(x-xc) + (y-yc)*(y-yc))\n",
    "        return ( (r < rcirc))\n",
    "\n",
    "def r_theta(im, xc, yc):\n",
    "    # returns the radius rr and the angle phi for point (xc,yc)\n",
    "    ny, nx = im.shape\n",
    "    yp, xp = np.mgrid[0:ny,0:nx]\n",
    "    yp = yp - yc\n",
    "    xp = xp - xc\n",
    "    rr = np.sqrt(np.power(yp,2.) + np.power(xp,2.))\n",
    "    phi = np.arctan2(yp, xp)\n",
    "    return(rr, phi)    "
   ]
  },
  {
   "cell_type": "code",
   "execution_count": 6,
   "metadata": {},
   "outputs": [],
   "source": [
    "inputfile = \"../maria/maps/big_cluster2.fits\"\n",
    "outfile_map = '/Users/jvanmarr/Documents/Papers/maria/output/AtLAST_cluster.fits'"
   ]
  },
  {
   "cell_type": "code",
   "execution_count": 7,
   "metadata": {},
   "outputs": [
    {
     "name": "stdout",
     "output_type": "stream",
     "text": [
      "Should use 3000 detectors, we use 3000.0 dets\n",
      "Sample rate is 225 Hz\n"
     ]
    }
   ],
   "source": [
    "pointing_center  = (260.0, -10.0) #RA and Dec in degrees\n",
    "\n",
    "pixel_size       = 0.0009765625 # degree\n",
    "integration_time = 8.6 * 60.0 #seconds\n",
    "FREQ             = 92.0 #GHZ\n",
    "\n",
    "scanning_speed   = 0.5 #deg/s\n",
    "sample_rate      = float(int(225. * (scanning_speed/0.5) * (FREQ/92.0)**2))  #Hz\n",
    "\n",
    "field_of_view    = 0.25 # deg\n",
    "scanning_radius  = field_of_view\n",
    "ndets_1f         = float(int(3000 * (field_of_view/0.25)**2 * (FREQ/92.0)**2))\n",
    "\n",
    "ndets            = ndets_1f \n",
    "print(f\"Should use {int(ndets_1f)} detectors, we use {ndets} dets\")\n",
    "print(f\"Sample rate is {int(sample_rate)} Hz\")\n",
    "\n",
    "noisy = False\n",
    "if noisy:\n",
    "    atm_model            = \"2d\"   \n",
    "    white_noise =  266e-6/np.sqrt(52/37.4) * 0.3 / 1.113\n",
    "    pink_noise =  0.6*0.3 / 1.113\n",
    "else:\n",
    "    atm_model            = None\n",
    "    white_noise =  0.\n",
    "    pink_noise =  0."
   ]
  },
  {
   "cell_type": "code",
   "execution_count": 8,
   "metadata": {},
   "outputs": [
    {
     "name": "stderr",
     "output_type": "stream",
     "text": [
      "WARNING: The following header keyword is invalid or follows an unrecognized non-standard convention:\n",
      "CLUSTER =../DIANOGA/BH2015/D17 / cluster name                                    [astropy.io.fits.card]\n",
      "WARNING: The following header keyword is invalid or follows an unrecognized non-standard convention:\n",
      "OUTTYPE =Comptonization y para / outputtype                                      [astropy.io.fits.card]\n"
     ]
    }
   ],
   "source": [
    "# - Input figure\n",
    "hdu = fits.open(inputfile)\n",
    "header = hdu[1].header\n",
    "wcs_input = WCS(header, naxis=2)"
   ]
  },
  {
   "cell_type": "markdown",
   "metadata": {},
   "source": [
    "### Fine-Tuning Simulation Parameters\n",
    "\n",
    "To make predictions for AtLAST, several adjustments are required. Firstly, we need to change the pointing center. AtLAST is located near the APEX telescope in the southern hemisphere, so we set the pointing center to a Declination of -10. Additionally, we need to chance the atmospheric conditions. The defeault is set to mid-February at 6 am UT, which is an ideal time for observing with MUSTANG-2 on the GBT but not for AtLAST at Chajnantor. To achieve this, we modify the `start_time` key to August. This change also necessitates adjusting the Right Ascension (RA) of the pointing to ensure that the source remains above the horizon during the observation.\n",
    "\n",
    "Furthermore, we overwrite the field of view to be 2 degrees and set the scan radius of the daisy scan to 1.3 degrees. We also adjust the detector bandwidth to 52 GHz with a total of 2000 detectors, and set a scan period of 120 seconds. \n",
    "\n",
    "Now, it's important to note that we haven't yet developed a mapper that can handle AtLAST's large FOV. Most of the contamination will likely be a common mode in the atmosphere, which needs proper Fourier filtering. This aspect is still a work in progress. Therefore, for the time being, we conduct noiseless observations by setting `atm_model = None`."
   ]
  },
  {
   "cell_type": "code",
   "execution_count": null,
   "metadata": {},
   "outputs": [],
   "source": [
    "sim = Simulation(\n",
    "    \n",
    "    # Mandatory weather settings\n",
    "    # ---------------------\n",
    "    instrument = \"AtLAST\", \n",
    "    pointing   = \"daisy\", \n",
    "    site       = \"llano_de_chajnantor\",  \n",
    "    \n",
    "    # Noise settings:\n",
    "    # ----------------\n",
    "    atmosphere_model  = atm_model,\n",
    "    pwv_rms_frac      = 0.07,\n",
    "\n",
    "    # True sky input\n",
    "    # ---------------------\n",
    "    map_file   = None,        \n",
    "    # map_units  = \"Jy/pixel\",       \n",
    "    map_res    = pixel_size,       \n",
    "    map_center = pointing_center,  \n",
    "    map_freqs  = [FREQ],\n",
    "    \n",
    "    # AtLAST Observational setup\n",
    "    # ----------------------------\n",
    "    integration_time = integration_time, \n",
    "    sample_rate      = sample_rate,      \n",
    "    scan_center      = pointing_center,  \n",
    "    start_time       = \"2022-08-01T23:00:00\",\n",
    "    pointing_frame   = \"ra_dec\", \n",
    "    \n",
    "    field_of_view    = field_of_view,\n",
    "    bands            = {\"f090\": {\"n_dets\": ndets, \n",
    "                                 \"band_center\": FREQ, \n",
    "                                 \"band_width\": 52.0,               \n",
    "                                 \"white_noise\": white_noise,\n",
    "                                 \"pink_noise\": pink_noise,\n",
    "                                }\n",
    "                       },\n",
    "    \n",
    "    scan_options     = {\"speed\":  scanning_speed, \n",
    "                        \"radius\": scanning_radius, \n",
    "                        \"petals\": 2.11\n",
    "                       },\n",
    "    verbose=True\n",
    "\n",
    ")"
   ]
  },
  {
   "cell_type": "code",
   "execution_count": null,
   "metadata": {},
   "outputs": [],
   "source": [
    "tod = sim.run()"
   ]
  },
  {
   "cell_type": "markdown",
   "metadata": {},
   "source": [
    "### Visualizing the TOD Data\n",
    "\n",
    "In this section, we present the same array and TOD visualizations as in the MUSTANG-2 case, but this time for AtLAST:"
   ]
  },
  {
   "cell_type": "code",
   "execution_count": null,
   "metadata": {},
   "outputs": [],
   "source": [
    "# visualize scanning patern\n",
    "# -----------------------\n",
    "cmap = \"RdBu_r\"\n",
    "\n",
    "fig = plt.figure(dpi=256, tight_layout=True)\n",
    "fig.set_size_inches(12, 5, forward=True)\n",
    "fig.suptitle(\"Scanning strategy\")\n",
    "\n",
    "# - Plot\n",
    "ax = plt.subplot(1, 2, 1)\n",
    "\n",
    "ax.plot(np.degrees(tod.boresight.az), np.degrees(tod.boresight.el), lw=5e-1)\n",
    "ax.set_xlabel(\"az (deg)\"), ax.set_ylabel(\"el (deg)\")\n",
    "\n",
    "ax = plt.subplot(1, 2, 2, projection=wcs_input)\n",
    "im = ax.imshow(hdu[1].data, cmap=cmap)\n",
    "\n",
    "ra, dec = ax.coords\n",
    "ra.set_major_formatter(\"hh:mm:ss\")\n",
    "dec.set_major_formatter(\"dd:mm:ss\")\n",
    "ra.set_axislabel(r\"RA [J2000]\", size=11)\n",
    "dec.set_axislabel(r\"Dec [J2000]\", size=11)\n",
    "ra.set_separator((\"h\", \"m\"))\n",
    "\n",
    "sky = SkyCoord(np.degrees(tod.boresight.ra) * u.deg, np.degrees(tod.boresight.dec) * u.deg)\n",
    "pixel_sky = wcs_input.world_to_pixel(sky)\n",
    "ax.plot(pixel_sky[0], pixel_sky[1], lw=5e-1, alpha=0.5)\n",
    "ax.set_xlabel(\"ra (deg)\"), ax.set_ylabel(\"dec (deg)\")\n",
    "plt.show()\n",
    "\n",
    "# visualize powerspectrum\n",
    "# -----------------------\n",
    "f, ps = sp.signal.periodogram(tod.data_calibrated, fs=1/(tod.time[1] - tod.time[0]), window=\"tukey\")\n",
    "\n",
    "fig, axes = plt.subplots(1, 2, figsize=(10, 4), dpi=256, tight_layout=True, gridspec_kw={'width_ratios': [1, 1.6]})\n",
    "fig.suptitle('Raw time streams')\n",
    "\n",
    "for i in range(-20,20,2): axes[0].plot(np.logspace(-7, 3,100), np.logspace(-7, 3,100) ** (-8 / 3)/1e11/(10**i), c = 'gray', alpha = 0.2, ls = '--', lw = 0.5)\n",
    "axes[0].text(1.2e-1,1e-2, r\"y = f$^{-(8/3)}$\", c = 'gray', alpha = 0.5, rotation = -64)\n",
    "\n",
    "axes[0].plot(f[1:], ps.mean(axis=0)[1:], label=\"Real\", alpha = 1., c = 'C0', lw = 2, ls = '-')\n",
    "for key in tod._data.keys():\n",
    "    f_, ps_ = sp.signal.periodogram(tod._data[key], fs=1/(tod.time[1] - tod.time[0]), window=\"tukey\")\n",
    "    \n",
    "    if key == 'map':\n",
    "        axes[0].plot(f_[1:], ps_.mean(axis=0)[1:], alpha = .7, label= 'data', c = 'C1', lw = 1, ls = '-')\n",
    "    else:\n",
    "        axes[0].plot(f_[1:], ps_.mean(axis=0)[1:], alpha = .4, c = 'k', lw = 1, ls = '-')\n",
    "\n",
    "axes[0].plot(f_[1:], ps_.mean(axis=0)[1:], alpha = .4, c = 'k', lw = 1, ls = '-')\n",
    "\n",
    "axes[0].set_xlabel(r\"$\\mathcal{f}$ [Hz]\"), \n",
    "axes[0].set_ylabel(r\"$\\mathcal{P}_{\\rm Hz}[K_{\\rm RJ}^2~{\\rm Hz}^{-1}]$\")\n",
    "axes[0].loglog()\n",
    "axes[0].legend(loc = 1, frameon=False)\n",
    "axes[0].axis(xmin=1e-3, xmax = 1e3, ymin = 1e-14, ymax = 1e2)\n",
    "\n",
    "axes[1].set_xlabel('Time [minutes]'), axes[1].set_ylabel(\"\\n\"+r'$I_\\nu$ [$K_{\\rm RJ}$]')\n",
    "axes[1].plot((tod.time - tod.time[0])/60, tod.data_calibrated[0], label = 'Real', alpha = 1., c = 'C0', lw = 1, ls = '-')\n",
    "plt.show()"
   ]
  },
  {
   "cell_type": "code",
   "execution_count": null,
   "metadata": {},
   "outputs": [],
   "source": [
    "# visualize scanning patern\n",
    "# -----------------------\n",
    "cmap = \"RdBu_r\"\n",
    "\n",
    "# visualize powerspectrum\n",
    "# -----------------------\n",
    "f, ps = sp.signal.periodogram(tod.data_calibrated, fs=1/(tod.time[1] - tod.time[0]), window=\"tukey\")\n",
    "\n",
    "fig, axes = plt.subplots(1, 1, figsize=(4, 4.5), dpi=256, tight_layout=True)\n",
    "\n",
    "for i in range(-20,20,2): axes.plot(np.logspace(-7, 3,100), np.logspace(-7, 3,100) ** (-8 / 3)/1e11/(10**i), c = 'gray', alpha = 0.2, ls = '--', lw = 0.5)\n",
    "axes.text(2.0e-2,1e-0, r\"y = f$^{-(8/3)}$\", c = 'gray', alpha = 0.5, rotation = -50)\n",
    "\n",
    "for key in tod._data.keys():\n",
    "    \n",
    "    if key == 'map':\n",
    "        f_, ps_ = sp.signal.periodogram(tod._data[key]*0.8/ 0.3 * tod.abscal, fs=1/(tod.time[1] - tod.time[0]), window=\"tukey\")\n",
    "        axes.plot(f_[1:], ps_.mean(axis=0)[1:], alpha = .4, c = f\"C3\", lw = 1, ls = '-', label = key)\n",
    "    elif key == 'atmosphere':\n",
    "        f_, ps_ = sp.signal.periodogram(tod._data[key]*0.8/ 0.3 * tod.abscal, fs=1/(tod.time[1] - tod.time[0]), window=\"tukey\")\n",
    "        axes.plot(f_[1:], ps_.mean(axis=0)[1:], alpha = .4, c = f\"C1\", lw = 1, ls = '-', label = key)\n",
    "    elif key == 'noise':\n",
    "        f_, ps_ = sp.signal.periodogram(tod._data[key]/ 0.3 * tod.abscal, fs=1/(tod.time[1] - tod.time[0]), window=\"tukey\")\n",
    "        axes.plot(f_[1:], ps_.mean(axis=0)[1:], alpha = .4, c = f\"C2\", lw = 1, ls = '-', label = 'white+pink noise')\n",
    "\n",
    "axes.plot(f[1:], ps.mean(axis=0)[1:], label=\"Combined\", alpha = 0.7, c = 'C0', lw = 1.5, ls = '-')\n",
    "\n",
    "axes.set_xlabel(r\"$\\mathcal{f}$ [Hz]\"), \n",
    "axes.set_ylabel(r\"$\\mathcal{P}_{\\rm Hz}[K_{\\rm RJ}^2~{\\rm Hz}^{-1}]$\")\n",
    "axes.loglog()\n",
    "axes.legend(loc = 1, frameon=False)\n",
    "axes.axis(xmin=1e-3, xmax = 2e2, ymin = 1e-10, ymax = 1e2)\n",
    "# plt.savefig('/Users/jvanmarr/Documents/Papers/mock_obs/paper_plots/AtLAST_powerspectra.pdf')\n",
    "plt.show()"
   ]
  },
  {
   "cell_type": "markdown",
   "metadata": {},
   "source": [
    "## Map-Making\n",
    "\n",
    "As previously mentioned, we must disable Fourier filtering. Additionally, we have adjusted the height and width of the map to match the realistic AtLAST field of view, which spans several degrees."
   ]
  },
  {
   "cell_type": "code",
   "execution_count": null,
   "metadata": {},
   "outputs": [],
   "source": [
    "# scan velocity\n",
    "fov               = (field_of_view*u.degree).to(u.arcsec)\n",
    "scn_velocity      = scanning_speed * u.degree/u.s\n",
    "filter_freq       = (scn_velocity/fov).to(u.Hz).value *0.1\n"
   ]
  },
  {
   "cell_type": "code",
   "execution_count": null,
   "metadata": {},
   "outputs": [],
   "source": [
    "filter_freq "
   ]
  },
  {
   "cell_type": "code",
   "execution_count": null,
   "metadata": {},
   "outputs": [],
   "source": [
    "\n",
    "mapper = BinMapper(\n",
    "    center=(tod.coords.center_ra, tod.coords.center_dec),\n",
    "    frame=\"ra_dec\",\n",
    "    width=np.radians(1),\n",
    "    height=np.radians(1),\n",
    "    res=np.radians(4./3600.),\n",
    "    degrees=False,\n",
    "    calibrate = True,\n",
    "    tod_postprocessing={\"remove_modes\": {\"n\": 1}, \"highpass\": {\"f\": filter_freq}, \"despline\":{}},\n",
    "    map_postprocessing={\"gaussian_filter\": {\"sigma\": 2}},\n",
    "    units=\"Jy/pixel\"\n",
    ")\n",
    "\n",
    "mapper.add_tods(tod)\n",
    "mapper.run()"
   ]
  },
  {
   "cell_type": "code",
   "execution_count": null,
   "metadata": {},
   "outputs": [],
   "source": [
    "fig, axes = plt.subplots(\n",
    "    1,\n",
    "    2,\n",
    "    figsize=(10, 4.5),\n",
    "    dpi=256,\n",
    "    tight_layout=True,\n",
    "    gridspec_kw={\"width_ratios\": [1, 1.5]},\n",
    ")\n",
    "fig.suptitle(\"Detector setup for one band\")\n",
    "\n",
    "for uband in sim.instrument.bands:\n",
    "    band_mask = sim.instrument.dets.band == uband\n",
    "\n",
    "    axes[0].plot(\n",
    "        60 * np.degrees(tod.boresight.ra - tod.boresight.ra.mean()),\n",
    "        60 * np.degrees(tod.boresight.dec - tod.boresight.dec.mean()),\n",
    "        lw=5e-1,\n",
    "        alpha=0.5,\n",
    "        label=\"Scanning Pattern\",\n",
    "    )\n",
    "    axes[0].scatter(\n",
    "        60 * np.degrees(sim.instrument.offset_x),\n",
    "        60 * np.degrees(sim.instrument.offset_y),\n",
    "        label=f\"{uband} mean\",\n",
    "        lw=5e-1,\n",
    "        c=\"orange\",\n",
    "    )\n",
    "\n",
    "axes[0].set_xlabel(r\"$\\theta_x$ offset (arcminutes)\")\n",
    "axes[0].set_ylabel(r\"$\\theta_y$ offset (arcminutes)\")\n",
    "# axes[0].legend()\n",
    "\n",
    "xs, ys = np.meshgrid(\n",
    "    60 * np.rad2deg((mapper.x_bins[1:] + mapper.x_bins[:-1]) / 2),\n",
    "    60 * np.rad2deg((mapper.y_bins[1:] + mapper.y_bins[:-1]) / 2),\n",
    ")\n",
    "\n",
    "im = axes[1].pcolormesh(\n",
    "    xs,\n",
    "    ys,\n",
    "    mapper.raw_map_cnts[tod.dets.band[0]],\n",
    "    label=\"Photon counts in band \" + tod.dets.band[0],\n",
    ")\n",
    "\n",
    "axes[1].set_xlabel(r\"$\\theta_x$ (arcmin)\"), axes[1].set_ylabel(r\"$\\theta_y$ (arcmin)\")\n",
    "cbar = plt.colorbar(im, ax=axes[1])\n",
    "cbar.set_label(\"Counts\")\n",
    "plt.show()"
   ]
  },
  {
   "cell_type": "markdown",
   "metadata": {},
   "source": [
    "## Save & Visualize"
   ]
  },
  {
   "cell_type": "code",
   "execution_count": null,
   "metadata": {},
   "outputs": [],
   "source": [
    "mapper.save_maps(outfile_map)"
   ]
  },
  {
   "cell_type": "code",
   "execution_count": null,
   "metadata": {},
   "outputs": [],
   "source": [
    "# lower = SkyCoord(ra = (pointing_center[0]-2.5/60)*u.deg, dec=(pointing_center[1]-2.5/60.0)*u.deg)\n",
    "# upper = SkyCoord(ra = (pointing_center[0]+2.5/60)*u.deg, dec=(pointing_center[1]+2.5/60.0)*u.deg)\n",
    "\n",
    "lower = SkyCoord(ra = (pointing_center[0]-0.5/60)*u.deg, dec=(pointing_center[1]-0.5/60.0)*u.deg)\n",
    "upper = SkyCoord(ra = (pointing_center[0]+0.5/60)*u.deg, dec=(pointing_center[1]+0.5/60.0)*u.deg)\n",
    "\n",
    "# - Plot Mock observation\n",
    "outputfile = outfile_map\n",
    "\n",
    "hdu_out = fits.open(outputfile)\n",
    "wcs_output = WCS(hdu_out[0].header, naxis=2)\n",
    "\n",
    "pixel_lower = wcs_output.world_to_pixel(lower)\n",
    "pixel_upper = wcs_output.world_to_pixel(upper)\n",
    "\n",
    "sliced_image = hdu_out[0].data[0] #* utils.units.KbrightToJyPix(hdu_out[0].header[\"CRVAL3\"], hdu_out[0].header[\"CDELT1\"], hdu_out[0].header[\"CDELT2\"])\n",
    "# sliced_image = hdu_out[0].data[0][int(pixel_lower[0]):int(pixel_upper[0]), int(pixel_lower[1]):int(pixel_upper[1])] * utils.units.KbrightToJyPix(hdu_out[0].header[\"CRVAL3\"], hdu_out[0].header[\"CDELT1\"], hdu_out[0].header[\"CDELT2\"])\n",
    "sliced_wcs = wcs_output[int(pixel_lower[0]):int(pixel_upper[0]), int(pixel_lower[1]):int(pixel_upper[1])] \n",
    "\n",
    "# - Plot\n",
    "\n",
    "fig = plt.figure(dpi=512, tight_layout=False)\n",
    "fig.set_size_inches(6, 4, forward=True)\n",
    "\n",
    "ax = plt.subplot(1, 1, 1, projection=wcs_output)\n",
    "# ax = plt.subplot(1, 1, 1, projection=sliced_wcs)\n",
    "\n",
    "im = ax.imshow(\n",
    "    sliced_image * 1e6, cmap=cmap, \n",
    "    vmin=-4*np.nanstd(hdu_out[0].data[0]) * 1e6, \n",
    "    vmax=4*np.nanstd(hdu_out[0].data[0]) * 1e6,\n",
    "    rasterized=True\n",
    ")\n",
    "\n",
    "cbar = plt.colorbar(im, ax=ax, shrink=1.0)\n",
    "cbar.set_label(r\"S$_{93~\\rm GHz}$ [MJy/sr]\")\n",
    "\n",
    "ra, dec = ax.coords\n",
    "ra.set_major_formatter(\"hh:mm:ss\")\n",
    "dec.set_major_formatter(\"dd:mm:ss\")\n",
    "ra.set_axislabel(r\"RA [J2000]\", size=11)\n",
    "dec.set_axislabel(r\"Dec [J2000]\", size=11)\n",
    "ra.set_separator((\"h\", \"m\"))\n",
    "\n",
    "ax.invert_xaxis()\n",
    "\n",
    "plt.tight_layout()\n",
    "# plt.savefig(f'/Users/jvanmarr/Documents/Papers/mock_obs/paper_plots/synthethic_map.pdf', dpi = fig.dpi)\n",
    "plt.show()"
   ]
  },
  {
   "cell_type": "code",
   "execution_count": null,
   "metadata": {},
   "outputs": [],
   "source": [
    "# tod.to_fits()\n",
    "# TOD.from_fits()"
   ]
  },
  {
   "cell_type": "code",
   "execution_count": null,
   "metadata": {},
   "outputs": [],
   "source": []
  },
  {
   "cell_type": "code",
   "execution_count": null,
   "metadata": {},
   "outputs": [],
   "source": []
  }
 ],
 "metadata": {
  "kernelspec": {
   "display_name": "Python 3 (ipykernel)",
   "language": "python",
   "name": "python3"
  },
  "language_info": {
   "codemirror_mode": {
    "name": "ipython",
    "version": 3
   },
   "file_extension": ".py",
   "mimetype": "text/x-python",
   "name": "python",
   "nbconvert_exporter": "python",
   "pygments_lexer": "ipython3",
   "version": "3.10.13"
  },
  "vscode": {
   "interpreter": {
    "hash": "f88e5bf5f0be7bd9faa88242bcf07e5ffa7d513506f360fd3aab8d7c0fbd2667"
   }
  }
 },
 "nbformat": 4,
 "nbformat_minor": 4
}
